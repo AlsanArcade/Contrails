{
 "cells": [
  {
   "cell_type": "code",
   "execution_count": 1,
   "id": "ee2dba06-b108-4654-b7c6-ac93d8aad79f",
   "metadata": {
    "tags": []
   },
   "outputs": [
    {
     "name": "stdout",
     "output_type": "stream",
     "text": [
      "/home/albert/ml/Contrails/notebooks/full_dataset/test_use_all_bands/resnest26d_ash_attention_sample_loss/resnest101e_alpha=0.35_alpha_union=0.2_weight_ground_truth=0.6\n"
     ]
    }
   ],
   "source": [
    "!pwd\n"
   ]
  },
  {
   "cell_type": "code",
   "execution_count": null,
   "id": "e1b73eb7-2484-441f-bfc4-14f13800db39",
   "metadata": {},
   "outputs": [],
   "source": []
  }
 ],
 "metadata": {
  "kernelspec": {
   "display_name": "Python 3 (ipykernel)",
   "language": "python",
   "name": "python3"
  },
  "language_info": {
   "codemirror_mode": {
    "name": "ipython",
    "version": 3
   },
   "file_extension": ".py",
   "mimetype": "text/x-python",
   "name": "python",
   "nbconvert_exporter": "python",
   "pygments_lexer": "ipython3",
   "version": "3.11.4"
  }
 },
 "nbformat": 4,
 "nbformat_minor": 5
}
