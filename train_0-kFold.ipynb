{
 "cells": [
  {
   "cell_type": "code",
   "execution_count": 4,
   "id": "6b353ec2-07e9-493c-8d29-76a25b1b46ce",
   "metadata": {
    "tags": []
   },
   "outputs": [],
   "source": [
    "import deepdish\n",
    "import glob\n",
    "# import h5py11\n",
    "import lightning as L\n",
    "from lightning.pytorch.loggers import CSVLogger, TensorBoardLogger\n",
    "from lightning.pytorch.callbacks import ModelCheckpoint, EarlyStopping, TQDMProgressBar\n",
    "import matplotlib.pyplot as plt\n",
    "import numpy as np\n",
    "import os\n",
    "import pandas as pd\n",
    "import segmentation_models_pytorch as smp\n",
    "import torchvision.transforms as T\n",
    "import torch\n",
    "import torch.nn as nn\n",
    "from torch.optim.lr_scheduler import CosineAnnealingLR, ReduceLROnPlateau\n",
    "from torch.optim import AdamW\n",
    "from torchmetrics.functional import dice\n",
    "from torch.utils.data import Dataset, DataLoader\n",
    "import warnings\n",
    "import yaml\n",
    "# from pprint import pprint\n",
    "\n",
    "warnings.filterwarnings(\"ignore\")"
   ]
  },
  {
   "cell_type": "code",
   "execution_count": 5,
   "id": "6d00d179-b2d3-4942-85d2-eaf6bcc022e3",
   "metadata": {
    "tags": []
   },
   "outputs": [
    {
     "data": {
      "text/plain": [
       "'/home/albert/ml/Contrails/notebooks/full_dataset/test_use_all_bands'"
      ]
     },
     "execution_count": 5,
     "metadata": {},
     "output_type": "execute_result"
    }
   ],
   "source": [
    "%pwd"
   ]
  },
  {
   "cell_type": "code",
   "execution_count": 6,
   "id": "0e08cd3f-a7d3-4143-94cb-e17d171b1aaf",
   "metadata": {},
   "outputs": [],
   "source": [
    "torch.set_float32_matmul_precision('medium')"
   ]
  },
  {
   "cell_type": "code",
   "execution_count": 7,
   "id": "8de38daf-40c2-47e1-90cd-56d535a695a1",
   "metadata": {
    "editable": true,
    "slideshow": {
     "slide_type": ""
    },
    "tags": []
   },
   "outputs": [],
   "source": [
    "data_path_mf_train = \"/home/albert/ml/Contrails/data/full_dataset/train/\"\n",
    "data_path_mf_valid = \"/home/albert/ml/Contrails/data/full_dataset/validation/\""
   ]
  },
  {
   "cell_type": "markdown",
   "id": "0192718b-b8fb-4525-adc9-16351e58080c",
   "metadata": {},
   "source": [
    "### Create and save config"
   ]
  },
  {
   "cell_type": "code",
   "execution_count": 25,
   "id": "f7ff48c7-e6d8-42f6-84c7-5c3524a1034d",
   "metadata": {
    "tags": []
   },
   "outputs": [
    {
     "name": "stdout",
     "output_type": "stream",
     "text": [
      "mkdir: cannot create directory ‘./resnest101e_ash_attention_sample_loss_kfold’: File exists\n"
     ]
    }
   ],
   "source": [
    "!mkdir \"./resnest101e_ash_attention_sample_loss_kfold\""
   ]
  },
  {
   "cell_type": "code",
   "execution_count": 29,
   "id": "b02b5b3b-d868-4ff8-a04c-3ddfce2807c3",
   "metadata": {
    "tags": []
   },
   "outputs": [
    {
     "name": "stdout",
     "output_type": "stream",
     "text": [
      "Overwriting resnest101e_ash_attention_sample_loss_kfold.yaml\n"
     ]
    }
   ],
   "source": [
    "%%writefile resnest101e_ash_attention_sample_loss_kfold.yaml\n",
    "\n",
    "output_dir: \"./resnest101e_ash_attention_sample_loss_kfold\"\n",
    "\n",
    "folds:\n",
    "    n_splits: 4\n",
    "    random_state: 42\n",
    "train_folds: [3]\n",
    "\n",
    "seed: 42\n",
    "\n",
    "train_bs: 42\n",
    "valid_bs: 60\n",
    "workers: 6\n",
    "\n",
    "progress_bar_refresh_rate: 1\n",
    "\n",
    "early_stop:\n",
    "    monitor: \"val_loss\"\n",
    "    mode: \"min\"\n",
    "    patience: 5\n",
    "    verbose: 1\n",
    "\n",
    "trainer:\n",
    "    max_epochs: 24\n",
    "    min_epochs: 20\n",
    "    enable_progress_bar: True\n",
    "    precision: \"16-mixed\"\n",
    "    devices: 1\n",
    "\n",
    "model:\n",
    "    alpha: -1.0\n",
    "    beta: -1.0\n",
    "    alpha_union: -1.0\n",
    "    beta_union: -1.0\n",
    "    weight_union: -1.0\n",
    "    weight_ground_truth: -1.0\n",
    "    seg_model: \"Unet\"\n",
    "    encoder_name: \"timm-resnest101e\"\n",
    "    encoder_depth: 5\n",
    "    loss_smooth: 1.0\n",
    "    decoder_attention_type: \"scse\"\n",
    "    image_size: 384\n",
    "    optimizer_params:\n",
    "        lr: 0.0005\n",
    "        weight_decay: 0.0\n",
    "        eps: 1.0e-6\n",
    "    scheduler:\n",
    "        name: \"CosineAnnealingLR\"\n",
    "        params:\n",
    "            CosineAnnealingLR:\n",
    "                T_max: 2\n",
    "                eta_min: 1.0e-6\n",
    "                last_epoch: -1\n",
    "            ReduceLROnPlateau:\n",
    "                mode: \"min\"\n",
    "                factor: 0.31622776601\n",
    "                patience: 4\n",
    "                verbose: True"
   ]
  },
  {
   "cell_type": "code",
   "execution_count": 30,
   "id": "87297f85-7dd2-4b4d-ad00-7234ccc462a2",
   "metadata": {
    "tags": []
   },
   "outputs": [],
   "source": [
    "with open(\"resnest101e_ash_attention_sample_loss_kfold.yaml\", \"r\") as file_obj:\n",
    "    resnest101e_ash_attention_sample_loss_kfold = yaml.safe_load(file_obj)"
   ]
  },
  {
   "cell_type": "markdown",
   "id": "a36dd0f1-17b7-46f3-bf7c-745e10b6ffa9",
   "metadata": {
    "jp-MarkdownHeadingCollapsed": true,
    "tags": []
   },
   "source": [
    "### 101 512"
   ]
  },
  {
   "cell_type": "code",
   "execution_count": 63,
   "id": "fc6f06ab-9cd1-4620-9cbd-bf493743cf0e",
   "metadata": {
    "tags": []
   },
   "outputs": [],
   "source": [
    "!mkdir \"./resnest101e_ash_attention_sample_loss_kfold_512\""
   ]
  },
  {
   "cell_type": "code",
   "execution_count": 64,
   "id": "96ed271d-6809-43d8-81e0-4270b40355d2",
   "metadata": {
    "tags": []
   },
   "outputs": [
    {
     "name": "stdout",
     "output_type": "stream",
     "text": [
      "Writing resnest101e_ash_attention_sample_loss_kfold_512.yaml\n"
     ]
    }
   ],
   "source": [
    "%%writefile resnest101e_ash_attention_sample_loss_kfold_512.yaml\n",
    "\n",
    "output_dir: \"./resnest101e_ash_attention_sample_loss_kfold_512\"\n",
    "\n",
    "folds:\n",
    "    n_splits: 4\n",
    "    random_state: 42\n",
    "train_folds: [0, 1, 2, 3]\n",
    "\n",
    "seed: 42\n",
    "\n",
    "train_bs: 20\n",
    "valid_bs: 30\n",
    "workers: 6\n",
    "\n",
    "progress_bar_refresh_rate: 1\n",
    "\n",
    "early_stop:\n",
    "    monitor: \"val_loss\"\n",
    "    mode: \"min\"\n",
    "    patience: 5\n",
    "    verbose: 1\n",
    "\n",
    "trainer:\n",
    "    max_epochs: 30\n",
    "    min_epochs: 24\n",
    "    enable_progress_bar: True\n",
    "    precision: \"16-mixed\"\n",
    "    devices: 1\n",
    "\n",
    "model:\n",
    "    alpha: -1.0\n",
    "    beta: -1.0\n",
    "    alpha_union: -1.0\n",
    "    beta_union: -1.0\n",
    "    weight_union: -1.0\n",
    "    weight_ground_truth: -1.0\n",
    "    seg_model: \"Unet\"\n",
    "    encoder_name: \"timm-resnest101e\"\n",
    "    encoder_depth: 5\n",
    "    loss_smooth: 1.0\n",
    "    decoder_attention_type: \"scse\"\n",
    "    image_size: 384\n",
    "    optimizer_params:\n",
    "        lr: 0.0005\n",
    "        weight_decay: 0.0\n",
    "        eps: 1.0e-6\n",
    "    scheduler:\n",
    "        name: \"CosineAnnealingLR\"\n",
    "        params:\n",
    "            CosineAnnealingLR:\n",
    "                T_max: 2\n",
    "                eta_min: 1.0e-6\n",
    "                last_epoch: -1\n",
    "            ReduceLROnPlateau:\n",
    "                mode: \"min\"\n",
    "                factor: 0.31622776601\n",
    "                patience: 4\n",
    "                verbose: True"
   ]
  },
  {
   "cell_type": "code",
   "execution_count": 65,
   "id": "ff9a1231-75c6-41a0-8856-2fbc747ea271",
   "metadata": {
    "tags": []
   },
   "outputs": [],
   "source": [
    "with open(\"resnest101e_ash_attention_sample_loss_kfold_512.yaml\", \"r\") as file_obj:\n",
    "    resnest101e_ash_attention_sample_loss_kfold_512 = yaml.safe_load(file_obj)"
   ]
  },
  {
   "cell_type": "markdown",
   "id": "389217bc-a879-4094-b6fd-3243fc0145ef",
   "metadata": {
    "tags": []
   },
   "source": [
    "### Dataset for full dataset"
   ]
  },
  {
   "cell_type": "code",
   "execution_count": 11,
   "id": "e969d63d-1dc0-49d0-85ba-0df41ccaa225",
   "metadata": {
    "tags": []
   },
   "outputs": [],
   "source": [
    "class ContrailsDatasetDf(Dataset):\n",
    "    def __init__(self, df, split=\"train\", mode=\"single\", delta_t = 0):\n",
    "        self.delta_t = delta_t\n",
    "        self.split = split\n",
    "        self.mode = mode\n",
    "        self.normalize_image = T.Normalize((0.485, 0.456, 0.406), (0.229, 0.224, 0.225))\n",
    "        self.df=df\n",
    "    \n",
    "    def read_record(self, directory):\n",
    "        record_data = {}\n",
    "        for x in [\n",
    "            \"band_11\", \n",
    "            \"band_14\", \n",
    "            \"band_15\"\n",
    "        ]:\n",
    "            record_data[x] = np.load(os.path.join(directory, x + \".npy\"))\n",
    "\n",
    "        return record_data\n",
    "\n",
    "    def normalize_range(self, data, bounds):\n",
    "        \"\"\"Maps data to the range [0, 1].\"\"\"\n",
    "        return (data - bounds[0]) / (bounds[1] - bounds[0])\n",
    "    \n",
    "    def get_false_color(self, record_data):\n",
    "        _T11_BOUNDS = (243, 303)\n",
    "        _CLOUD_TOP_TDIFF_BOUNDS = (-4, 5)\n",
    "        _TDIFF_BOUNDS = (-4, 2)\n",
    "        r = self.normalize_range(record_data[\"band_15\"] - record_data[\"band_14\"], _TDIFF_BOUNDS)\n",
    "        g = self.normalize_range(record_data[\"band_14\"] - record_data[\"band_11\"], _CLOUD_TOP_TDIFF_BOUNDS)\n",
    "        b = self.normalize_range(record_data[\"band_14\"], _T11_BOUNDS)\n",
    "        false_color = np.clip(np.stack([r, g, b], axis=2), 0, 1)\n",
    "        if self.mode == \"single\":\n",
    "            t_null = 4\n",
    "            return false_color[..., t_null+self.delta_t]\n",
    "        else:\n",
    "            return false_color\n",
    "    \n",
    "    def __getitem__(self, index):\n",
    "        row = self.df.iloc[index]\n",
    "        path = row.path\n",
    "        data = self.read_record(path)    \n",
    "        img = self.get_false_color(data)\n",
    "        if self.split == \"validation\":\n",
    "            label = np.load(os.path.join(path, \"human_pixel_masks.npy\")).squeeze()\n",
    "            label = torch.Tensor(label).to(torch.int64)\n",
    "        if self.split == \"train\":\n",
    "            label = np.load(os.path.join(path, \"human_pixel_masks.npy\")).squeeze()\n",
    "            label = torch.Tensor(label).to(torch.int64)\n",
    "            label_indiv = np.load(os.path.join(path, \"human_individual_masks.npy\")).squeeze()\n",
    "            labelers = label_indiv[1,1,:].shape[0]\n",
    "            label_union = torch.zeros([256, 256])\n",
    "            for i in range(labelers):\n",
    "                label_i = label_indiv[:, :,i]\n",
    "                label_union[label_i[:, :] == 1] = 1   \n",
    "\n",
    "        if self.mode == \"single\":\n",
    "            img = torch.tensor(np.reshape(img, (256, 256, 3, -1))).to(torch.float32).permute(3, 2, 0, 1).squeeze()\n",
    "        else:\n",
    "            img = torch.tensor(np.reshape(img, (256, 256, 3, -1))).to(torch.float32).permute(3, 2, 0, 1)\n",
    "\n",
    "        img = self.normalize_image(img)\n",
    "\n",
    "        if self.split in [\"train\"]:\n",
    "            return img.float(), [label.float(),label_union.float()]\n",
    "        if self.split in [\"validation\"]:\n",
    "            return img.float(), label.float()\n",
    "\n",
    "        return img.float()\n",
    "    \n",
    "    def __len__(self):\n",
    "        return len(self.df)"
   ]
  },
  {
   "cell_type": "code",
   "execution_count": 12,
   "id": "b714e70f-9a7a-44f4-85d2-ad14a4b8797b",
   "metadata": {
    "tags": []
   },
   "outputs": [],
   "source": [
    "class ContrailsDatasetMixed(Dataset):\n",
    "    def __init__(self, split=\"train\", mode=\"single\", delta_t = 0):\n",
    "        self.delta_t = delta_t\n",
    "        self.split = split\n",
    "        self.mode = mode\n",
    "        self.path = (lambda x: data_path_mf_train if x == \"train\" else data_path_mf_valid)(self.split)\n",
    "        self.examples = os.listdir(self.path)\n",
    "        self.normalize_image = T.Normalize((0.485, 0.456, 0.406), (0.229, 0.224, 0.225))\n",
    "    \n",
    "    def read_record(self, directory):\n",
    "        record_data = {}\n",
    "        for x in [\n",
    "            \"band_11\", \n",
    "            \"band_14\", \n",
    "            \"band_15\"\n",
    "        ]:\n",
    "            record_data[x] = np.load(os.path.join(directory, x + \".npy\"))\n",
    "\n",
    "        return record_data\n",
    "\n",
    "    def normalize_range(self, data, bounds):\n",
    "        \"\"\"Maps data to the range [0, 1].\"\"\"\n",
    "        return (data - bounds[0]) / (bounds[1] - bounds[0])\n",
    "    \n",
    "    def get_false_color(self, record_data):\n",
    "        _T11_BOUNDS = (243, 303)\n",
    "        _CLOUD_TOP_TDIFF_BOUNDS = (-4, 5)\n",
    "        _TDIFF_BOUNDS = (-4, 2)\n",
    "        r = self.normalize_range(record_data[\"band_15\"] - record_data[\"band_14\"], _TDIFF_BOUNDS)\n",
    "        g = self.normalize_range(record_data[\"band_14\"] - record_data[\"band_11\"], _CLOUD_TOP_TDIFF_BOUNDS)\n",
    "        b = self.normalize_range(record_data[\"band_14\"], _T11_BOUNDS)\n",
    "        false_color = np.clip(np.stack([r, g, b], axis=2), 0, 1)\n",
    "        if self.mode == \"single\":\n",
    "            t_null = 4\n",
    "            return false_color[..., t_null+self.delta_t]\n",
    "        else:\n",
    "            return false_color\n",
    "    \n",
    "    def __getitem__(self, index):\n",
    "        path = f\"{self.path}{self.examples[index]}\"\n",
    "        data = self.read_record(path)    \n",
    "        img = self.get_false_color(data)\n",
    "        if self.split == \"validation\":\n",
    "            label = np.load(os.path.join(path, \"human_pixel_masks.npy\")).squeeze()\n",
    "            label = torch.Tensor(label).to(torch.int64)\n",
    "        if self.split == \"train\":\n",
    "            label = np.load(os.path.join(path, \"human_pixel_masks.npy\")).squeeze()\n",
    "            label = torch.Tensor(label).to(torch.int64)\n",
    "            label_indiv = np.load(os.path.join(path, \"human_individual_masks.npy\")).squeeze()\n",
    "            labelers = label_indiv[1,1,:].shape[0]\n",
    "            label_union = torch.zeros([256, 256])\n",
    "            for i in range(labelers):\n",
    "                label_i = label_indiv[:, :,i]\n",
    "                label_union[label_i[:, :] == 1] = 1   \n",
    "\n",
    "        if self.mode == \"single\":\n",
    "            img = torch.tensor(np.reshape(img, (256, 256, 3, -1))).to(torch.float32).permute(3, 2, 0, 1).squeeze()\n",
    "        else:\n",
    "            img = torch.tensor(np.reshape(img, (256, 256, 3, -1))).to(torch.float32).permute(3, 2, 0, 1)\n",
    "\n",
    "        img = self.normalize_image(img)\n",
    "\n",
    "        if self.split in [\"train\"]:\n",
    "            return img.float(), [label.float(),label_union.float()]\n",
    "        if self.split in [\"validation\"]:\n",
    "            return img.float(), label.float()\n",
    "\n",
    "        return img.float()\n",
    "    \n",
    "    def __len__(self):\n",
    "        return len(self.examples)"
   ]
  },
  {
   "cell_type": "markdown",
   "id": "d9b8cacf-b51a-494d-935a-184ad3c34c42",
   "metadata": {
    "tags": []
   },
   "source": [
    "### Testing new training labels"
   ]
  },
  {
   "cell_type": "markdown",
   "id": "8d8c5c34-c62c-4ef2-a178-716155ff19ad",
   "metadata": {
    "tags": []
   },
   "source": [
    "### Lightning Module"
   ]
  },
  {
   "cell_type": "markdown",
   "id": "a72618b1-7fff-47f3-b3b5-549883484704",
   "metadata": {
    "tags": []
   },
   "source": [
    "#### Tversky loss"
   ]
  },
  {
   "cell_type": "code",
   "execution_count": 13,
   "id": "497f0244-94be-4bf2-b72c-d9d8cc4a9255",
   "metadata": {
    "tags": []
   },
   "outputs": [],
   "source": [
    "class LightningModuleTrLoss(L.LightningModule):\n",
    "    def __init__(self, config):\n",
    "        super().__init__()\n",
    "        self.config = config\n",
    "        # print(config[\"aux_params\"])\n",
    "        self.model = model = smp.Unet(\n",
    "            encoder_name=config[\"encoder_name\"],\n",
    "            encoder_depth=config[\"encoder_depth\"],\n",
    "            decoder_channels = (256, 128, 64, 32,16)[:config[\"encoder_depth\"]],\n",
    "            # aux_params = config[\"aux_params\"],\n",
    "            decoder_attention_type =config[\"decoder_attention_type\"],\n",
    "            encoder_weights=\"imagenet\",\n",
    "            in_channels=3,\n",
    "            classes=1,\n",
    "            activation=None,\n",
    "        )\n",
    "        self.loss_module = smp.losses.DiceLoss(mode=\"binary\", smooth=config[\"loss_smooth\"])\n",
    "        self.val_step_outputs = []\n",
    "        self.val_step_labels = []\n",
    "        self.alpha = config[\"alpha\"]\n",
    "        self.beta = config[\"beta\"]\n",
    "        self.alpha_union = config[\"alpha_union\"]\n",
    "        self.beta_union = config[\"beta_union\"]\n",
    "\n",
    "    def forward(self, batch):\n",
    "        imgs = batch\n",
    "        preds = self.model(imgs)\n",
    "        return preds\n",
    "\n",
    "    def configure_optimizers(self):\n",
    "        optimizer = AdamW(self.parameters(), **self.config[\"optimizer_params\"])\n",
    "\n",
    "        if self.config[\"scheduler\"][\"name\"] == \"CosineAnnealingLR\":\n",
    "            scheduler = CosineAnnealingLR(\n",
    "                optimizer,\n",
    "                **self.config[\"scheduler\"][\"params\"][\"CosineAnnealingLR\"],\n",
    "            )\n",
    "            lr_scheduler_dict = {\"scheduler\": scheduler, \"interval\": \"step\"}\n",
    "            return {\"optimizer\": optimizer, \"lr_scheduler\": lr_scheduler_dict}\n",
    "        elif self.config[\"scheduler\"][\"name\"] == \"ReduceLROnPlateau\":\n",
    "            scheduler = ReduceLROnPlateau(\n",
    "                optimizer,\n",
    "                **self.config[\"scheduler\"][\"params\"][\"ReduceLROnPlateau\"],\n",
    "            )\n",
    "            lr_scheduler = {\"scheduler\": scheduler, \"monitor\": \"val_loss\"}\n",
    "            return {\"optimizer\": optimizer, \"lr_scheduler\": lr_scheduler}\n",
    "\n",
    "    def training_step(self, batch, batch_idx):\n",
    "        imgs, [label_gt,label_union] = batch\n",
    "        preds = self.model(imgs)\n",
    "        if self.config[\"image_size\"] != 256:\n",
    "            preds = torch.nn.functional.interpolate(preds, size=256, mode='bilinear')\n",
    "        loss_ground_truth = smp.losses.TverskyLoss(\"binary\", classes=None, log_loss=False, from_logits=True, smooth=0.0, ignore_index=None, eps=1e-06, alpha=self.alpha, beta=self.beta, gamma=1.0)(preds, label_gt)\n",
    "        loss_union = smp.losses.TverskyLoss(\"binary\", classes=None, log_loss=False, from_logits=True, smooth=0.0, ignore_index=None, eps=1e-06, alpha=self.alpha_union, beta=self.beta_union, gamma=1.0)(preds, label_union)\n",
    "        loss = torch.mul(loss_ground_truth,self.config[\"weight_ground_truth\"])+torch.mul(loss_union, self.config[\"weight_union\"])\n",
    "        self.log('loss_union', float(loss_union) , on_step=False, on_epoch=True, prog_bar=True) #, batch_size=16\n",
    "        self.log('loss_ground_truth', float(loss_ground_truth) , on_step=False, on_epoch=True, prog_bar=True)\n",
    "\n",
    "        for param_group in self.trainer.optimizers[0].param_groups:\n",
    "            lr = param_group[\"lr\"]\n",
    "        self.log(\"lr\", lr, on_step=True, on_epoch=False, prog_bar=True)\n",
    "\n",
    "        return {'loss': loss}\n",
    "\n",
    "    def validation_step(self, batch, batch_idx):\n",
    "        imgs, labels = batch\n",
    "        preds = self.model(imgs)\n",
    "        if self.config[\"image_size\"] != 256:\n",
    "            preds = torch.nn.functional.interpolate(preds, size=256, mode='bilinear')\n",
    "        loss = self.loss_module(preds, labels)\n",
    "        self.log(\"val_loss\", loss, on_step=False, on_epoch=True, prog_bar=True)\n",
    "        self.val_step_outputs.append(preds)\n",
    "        self.val_step_labels.append(labels)\n",
    "\n",
    "    def on_validation_epoch_end(self):\n",
    "        all_preds = torch.cat(self.val_step_outputs)\n",
    "        all_labels = torch.cat(self.val_step_labels)\n",
    "        all_preds = torch.sigmoid(all_preds)\n",
    "        self.val_step_outputs.clear()\n",
    "        self.val_step_labels.clear()\n",
    "        val_dice = dice(all_preds, all_labels.long())\n",
    "        self.log(\"val_dice\", val_dice, on_step=False, on_epoch=True, prog_bar=True)\n",
    "        if self.trainer.global_rank == 0:\n",
    "            print(f\"\\nEpoch: {self.current_epoch}\", flush=True)"
   ]
  },
  {
   "cell_type": "code",
   "execution_count": 14,
   "id": "3ff5bde3-5984-4786-bd9b-de46ce28e855",
   "metadata": {
    "tags": []
   },
   "outputs": [],
   "source": [
    "class LightningModuleTrLoss512(L.LightningModule):\n",
    "    def __init__(self, config):\n",
    "        super().__init__()\n",
    "        self.config = config\n",
    "        # print(config[\"aux_params\"])\n",
    "        self.model = model = smp.Unet(\n",
    "            encoder_name=config[\"encoder_name\"],\n",
    "            encoder_depth=config[\"encoder_depth\"],\n",
    "            decoder_channels = (256, 128, 64, 32,16)[:config[\"encoder_depth\"]],\n",
    "            # aux_params = config[\"aux_params\"],\n",
    "            decoder_attention_type =config[\"decoder_attention_type\"],\n",
    "            encoder_weights=\"imagenet\",\n",
    "            in_channels=3,\n",
    "            classes=1,\n",
    "            activation=None,\n",
    "        )\n",
    "        self.loss_module = smp.losses.DiceLoss(mode=\"binary\", smooth=config[\"loss_smooth\"])\n",
    "        self.val_step_outputs = []\n",
    "        self.val_step_labels = []\n",
    "        self.alpha = config[\"alpha\"]\n",
    "        self.beta = config[\"beta\"]\n",
    "        self.alpha_union = config[\"alpha_union\"]\n",
    "        self.beta_union = config[\"beta_union\"]\n",
    "\n",
    "    def forward(self, batch):\n",
    "        imgs = batch\n",
    "        preds = self.model(imgs)\n",
    "        return preds\n",
    "\n",
    "    def configure_optimizers(self):\n",
    "        optimizer = AdamW(self.parameters(), **self.config[\"optimizer_params\"])\n",
    "\n",
    "        if self.config[\"scheduler\"][\"name\"] == \"CosineAnnealingLR\":\n",
    "            scheduler = CosineAnnealingLR(\n",
    "                optimizer,\n",
    "                **self.config[\"scheduler\"][\"params\"][\"CosineAnnealingLR\"],\n",
    "            )\n",
    "            lr_scheduler_dict = {\"scheduler\": scheduler, \"interval\": \"step\"}\n",
    "            return {\"optimizer\": optimizer, \"lr_scheduler\": lr_scheduler_dict}\n",
    "        elif self.config[\"scheduler\"][\"name\"] == \"ReduceLROnPlateau\":\n",
    "            scheduler = ReduceLROnPlateau(\n",
    "                optimizer,\n",
    "                **self.config[\"scheduler\"][\"params\"][\"ReduceLROnPlateau\"],\n",
    "            )\n",
    "            lr_scheduler = {\"scheduler\": scheduler, \"monitor\": \"val_loss\"}\n",
    "            return {\"optimizer\": optimizer, \"lr_scheduler\": lr_scheduler}\n",
    "\n",
    "    def training_step(self, batch, batch_idx):\n",
    "        imgs, [label_gt,label_union] = batch\n",
    "        imgs = torch.nn.functional.interpolate(imgs, size=512, mode='bilinear')\n",
    "        preds = self.model(imgs)\n",
    "        if self.config[\"image_size\"] != 256:\n",
    "            preds = torch.nn.functional.interpolate(preds, size=256, mode='bilinear')\n",
    "        loss_ground_truth = smp.losses.TverskyLoss(\"binary\", classes=None, log_loss=False, from_logits=True, smooth=0.0, ignore_index=None, eps=1e-06, alpha=self.alpha, beta=self.beta, gamma=1.0)(preds, label_gt)\n",
    "        loss_union = smp.losses.TverskyLoss(\"binary\", classes=None, log_loss=False, from_logits=True, smooth=0.0, ignore_index=None, eps=1e-06, alpha=self.alpha_union, beta=self.beta_union, gamma=1.0)(preds, label_union)\n",
    "        loss = torch.mul(loss_ground_truth,self.config[\"weight_ground_truth\"])+torch.mul(loss_union, self.config[\"weight_union\"])\n",
    "        self.log('loss_union', float(loss_union) , on_step=False, on_epoch=True, prog_bar=True) #, batch_size=16\n",
    "        self.log('loss_ground_truth', float(loss_ground_truth) , on_step=False, on_epoch=True, prog_bar=True)\n",
    "\n",
    "        for param_group in self.trainer.optimizers[0].param_groups:\n",
    "            lr = param_group[\"lr\"]\n",
    "        self.log(\"lr\", lr, on_step=True, on_epoch=False, prog_bar=True)\n",
    "\n",
    "        return {'loss': loss}\n",
    "\n",
    "    def validation_step(self, batch, batch_idx):\n",
    "        imgs, labels = batch\n",
    "        imgs = torch.nn.functional.interpolate(imgs, size=512, mode='bilinear')\n",
    "        preds = self.model(imgs)\n",
    "        if self.config[\"image_size\"] != 256:\n",
    "            preds = torch.nn.functional.interpolate(preds, size=256, mode='bilinear')\n",
    "        loss = self.loss_module(preds, labels)\n",
    "        self.log(\"val_loss\", loss, on_step=False, on_epoch=True, prog_bar=True)\n",
    "        self.val_step_outputs.append(preds)\n",
    "        self.val_step_labels.append(labels)\n",
    "\n",
    "    def on_validation_epoch_end(self):\n",
    "        all_preds = torch.cat(self.val_step_outputs)\n",
    "        all_labels = torch.cat(self.val_step_labels)\n",
    "        all_preds = torch.sigmoid(all_preds)\n",
    "        self.val_step_outputs.clear()\n",
    "        self.val_step_labels.clear()\n",
    "        val_dice = dice(all_preds, all_labels.long())\n",
    "        self.log(\"val_dice\", val_dice, on_step=False, on_epoch=True, prog_bar=True)\n",
    "        if self.trainer.global_rank == 0:\n",
    "            print(f\"\\nEpoch: {self.current_epoch}\", flush=True)"
   ]
  },
  {
   "cell_type": "markdown",
   "id": "3d01a7fb-3c45-4802-a2e2-5d2351397ab6",
   "metadata": {
    "tags": []
   },
   "source": [
    "### Training functions"
   ]
  },
  {
   "cell_type": "code",
   "execution_count": 15,
   "id": "fd0300b8-dcb6-43a2-8451-146b0bd48fbd",
   "metadata": {},
   "outputs": [],
   "source": [
    "def sample_union_loss(delta, cfg, module,alpha, alpha_union, weight_ground_truth):\n",
    "    cfg['model'][\"alpha\"] = alpha\n",
    "    cfg['model'][\"beta\"] = 1-alpha\n",
    "    cfg['model'][\"alpha_union\"] = alpha_union\n",
    "    cfg['model'][\"beta_union\"] = 1-alpha_union\n",
    "    cfg['model'][\"weight_ground_truth\"] = weight_ground_truth\n",
    "    cfg['model'][\"weight_union\"] = 1-weight_ground_truth\n",
    "    identifier = \"resnest101e_alpha=\"+str(alpha)+\"_alpha_union=\"+str(alpha_union)+\"_weight_ground_truth=\"+str(weight_ground_truth)\n",
    "    dataset_train = ContrailsDatasetMixed(\"train\", \"single\",delta)\n",
    "    dataset_validation = ContrailsDatasetMixed(\"validation\",\"single\", delta)\n",
    "    \n",
    "    data_loader_train = DataLoader(\n",
    "    dataset_train,\n",
    "    batch_size=cfg[\"train_bs\"],\n",
    "    shuffle=True,\n",
    "    num_workers=cfg[\"workers\"],\n",
    "    )\n",
    "    \n",
    "    data_loader_validation = DataLoader(\n",
    "        dataset_validation,\n",
    "        batch_size=cfg[\"valid_bs\"],\n",
    "        shuffle=False,\n",
    "        num_workers=cfg[\"workers\"],\n",
    "    )\n",
    "    \n",
    "    checkpoint_callback = ModelCheckpoint(\n",
    "    save_weights_only=True,\n",
    "    monitor=\"val_dice\",\n",
    "    dirpath=cfg[\"output_dir\"],\n",
    "    mode=\"max\",\n",
    "    filename= identifier,\n",
    "    save_top_k=1,\n",
    "    verbose=1,\n",
    "    )\n",
    "    progress_bar_callback = TQDMProgressBar(\n",
    "    refresh_rate=cfg[\"progress_bar_refresh_rate\"]\n",
    "    )\n",
    "\n",
    "    early_stop_callback = EarlyStopping(**cfg[\"early_stop\"])\n",
    "    csv_logger = CSVLogger(cfg[\"output_dir\"], name=identifier)\n",
    "    trainer = L.Trainer(\n",
    "        callbacks=[checkpoint_callback, early_stop_callback, progress_bar_callback], logger = csv_logger,\n",
    "        **cfg[\"trainer\"],\n",
    "    )\n",
    "    \n",
    "    cfg[\"model\"][\"scheduler\"][\"params\"][\"CosineAnnealingLR\"][\"T_max\"] *= len(data_loader_train)/cfg[\"trainer\"][\"devices\"]\n",
    "    model = module(cfg[\"model\"])\n",
    "    \n",
    "    trainer.fit(model, data_loader_train, data_loader_validation)\n",
    "    \n",
    "    "
   ]
  },
  {
   "cell_type": "markdown",
   "id": "170ae231-627f-47bf-864a-ac122f996951",
   "metadata": {},
   "source": [
    "### Training the timesteps"
   ]
  },
  {
   "cell_type": "code",
   "execution_count": null,
   "id": "ac8adb3e-e0f8-4144-b8e4-b476e1be8d2f",
   "metadata": {},
   "outputs": [],
   "source": []
  },
  {
   "cell_type": "code",
   "execution_count": 60,
   "id": "ae9ab6c3-a633-4967-881a-3433c848e882",
   "metadata": {
    "tags": []
   },
   "outputs": [
    {
     "data": {
      "text/plain": [
       "20529"
      ]
     },
     "execution_count": 60,
     "metadata": {},
     "output_type": "execute_result"
    }
   ],
   "source": [
    "len(train_df)"
   ]
  },
  {
   "cell_type": "code",
   "execution_count": 17,
   "id": "8fea05ec-0cad-4a11-83ef-1344dc70d93b",
   "metadata": {
    "tags": []
   },
   "outputs": [],
   "source": [
    "import os\n",
    "\n",
    "import pandas as pd\n",
    "from sklearn.model_selection import KFold\n",
    "\n",
    "folders_valid = os.listdir(data_path_mf_valid)\n",
    "\n",
    "\n",
    "\n",
    "valid_df = pd.DataFrame(folders_valid, columns=['record_id'])\n",
    "valid_df['train'] = 'valid'\n",
    "valid_df.to_csv(os.path.join(\"/home/albert/ml/Contrails/data/full_dataset\", 'valid_df.csv'), index=False)\n",
    "valid_df[\"path\"] = data_path_mf_valid + valid_df[\"record_id\"].astype(str)\n",
    "\n",
    "folders_train = os.listdir(data_path_mf_train)\n",
    "train_df = pd.DataFrame(folders_train, columns=['record_id'])\n",
    "train_df['train'] = 'train'\n",
    "train_df.to_csv(os.path.join(\"/home/albert/ml/Contrails/data/full_dataset\", 'train_df.csv'), index=False)\n",
    "train_df[\"path\"] = data_path_mf_train + train_df[\"record_id\"].astype(str)\n",
    "\n",
    "# dataset_train = ContrailsDatasetDf(valid_df, \"validation\", \"single\",0 )\n",
    "# a, _ = dataset_train.__getitem__(1231)\n",
    "# a.shape\n",
    "# data_loader_train = DataLoader(\n",
    "#         dataset_train,\n",
    "#         batch_size=2,\n",
    "#         shuffle=True,\n",
    "#         num_workers=2,\n",
    "#     )\n",
    "\n"
   ]
  },
  {
   "cell_type": "code",
   "execution_count": null,
   "id": "94a0970d-f9df-4c02-9f63-00976afca3d6",
   "metadata": {
    "tags": []
   },
   "outputs": [
    {
     "name": "stderr",
     "output_type": "stream",
     "text": [
      "Using 16bit Automatic Mixed Precision (AMP)\n",
      "GPU available: True (cuda), used: True\n",
      "TPU available: False, using: 0 TPU cores\n",
      "IPU available: False, using: 0 IPUs\n",
      "HPU available: False, using: 0 HPUs\n"
     ]
    },
    {
     "name": "stdout",
     "output_type": "stream",
     "text": [
      "\n",
      "###### Fold 3\n"
     ]
    },
    {
     "name": "stderr",
     "output_type": "stream",
     "text": [
      "LOCAL_RANK: 0 - CUDA_VISIBLE_DEVICES: [0]\n",
      "\n",
      "  | Name        | Type     | Params\n",
      "-----------------------------------------\n",
      "0 | model       | Unet     | 56.6 M\n",
      "1 | loss_module | DiceLoss | 0     \n",
      "-----------------------------------------\n",
      "56.6 M    Trainable params\n",
      "0         Non-trainable params\n",
      "56.6 M    Total params\n",
      "226.221   Total estimated model params size (MB)\n"
     ]
    },
    {
     "data": {
      "application/vnd.jupyter.widget-view+json": {
       "model_id": "",
       "version_major": 2,
       "version_minor": 0
      },
      "text/plain": [
       "Sanity Checking: 0it [00:00, ?it/s]"
      ]
     },
     "metadata": {},
     "output_type": "display_data"
    },
    {
     "name": "stdout",
     "output_type": "stream",
     "text": [
      "\n",
      "Epoch: 0\n"
     ]
    },
    {
     "data": {
      "application/vnd.jupyter.widget-view+json": {
       "model_id": "4e32d0419ecb4628acd69193ff8d34fd",
       "version_major": 2,
       "version_minor": 0
      },
      "text/plain": [
       "Training: 0it [00:00, ?it/s]"
      ]
     },
     "metadata": {},
     "output_type": "display_data"
    },
    {
     "data": {
      "application/vnd.jupyter.widget-view+json": {
       "model_id": "",
       "version_major": 2,
       "version_minor": 0
      },
      "text/plain": [
       "Validation: 0it [00:00, ?it/s]"
      ]
     },
     "metadata": {},
     "output_type": "display_data"
    },
    {
     "name": "stdout",
     "output_type": "stream",
     "text": [
      "\n",
      "Epoch: 0\n"
     ]
    },
    {
     "name": "stderr",
     "output_type": "stream",
     "text": [
      "Metric val_loss improved. New best score: 0.451\n",
      "Epoch 0, global step 367: 'val_dice' reached 0.56138 (best 0.56138), saving model to '/home/albert/ml/Contrails/notebooks/full_dataset/test_use_all_bands/resnest101e_ash_attention_sample_loss_kfold/model-f3-val_dice=0.5614.ckpt' as top 1\n"
     ]
    },
    {
     "data": {
      "application/vnd.jupyter.widget-view+json": {
       "model_id": "",
       "version_major": 2,
       "version_minor": 0
      },
      "text/plain": [
       "Validation: 0it [00:00, ?it/s]"
      ]
     },
     "metadata": {},
     "output_type": "display_data"
    },
    {
     "name": "stdout",
     "output_type": "stream",
     "text": [
      "\n",
      "Epoch: 1\n"
     ]
    },
    {
     "name": "stderr",
     "output_type": "stream",
     "text": [
      "Metric val_loss improved by 0.048 >= min_delta = 0.0. New best score: 0.402\n",
      "Epoch 1, global step 734: 'val_dice' reached 0.60450 (best 0.60450), saving model to '/home/albert/ml/Contrails/notebooks/full_dataset/test_use_all_bands/resnest101e_ash_attention_sample_loss_kfold/model-f3-val_dice=0.6045.ckpt' as top 1\n"
     ]
    },
    {
     "data": {
      "application/vnd.jupyter.widget-view+json": {
       "model_id": "",
       "version_major": 2,
       "version_minor": 0
      },
      "text/plain": [
       "Validation: 0it [00:00, ?it/s]"
      ]
     },
     "metadata": {},
     "output_type": "display_data"
    },
    {
     "name": "stdout",
     "output_type": "stream",
     "text": [
      "\n",
      "Epoch: 2\n"
     ]
    },
    {
     "name": "stderr",
     "output_type": "stream",
     "text": [
      "Metric val_loss improved by 0.027 >= min_delta = 0.0. New best score: 0.376\n",
      "Epoch 2, global step 1101: 'val_dice' reached 0.63120 (best 0.63120), saving model to '/home/albert/ml/Contrails/notebooks/full_dataset/test_use_all_bands/resnest101e_ash_attention_sample_loss_kfold/model-f3-val_dice=0.6312.ckpt' as top 1\n"
     ]
    },
    {
     "data": {
      "application/vnd.jupyter.widget-view+json": {
       "model_id": "",
       "version_major": 2,
       "version_minor": 0
      },
      "text/plain": [
       "Validation: 0it [00:00, ?it/s]"
      ]
     },
     "metadata": {},
     "output_type": "display_data"
    },
    {
     "name": "stdout",
     "output_type": "stream",
     "text": [
      "\n",
      "Epoch: 3\n"
     ]
    },
    {
     "name": "stderr",
     "output_type": "stream",
     "text": [
      "Epoch 3, global step 1468: 'val_dice' was not in top 1\n"
     ]
    },
    {
     "data": {
      "application/vnd.jupyter.widget-view+json": {
       "model_id": "",
       "version_major": 2,
       "version_minor": 0
      },
      "text/plain": [
       "Validation: 0it [00:00, ?it/s]"
      ]
     },
     "metadata": {},
     "output_type": "display_data"
    },
    {
     "name": "stdout",
     "output_type": "stream",
     "text": [
      "\n",
      "Epoch: 4\n"
     ]
    },
    {
     "name": "stderr",
     "output_type": "stream",
     "text": [
      "Metric val_loss improved by 0.017 >= min_delta = 0.0. New best score: 0.358\n",
      "Epoch 4, global step 1835: 'val_dice' reached 0.64662 (best 0.64662), saving model to '/home/albert/ml/Contrails/notebooks/full_dataset/test_use_all_bands/resnest101e_ash_attention_sample_loss_kfold/model-f3-val_dice=0.6466.ckpt' as top 1\n"
     ]
    },
    {
     "data": {
      "application/vnd.jupyter.widget-view+json": {
       "model_id": "",
       "version_major": 2,
       "version_minor": 0
      },
      "text/plain": [
       "Validation: 0it [00:00, ?it/s]"
      ]
     },
     "metadata": {},
     "output_type": "display_data"
    },
    {
     "name": "stdout",
     "output_type": "stream",
     "text": [
      "\n",
      "Epoch: 5\n"
     ]
    },
    {
     "name": "stderr",
     "output_type": "stream",
     "text": [
      "Epoch 5, global step 2202: 'val_dice' was not in top 1\n"
     ]
    },
    {
     "data": {
      "application/vnd.jupyter.widget-view+json": {
       "model_id": "",
       "version_major": 2,
       "version_minor": 0
      },
      "text/plain": [
       "Validation: 0it [00:00, ?it/s]"
      ]
     },
     "metadata": {},
     "output_type": "display_data"
    },
    {
     "name": "stdout",
     "output_type": "stream",
     "text": [
      "\n",
      "Epoch: 6\n"
     ]
    },
    {
     "name": "stderr",
     "output_type": "stream",
     "text": [
      "Epoch 6, global step 2569: 'val_dice' was not in top 1\n"
     ]
    },
    {
     "data": {
      "application/vnd.jupyter.widget-view+json": {
       "model_id": "",
       "version_major": 2,
       "version_minor": 0
      },
      "text/plain": [
       "Validation: 0it [00:00, ?it/s]"
      ]
     },
     "metadata": {},
     "output_type": "display_data"
    },
    {
     "name": "stdout",
     "output_type": "stream",
     "text": [
      "\n",
      "Epoch: 7\n"
     ]
    },
    {
     "name": "stderr",
     "output_type": "stream",
     "text": [
      "Epoch 7, global step 2936: 'val_dice' was not in top 1\n"
     ]
    },
    {
     "data": {
      "application/vnd.jupyter.widget-view+json": {
       "model_id": "",
       "version_major": 2,
       "version_minor": 0
      },
      "text/plain": [
       "Validation: 0it [00:00, ?it/s]"
      ]
     },
     "metadata": {},
     "output_type": "display_data"
    },
    {
     "name": "stdout",
     "output_type": "stream",
     "text": [
      "\n",
      "Epoch: 8\n"
     ]
    },
    {
     "name": "stderr",
     "output_type": "stream",
     "text": [
      "Epoch 8, global step 3303: 'val_dice' was not in top 1\n"
     ]
    },
    {
     "data": {
      "application/vnd.jupyter.widget-view+json": {
       "model_id": "",
       "version_major": 2,
       "version_minor": 0
      },
      "text/plain": [
       "Validation: 0it [00:00, ?it/s]"
      ]
     },
     "metadata": {},
     "output_type": "display_data"
    },
    {
     "name": "stdout",
     "output_type": "stream",
     "text": [
      "\n",
      "Epoch: 9\n"
     ]
    },
    {
     "name": "stderr",
     "output_type": "stream",
     "text": [
      "Monitored metric val_loss did not improve in the last 5 records. Best score: 0.358. Signaling Trainer to stop.\n",
      "Epoch 9, global step 3670: 'val_dice' was not in top 1\n",
      "Trainer was signaled to stop but the required `min_epochs=20` or `min_steps=None` has not been met. Training will continue...\n"
     ]
    },
    {
     "data": {
      "application/vnd.jupyter.widget-view+json": {
       "model_id": "",
       "version_major": 2,
       "version_minor": 0
      },
      "text/plain": [
       "Validation: 0it [00:00, ?it/s]"
      ]
     },
     "metadata": {},
     "output_type": "display_data"
    },
    {
     "name": "stdout",
     "output_type": "stream",
     "text": [
      "\n",
      "Epoch: 10\n"
     ]
    },
    {
     "name": "stderr",
     "output_type": "stream",
     "text": [
      "Monitored metric val_loss did not improve in the last 6 records. Best score: 0.358. Signaling Trainer to stop.\n",
      "Epoch 10, global step 4037: 'val_dice' was not in top 1\n"
     ]
    },
    {
     "data": {
      "application/vnd.jupyter.widget-view+json": {
       "model_id": "",
       "version_major": 2,
       "version_minor": 0
      },
      "text/plain": [
       "Validation: 0it [00:00, ?it/s]"
      ]
     },
     "metadata": {},
     "output_type": "display_data"
    },
    {
     "name": "stdout",
     "output_type": "stream",
     "text": [
      "\n",
      "Epoch: 11\n"
     ]
    },
    {
     "name": "stderr",
     "output_type": "stream",
     "text": [
      "Monitored metric val_loss did not improve in the last 7 records. Best score: 0.358. Signaling Trainer to stop.\n",
      "Epoch 11, global step 4404: 'val_dice' was not in top 1\n"
     ]
    },
    {
     "data": {
      "application/vnd.jupyter.widget-view+json": {
       "model_id": "",
       "version_major": 2,
       "version_minor": 0
      },
      "text/plain": [
       "Validation: 0it [00:00, ?it/s]"
      ]
     },
     "metadata": {},
     "output_type": "display_data"
    },
    {
     "name": "stdout",
     "output_type": "stream",
     "text": [
      "\n",
      "Epoch: 12\n"
     ]
    },
    {
     "name": "stderr",
     "output_type": "stream",
     "text": [
      "Monitored metric val_loss did not improve in the last 8 records. Best score: 0.358. Signaling Trainer to stop.\n",
      "Epoch 12, global step 4771: 'val_dice' was not in top 1\n"
     ]
    },
    {
     "data": {
      "application/vnd.jupyter.widget-view+json": {
       "model_id": "",
       "version_major": 2,
       "version_minor": 0
      },
      "text/plain": [
       "Validation: 0it [00:00, ?it/s]"
      ]
     },
     "metadata": {},
     "output_type": "display_data"
    },
    {
     "name": "stdout",
     "output_type": "stream",
     "text": [
      "\n",
      "Epoch: 13\n"
     ]
    },
    {
     "name": "stderr",
     "output_type": "stream",
     "text": [
      "Monitored metric val_loss did not improve in the last 9 records. Best score: 0.358. Signaling Trainer to stop.\n",
      "Epoch 13, global step 5138: 'val_dice' was not in top 1\n"
     ]
    },
    {
     "data": {
      "application/vnd.jupyter.widget-view+json": {
       "model_id": "",
       "version_major": 2,
       "version_minor": 0
      },
      "text/plain": [
       "Validation: 0it [00:00, ?it/s]"
      ]
     },
     "metadata": {},
     "output_type": "display_data"
    },
    {
     "name": "stdout",
     "output_type": "stream",
     "text": [
      "\n",
      "Epoch: 14\n"
     ]
    },
    {
     "name": "stderr",
     "output_type": "stream",
     "text": [
      "Monitored metric val_loss did not improve in the last 10 records. Best score: 0.358. Signaling Trainer to stop.\n",
      "Epoch 14, global step 5505: 'val_dice' was not in top 1\n"
     ]
    },
    {
     "data": {
      "application/vnd.jupyter.widget-view+json": {
       "model_id": "",
       "version_major": 2,
       "version_minor": 0
      },
      "text/plain": [
       "Validation: 0it [00:00, ?it/s]"
      ]
     },
     "metadata": {},
     "output_type": "display_data"
    },
    {
     "name": "stdout",
     "output_type": "stream",
     "text": [
      "\n",
      "Epoch: 15\n"
     ]
    },
    {
     "name": "stderr",
     "output_type": "stream",
     "text": [
      "Monitored metric val_loss did not improve in the last 11 records. Best score: 0.358. Signaling Trainer to stop.\n",
      "Epoch 15, global step 5872: 'val_dice' was not in top 1\n"
     ]
    },
    {
     "data": {
      "application/vnd.jupyter.widget-view+json": {
       "model_id": "",
       "version_major": 2,
       "version_minor": 0
      },
      "text/plain": [
       "Validation: 0it [00:00, ?it/s]"
      ]
     },
     "metadata": {},
     "output_type": "display_data"
    },
    {
     "name": "stdout",
     "output_type": "stream",
     "text": [
      "\n",
      "Epoch: 16\n"
     ]
    },
    {
     "name": "stderr",
     "output_type": "stream",
     "text": [
      "Metric val_loss improved by 0.008 >= min_delta = 0.0. New best score: 0.350\n",
      "Epoch 16, global step 6239: 'val_dice' reached 0.65373 (best 0.65373), saving model to '/home/albert/ml/Contrails/notebooks/full_dataset/test_use_all_bands/resnest101e_ash_attention_sample_loss_kfold/model-f3-val_dice=0.6537.ckpt' as top 1\n"
     ]
    },
    {
     "data": {
      "application/vnd.jupyter.widget-view+json": {
       "model_id": "",
       "version_major": 2,
       "version_minor": 0
      },
      "text/plain": [
       "Validation: 0it [00:00, ?it/s]"
      ]
     },
     "metadata": {},
     "output_type": "display_data"
    },
    {
     "name": "stdout",
     "output_type": "stream",
     "text": [
      "\n",
      "Epoch: 17\n"
     ]
    },
    {
     "name": "stderr",
     "output_type": "stream",
     "text": [
      "Epoch 17, global step 6606: 'val_dice' was not in top 1\n"
     ]
    }
   ],
   "source": [
    "import gc\n",
    "gc.enable()\n",
    "alpha = 0.5\n",
    "alpha_union = 0.85\n",
    "weight_ground_truth = 0.45\n",
    "\n",
    "cfg = resnest101e_ash_attention_sample_loss_kfold\n",
    "cfg['model'][\"alpha\"] = alpha\n",
    "cfg['model'][\"beta\"] = 1-alpha\n",
    "cfg['model'][\"alpha_union\"] = alpha_union\n",
    "cfg['model'][\"beta_union\"] = 1-alpha_union\n",
    "cfg['model'][\"weight_ground_truth\"] = weight_ground_truth\n",
    "cfg['model'][\"weight_union\"] = 1-weight_ground_truth\n",
    "config = cfg\n",
    "identifier = \"resnest26d_alpha=\"+str(alpha)+\"_alpha_union=\"+str(alpha_union)+\"_weight_ground_truth=\"+str(weight_ground_truth)\n",
    "\n",
    "# folders_train = os.listdir(data_path_mf_train)\n",
    "# train_df = pd.DataFrame(folders_train, columns=['record_id'])\n",
    "# train_df['train'] = 'train'\n",
    "# train_df.to_csv(os.path.join(\"/home/albert/ml/Contrails/data/full_dataset\", 'train_df.csv'), index=False)\n",
    "# train_df[\"path\"] = data_path_mf_train + train_df[\"record_id\"].astype(str)\n",
    "\n",
    "# Fold = KFold(shuffle=True, **config[\"folds\"])\n",
    "# for n, (trn_index, val_index) in enumerate(Fold.split(train_df)):\n",
    "#     train_df.loc[val_index, \"kfold\"] = int(n)\n",
    "# train_df[\"kfold\"] = train_df[\"kfold\"].astype(int)\n",
    "\n",
    "for fold in config[\"train_folds\"]:\n",
    "    print(f\"\\n###### Fold {fold}\")\n",
    "    trn_df = train_df[train_df.kfold != fold].reset_index(drop=True)\n",
    "    vld_df = train_df[train_df.kfold == fold].reset_index(drop=True)\n",
    "\n",
    "    dataset_train = ContrailsDatasetDf(trn_df, \"train\", \"single\",0 )\n",
    "    dataset_validation = ContrailsDatasetDf(vld_df,\"validation\", \"single\",0)\n",
    "\n",
    "    data_loader_train = DataLoader(\n",
    "        dataset_train,\n",
    "        batch_size=config[\"train_bs\"],\n",
    "        shuffle=True,\n",
    "        num_workers=config[\"workers\"],\n",
    "    )\n",
    "    data_loader_validation = DataLoader(\n",
    "        dataset_validation,\n",
    "        batch_size=config[\"valid_bs\"],\n",
    "        shuffle=False,\n",
    "        num_workers=config[\"workers\"],\n",
    "    )\n",
    "\n",
    "    checkpoint_callback = ModelCheckpoint(\n",
    "        save_weights_only=True,\n",
    "        monitor=\"val_dice\",\n",
    "        dirpath=config[\"output_dir\"],\n",
    "        mode=\"max\",\n",
    "        filename=f\"model-f{fold}-{{val_dice:.4f}}\",\n",
    "        save_top_k=1,\n",
    "        verbose=1,\n",
    "    )\n",
    "\n",
    "    progress_bar_callback = TQDMProgressBar(\n",
    "        refresh_rate=config[\"progress_bar_refresh_rate\"]\n",
    "    )\n",
    "\n",
    "    early_stop_callback = EarlyStopping(**config[\"early_stop\"])\n",
    "\n",
    "    csv_logger = CSVLogger(cfg[\"output_dir\"], name=identifier+f'fold_{fold}/')\n",
    "    trainer = L.Trainer(\n",
    "        callbacks=[checkpoint_callback, early_stop_callback, progress_bar_callback],\n",
    "        logger=csv_logger,\n",
    "        **config[\"trainer\"],\n",
    "    )\n",
    "\n",
    "    model = LightningModuleTrLoss(config[\"model\"])\n",
    "\n",
    "    trainer.fit(model, data_loader_train, data_loader_validation)\n",
    "\n",
    "    del (\n",
    "        dataset_train,\n",
    "        dataset_validation,\n",
    "        data_loader_train,\n",
    "        data_loader_validation,\n",
    "        model,\n",
    "        trainer,\n",
    "        checkpoint_callback,\n",
    "        progress_bar_callback,\n",
    "        early_stop_callback,\n",
    "    )\n",
    "    torch.cuda.empty_cache()\n",
    "    gc.collect() "
   ]
  },
  {
   "cell_type": "code",
   "execution_count": null,
   "id": "98eccb4c-3ec6-49ca-8f6b-00317b40549f",
   "metadata": {},
   "outputs": [],
   "source": [
    "path = \n",
    "class LightningModuleValid(pl.LightningModule):\n",
    "\n",
    "    def __init__(self):\n",
    "        super().__init__()\n",
    "        self.model = smp.Unet(encoder_name = \"timm-resnest101e\",\n",
    "                              encoder_weights=None,\n",
    "                              in_channels=3,\n",
    "                              classes=1,\n",
    "                              activation=None,\n",
    "                              decoder_attention_type = \"scse\",\n",
    "                              )\n",
    "\n",
    "    def forward(self, batch):\n",
    "        return self.model(batch)\n",
    "    \n",
    "model = LightningModule().load_from_checkpoint(path)"
   ]
  },
  {
   "cell_type": "markdown",
   "id": "b8ca1625-a709-45a5-89b3-483ee6a136d2",
   "metadata": {},
   "source": [
    "## 512 101e"
   ]
  },
  {
   "cell_type": "code",
   "execution_count": null,
   "id": "2a082293-7df4-449e-a7d7-19c758c1b758",
   "metadata": {},
   "outputs": [],
   "source": []
  },
  {
   "cell_type": "code",
   "execution_count": null,
   "id": "da92c8b8-604b-4831-8f47-6058241bfdf5",
   "metadata": {},
   "outputs": [],
   "source": [
    "trainer."
   ]
  },
  {
   "cell_type": "code",
   "execution_count": null,
   "id": "1a6c0a90-15d9-4314-b35d-b931ca80d3e0",
   "metadata": {
    "tags": []
   },
   "outputs": [
    {
     "name": "stderr",
     "output_type": "stream",
     "text": [
      "Using 16bit Automatic Mixed Precision (AMP)\n",
      "GPU available: True (cuda), used: True\n",
      "TPU available: False, using: 0 TPU cores\n",
      "IPU available: False, using: 0 IPUs\n",
      "HPU available: False, using: 0 HPUs\n"
     ]
    },
    {
     "name": "stdout",
     "output_type": "stream",
     "text": [
      "\n",
      "###### Fold 0\n"
     ]
    },
    {
     "name": "stderr",
     "output_type": "stream",
     "text": [
      "LOCAL_RANK: 0 - CUDA_VISIBLE_DEVICES: [0]\n",
      "\n",
      "  | Name        | Type     | Params\n",
      "-----------------------------------------\n",
      "0 | model       | Unet     | 56.6 M\n",
      "1 | loss_module | DiceLoss | 0     \n",
      "-----------------------------------------\n",
      "56.6 M    Trainable params\n",
      "0         Non-trainable params\n",
      "56.6 M    Total params\n",
      "226.221   Total estimated model params size (MB)\n"
     ]
    },
    {
     "data": {
      "application/vnd.jupyter.widget-view+json": {
       "model_id": "",
       "version_major": 2,
       "version_minor": 0
      },
      "text/plain": [
       "Sanity Checking: 0it [00:00, ?it/s]"
      ]
     },
     "metadata": {},
     "output_type": "display_data"
    },
    {
     "name": "stdout",
     "output_type": "stream",
     "text": [
      "\n",
      "Epoch: 0\n"
     ]
    },
    {
     "data": {
      "application/vnd.jupyter.widget-view+json": {
       "model_id": "b77c90f8045349ab9823ccc64b8d93ea",
       "version_major": 2,
       "version_minor": 0
      },
      "text/plain": [
       "Training: 0it [00:00, ?it/s]"
      ]
     },
     "metadata": {},
     "output_type": "display_data"
    },
    {
     "data": {
      "application/vnd.jupyter.widget-view+json": {
       "model_id": "",
       "version_major": 2,
       "version_minor": 0
      },
      "text/plain": [
       "Validation: 0it [00:00, ?it/s]"
      ]
     },
     "metadata": {},
     "output_type": "display_data"
    },
    {
     "name": "stdout",
     "output_type": "stream",
     "text": [
      "\n",
      "Epoch: 0\n"
     ]
    },
    {
     "name": "stderr",
     "output_type": "stream",
     "text": [
      "Metric val_loss improved. New best score: 0.448\n",
      "Epoch 0, global step 770: 'val_dice' reached 0.56261 (best 0.56261), saving model to '/home/albert/ml/Contrails/notebooks/full_dataset/test_use_all_bands/resnest101e_ash_attention_sample_loss_kfold_512/model-f0-val_dice=0.5626.ckpt' as top 1\n"
     ]
    }
   ],
   "source": [
    "import gc\n",
    "gc.enable()\n",
    "alpha = 0.5\n",
    "alpha_union = 0.85\n",
    "weight_ground_truth = 0.45\n",
    "\n",
    "cfg = resnest101e_ash_attention_sample_loss_kfold_512\n",
    "cfg['model'][\"alpha\"] = alpha\n",
    "cfg['model'][\"beta\"] = 1-alpha\n",
    "cfg['model'][\"alpha_union\"] = alpha_union\n",
    "cfg['model'][\"beta_union\"] = 1-alpha_union\n",
    "cfg['model'][\"weight_ground_truth\"] = weight_ground_truth\n",
    "cfg['model'][\"weight_union\"] = 1-weight_ground_truth\n",
    "config = cfg\n",
    "identifier = \"resnest26d_alpha=\"+str(alpha)+\"_alpha_union=\"+str(alpha_union)+\"_weight_ground_truth=\"+str(weight_ground_truth)\n",
    "\n",
    "folders_train = os.listdir(data_path_mf_train)\n",
    "train_df = pd.DataFrame(folders_train, columns=['record_id'])\n",
    "train_df['train'] = 'train'\n",
    "train_df.to_csv(os.path.join(\"/home/albert/ml/Contrails/data/full_dataset\", 'train_df.csv'), index=False)\n",
    "train_df[\"path\"] = data_path_mf_train + train_df[\"record_id\"].astype(str)\n",
    "\n",
    "Fold = KFold(shuffle=True, **config[\"folds\"])\n",
    "for n, (trn_index, val_index) in enumerate(Fold.split(train_df)):\n",
    "    train_df.loc[val_index, \"kfold\"] = int(n)\n",
    "train_df[\"kfold\"] = train_df[\"kfold\"].astype(int)\n",
    "\n",
    "for fold in config[\"train_folds\"]:\n",
    "    print(f\"\\n###### Fold {fold}\")\n",
    "    trn_df = train_df[train_df.kfold != fold].reset_index(drop=True)\n",
    "    vld_df = train_df[train_df.kfold == fold].reset_index(drop=True)\n",
    "\n",
    "    dataset_train = ContrailsDatasetDf(trn_df, \"train\", \"single\",0 )\n",
    "    dataset_validation = ContrailsDatasetDf(vld_df,\"validation\", \"single\",0)\n",
    "\n",
    "    data_loader_train = DataLoader(\n",
    "        dataset_train,\n",
    "        batch_size=config[\"train_bs\"],\n",
    "        shuffle=True,\n",
    "        num_workers=config[\"workers\"],\n",
    "    )\n",
    "    data_loader_validation = DataLoader(\n",
    "        dataset_validation,\n",
    "        batch_size=config[\"valid_bs\"],\n",
    "        shuffle=False,\n",
    "        num_workers=config[\"workers\"],\n",
    "    )\n",
    "\n",
    "    checkpoint_callback = ModelCheckpoint(\n",
    "        save_weights_only=True,\n",
    "        monitor=\"val_dice\",\n",
    "        dirpath=config[\"output_dir\"],\n",
    "        mode=\"max\",\n",
    "        filename=f\"model-f{fold}-{{val_dice:.4f}}\",\n",
    "        save_top_k=1,\n",
    "        verbose=1,\n",
    "    )\n",
    "\n",
    "    progress_bar_callback = TQDMProgressBar(\n",
    "        refresh_rate=config[\"progress_bar_refresh_rate\"]\n",
    "    )\n",
    "\n",
    "    early_stop_callback = EarlyStopping(**config[\"early_stop\"])\n",
    "\n",
    "    csv_logger = CSVLogger(cfg[\"output_dir\"], name=identifier+f'fold_{fold}/')\n",
    "    trainer = L.Trainer(\n",
    "        callbacks=[checkpoint_callback, early_stop_callback, progress_bar_callback],\n",
    "        logger=csv_logger,\n",
    "        **config[\"trainer\"],\n",
    "    )\n",
    "\n",
    "    model = LightningModuleTrLoss512(config[\"model\"])\n",
    "\n",
    "    trainer.fit(model, data_loader_train, data_loader_validation)\n",
    "\n",
    "    del (\n",
    "        dataset_train,\n",
    "        dataset_validation,\n",
    "        data_loader_train,\n",
    "        data_loader_validation,\n",
    "        model,\n",
    "        trainer,\n",
    "        checkpoint_callback,\n",
    "        progress_bar_callback,\n",
    "        early_stop_callback,\n",
    "    )\n",
    "    torch.cuda.empty_cache()\n",
    "    gc.collect() "
   ]
  },
  {
   "cell_type": "code",
   "execution_count": null,
   "id": "0e92eafa-4307-4532-ab3a-1d81435d67fc",
   "metadata": {},
   "outputs": [],
   "source": [
    "import seaborn as sn\n",
    "import matplotlib.pyplot as plt\n",
    "\n",
    "for fold in config[\"train_folds\"]:\n",
    "    metrics = pd.read_csv(f\"/kaggle/working/logs_f{fold}/lightning_logs/version_0/metrics.csv\")\n",
    "    del metrics[\"step\"]\n",
    "    del metrics[\"lr\"]\n",
    "    del metrics[\"train_loss_step\"]\n",
    "    metrics.set_index(\"epoch\", inplace=True)\n",
    "    g = sn.relplot(data=metrics, kind=\"line\")\n",
    "    plt.title(f\"Fold {fold}\")\n",
    "    plt.gcf().set_size_inches(15, 5)\n",
    "    plt.grid()\n",
    "    plt.show()"
   ]
  },
  {
   "cell_type": "code",
   "execution_count": null,
   "id": "ee88a1b2-ac92-4287-b704-7bd13e6d078d",
   "metadata": {},
   "outputs": [],
   "source": []
  },
  {
   "cell_type": "markdown",
   "id": "2956db41-3bc1-409f-903c-ef7b981f042b",
   "metadata": {},
   "source": [
    "### Results"
   ]
  },
  {
   "cell_type": "markdown",
   "id": "3c59f755-5948-4598-b158-b9c8b88019f0",
   "metadata": {},
   "source": [
    "## Baseline"
   ]
  },
  {
   "cell_type": "code",
   "execution_count": 135,
   "id": "e985dd21-8e3a-4798-8712-0bc6ba9657ba",
   "metadata": {
    "tags": []
   },
   "outputs": [
    {
     "name": "stderr",
     "output_type": "stream",
     "text": [
      "Using 16bit Automatic Mixed Precision (AMP)\n",
      "GPU available: True (cuda), used: True\n",
      "TPU available: False, using: 0 TPU cores\n",
      "IPU available: False, using: 0 IPUs\n",
      "HPU available: False, using: 0 HPUs\n",
      "LOCAL_RANK: 0 - CUDA_VISIBLE_DEVICES: [0]\n",
      "\n",
      "  | Name        | Type     | Params\n",
      "-----------------------------------------\n",
      "0 | model       | Unet     | 25.3 M\n",
      "1 | loss_module | DiceLoss | 0     \n",
      "-----------------------------------------\n",
      "25.3 M    Trainable params\n",
      "0         Non-trainable params\n",
      "25.3 M    Total params\n",
      "101.314   Total estimated model params size (MB)\n"
     ]
    },
    {
     "data": {
      "application/vnd.jupyter.widget-view+json": {
       "model_id": "",
       "version_major": 2,
       "version_minor": 0
      },
      "text/plain": [
       "Sanity Checking: 0it [00:00, ?it/s]"
      ]
     },
     "metadata": {},
     "output_type": "display_data"
    },
    {
     "name": "stdout",
     "output_type": "stream",
     "text": [
      "\n",
      "Epoch: 0\n"
     ]
    },
    {
     "data": {
      "application/vnd.jupyter.widget-view+json": {
       "model_id": "a30ed16096fd430a9869294d46b9880b",
       "version_major": 2,
       "version_minor": 0
      },
      "text/plain": [
       "Training: 0it [00:00, ?it/s]"
      ]
     },
     "metadata": {},
     "output_type": "display_data"
    },
    {
     "data": {
      "application/vnd.jupyter.widget-view+json": {
       "model_id": "",
       "version_major": 2,
       "version_minor": 0
      },
      "text/plain": [
       "Validation: 0it [00:00, ?it/s]"
      ]
     },
     "metadata": {},
     "output_type": "display_data"
    },
    {
     "name": "stdout",
     "output_type": "stream",
     "text": [
      "\n",
      "Epoch: 0\n"
     ]
    },
    {
     "name": "stderr",
     "output_type": "stream",
     "text": [
      "Metric val_loss improved. New best score: 0.498\n",
      "Epoch 0, global step 302: 'val_dice' reached 0.52061 (best 0.52061), saving model to '/home/albert/ml/Contrails/notebooks/full_dataset/test_use_all_bands/resnest26d_ash_attention_sample_loss/resnest101e_alpha=0.5_alpha_union=0.5_weight_ground_truth=1.ckpt' as top 1\n"
     ]
    },
    {
     "data": {
      "application/vnd.jupyter.widget-view+json": {
       "model_id": "",
       "version_major": 2,
       "version_minor": 0
      },
      "text/plain": [
       "Validation: 0it [00:00, ?it/s]"
      ]
     },
     "metadata": {},
     "output_type": "display_data"
    },
    {
     "name": "stdout",
     "output_type": "stream",
     "text": [
      "\n",
      "Epoch: 1\n"
     ]
    },
    {
     "name": "stderr",
     "output_type": "stream",
     "text": [
      "Metric val_loss improved by 0.040 >= min_delta = 0.0. New best score: 0.457\n",
      "Epoch 1, global step 604: 'val_dice' reached 0.55547 (best 0.55547), saving model to '/home/albert/ml/Contrails/notebooks/full_dataset/test_use_all_bands/resnest26d_ash_attention_sample_loss/resnest101e_alpha=0.5_alpha_union=0.5_weight_ground_truth=1.ckpt' as top 1\n"
     ]
    },
    {
     "data": {
      "application/vnd.jupyter.widget-view+json": {
       "model_id": "",
       "version_major": 2,
       "version_minor": 0
      },
      "text/plain": [
       "Validation: 0it [00:00, ?it/s]"
      ]
     },
     "metadata": {},
     "output_type": "display_data"
    },
    {
     "name": "stdout",
     "output_type": "stream",
     "text": [
      "\n",
      "Epoch: 2\n"
     ]
    },
    {
     "name": "stderr",
     "output_type": "stream",
     "text": [
      "Metric val_loss improved by 0.002 >= min_delta = 0.0. New best score: 0.455\n",
      "Epoch 2, global step 906: 'val_dice' was not in top 1\n"
     ]
    },
    {
     "data": {
      "application/vnd.jupyter.widget-view+json": {
       "model_id": "",
       "version_major": 2,
       "version_minor": 0
      },
      "text/plain": [
       "Validation: 0it [00:00, ?it/s]"
      ]
     },
     "metadata": {},
     "output_type": "display_data"
    },
    {
     "name": "stdout",
     "output_type": "stream",
     "text": [
      "\n",
      "Epoch: 3\n"
     ]
    },
    {
     "name": "stderr",
     "output_type": "stream",
     "text": [
      "Metric val_loss improved by 0.029 >= min_delta = 0.0. New best score: 0.426\n",
      "Epoch 3, global step 1208: 'val_dice' reached 0.58091 (best 0.58091), saving model to '/home/albert/ml/Contrails/notebooks/full_dataset/test_use_all_bands/resnest26d_ash_attention_sample_loss/resnest101e_alpha=0.5_alpha_union=0.5_weight_ground_truth=1.ckpt' as top 1\n"
     ]
    },
    {
     "data": {
      "application/vnd.jupyter.widget-view+json": {
       "model_id": "",
       "version_major": 2,
       "version_minor": 0
      },
      "text/plain": [
       "Validation: 0it [00:00, ?it/s]"
      ]
     },
     "metadata": {},
     "output_type": "display_data"
    },
    {
     "name": "stdout",
     "output_type": "stream",
     "text": [
      "\n",
      "Epoch: 4\n"
     ]
    },
    {
     "name": "stderr",
     "output_type": "stream",
     "text": [
      "Epoch 4, global step 1510: 'val_dice' was not in top 1\n"
     ]
    },
    {
     "data": {
      "application/vnd.jupyter.widget-view+json": {
       "model_id": "",
       "version_major": 2,
       "version_minor": 0
      },
      "text/plain": [
       "Validation: 0it [00:00, ?it/s]"
      ]
     },
     "metadata": {},
     "output_type": "display_data"
    },
    {
     "name": "stdout",
     "output_type": "stream",
     "text": [
      "\n",
      "Epoch: 5\n"
     ]
    },
    {
     "name": "stderr",
     "output_type": "stream",
     "text": [
      "Metric val_loss improved by 0.015 >= min_delta = 0.0. New best score: 0.411\n",
      "Epoch 5, global step 1812: 'val_dice' reached 0.59485 (best 0.59485), saving model to '/home/albert/ml/Contrails/notebooks/full_dataset/test_use_all_bands/resnest26d_ash_attention_sample_loss/resnest101e_alpha=0.5_alpha_union=0.5_weight_ground_truth=1.ckpt' as top 1\n"
     ]
    },
    {
     "data": {
      "application/vnd.jupyter.widget-view+json": {
       "model_id": "",
       "version_major": 2,
       "version_minor": 0
      },
      "text/plain": [
       "Validation: 0it [00:00, ?it/s]"
      ]
     },
     "metadata": {},
     "output_type": "display_data"
    },
    {
     "name": "stdout",
     "output_type": "stream",
     "text": [
      "\n",
      "Epoch: 6\n"
     ]
    },
    {
     "name": "stderr",
     "output_type": "stream",
     "text": [
      "Epoch 6, global step 2114: 'val_dice' was not in top 1\n"
     ]
    },
    {
     "data": {
      "application/vnd.jupyter.widget-view+json": {
       "model_id": "",
       "version_major": 2,
       "version_minor": 0
      },
      "text/plain": [
       "Validation: 0it [00:00, ?it/s]"
      ]
     },
     "metadata": {},
     "output_type": "display_data"
    },
    {
     "name": "stdout",
     "output_type": "stream",
     "text": [
      "\n",
      "Epoch: 7\n"
     ]
    },
    {
     "name": "stderr",
     "output_type": "stream",
     "text": [
      "Metric val_loss improved by 0.005 >= min_delta = 0.0. New best score: 0.406\n",
      "Epoch 7, global step 2416: 'val_dice' reached 0.60106 (best 0.60106), saving model to '/home/albert/ml/Contrails/notebooks/full_dataset/test_use_all_bands/resnest26d_ash_attention_sample_loss/resnest101e_alpha=0.5_alpha_union=0.5_weight_ground_truth=1.ckpt' as top 1\n"
     ]
    },
    {
     "data": {
      "application/vnd.jupyter.widget-view+json": {
       "model_id": "",
       "version_major": 2,
       "version_minor": 0
      },
      "text/plain": [
       "Validation: 0it [00:00, ?it/s]"
      ]
     },
     "metadata": {},
     "output_type": "display_data"
    },
    {
     "name": "stdout",
     "output_type": "stream",
     "text": [
      "\n",
      "Epoch: 8\n"
     ]
    },
    {
     "name": "stderr",
     "output_type": "stream",
     "text": [
      "Epoch 8, global step 2718: 'val_dice' was not in top 1\n"
     ]
    },
    {
     "data": {
      "application/vnd.jupyter.widget-view+json": {
       "model_id": "",
       "version_major": 2,
       "version_minor": 0
      },
      "text/plain": [
       "Validation: 0it [00:00, ?it/s]"
      ]
     },
     "metadata": {},
     "output_type": "display_data"
    },
    {
     "name": "stdout",
     "output_type": "stream",
     "text": [
      "\n",
      "Epoch: 9\n"
     ]
    },
    {
     "name": "stderr",
     "output_type": "stream",
     "text": [
      "Epoch 9, global step 3020: 'val_dice' was not in top 1\n"
     ]
    },
    {
     "data": {
      "application/vnd.jupyter.widget-view+json": {
       "model_id": "",
       "version_major": 2,
       "version_minor": 0
      },
      "text/plain": [
       "Validation: 0it [00:00, ?it/s]"
      ]
     },
     "metadata": {},
     "output_type": "display_data"
    },
    {
     "name": "stdout",
     "output_type": "stream",
     "text": [
      "\n",
      "Epoch: 10\n"
     ]
    },
    {
     "name": "stderr",
     "output_type": "stream",
     "text": [
      "Metric val_loss improved by 0.003 >= min_delta = 0.0. New best score: 0.404\n",
      "Epoch 10, global step 3322: 'val_dice' reached 0.60125 (best 0.60125), saving model to '/home/albert/ml/Contrails/notebooks/full_dataset/test_use_all_bands/resnest26d_ash_attention_sample_loss/resnest101e_alpha=0.5_alpha_union=0.5_weight_ground_truth=1.ckpt' as top 1\n"
     ]
    },
    {
     "data": {
      "application/vnd.jupyter.widget-view+json": {
       "model_id": "",
       "version_major": 2,
       "version_minor": 0
      },
      "text/plain": [
       "Validation: 0it [00:00, ?it/s]"
      ]
     },
     "metadata": {},
     "output_type": "display_data"
    },
    {
     "name": "stdout",
     "output_type": "stream",
     "text": [
      "\n",
      "Epoch: 11\n"
     ]
    },
    {
     "name": "stderr",
     "output_type": "stream",
     "text": [
      "Metric val_loss improved by 0.010 >= min_delta = 0.0. New best score: 0.394\n",
      "Epoch 11, global step 3624: 'val_dice' reached 0.61328 (best 0.61328), saving model to '/home/albert/ml/Contrails/notebooks/full_dataset/test_use_all_bands/resnest26d_ash_attention_sample_loss/resnest101e_alpha=0.5_alpha_union=0.5_weight_ground_truth=1.ckpt' as top 1\n"
     ]
    },
    {
     "data": {
      "application/vnd.jupyter.widget-view+json": {
       "model_id": "",
       "version_major": 2,
       "version_minor": 0
      },
      "text/plain": [
       "Validation: 0it [00:00, ?it/s]"
      ]
     },
     "metadata": {},
     "output_type": "display_data"
    },
    {
     "name": "stdout",
     "output_type": "stream",
     "text": [
      "\n",
      "Epoch: 12\n"
     ]
    },
    {
     "name": "stderr",
     "output_type": "stream",
     "text": [
      "Epoch 12, global step 3926: 'val_dice' was not in top 1\n"
     ]
    },
    {
     "data": {
      "application/vnd.jupyter.widget-view+json": {
       "model_id": "",
       "version_major": 2,
       "version_minor": 0
      },
      "text/plain": [
       "Validation: 0it [00:00, ?it/s]"
      ]
     },
     "metadata": {},
     "output_type": "display_data"
    },
    {
     "name": "stdout",
     "output_type": "stream",
     "text": [
      "\n",
      "Epoch: 13\n"
     ]
    },
    {
     "name": "stderr",
     "output_type": "stream",
     "text": [
      "Epoch 13, global step 4228: 'val_dice' was not in top 1\n"
     ]
    },
    {
     "data": {
      "application/vnd.jupyter.widget-view+json": {
       "model_id": "",
       "version_major": 2,
       "version_minor": 0
      },
      "text/plain": [
       "Validation: 0it [00:00, ?it/s]"
      ]
     },
     "metadata": {},
     "output_type": "display_data"
    },
    {
     "name": "stdout",
     "output_type": "stream",
     "text": [
      "\n",
      "Epoch: 14\n"
     ]
    },
    {
     "name": "stderr",
     "output_type": "stream",
     "text": [
      "Epoch 14, global step 4530: 'val_dice' was not in top 1\n"
     ]
    },
    {
     "data": {
      "application/vnd.jupyter.widget-view+json": {
       "model_id": "",
       "version_major": 2,
       "version_minor": 0
      },
      "text/plain": [
       "Validation: 0it [00:00, ?it/s]"
      ]
     },
     "metadata": {},
     "output_type": "display_data"
    },
    {
     "name": "stdout",
     "output_type": "stream",
     "text": [
      "\n",
      "Epoch: 15\n"
     ]
    },
    {
     "name": "stderr",
     "output_type": "stream",
     "text": [
      "Epoch 15, global step 4832: 'val_dice' was not in top 1\n"
     ]
    },
    {
     "data": {
      "application/vnd.jupyter.widget-view+json": {
       "model_id": "",
       "version_major": 2,
       "version_minor": 0
      },
      "text/plain": [
       "Validation: 0it [00:00, ?it/s]"
      ]
     },
     "metadata": {},
     "output_type": "display_data"
    },
    {
     "name": "stdout",
     "output_type": "stream",
     "text": [
      "\n",
      "Epoch: 16\n"
     ]
    },
    {
     "name": "stderr",
     "output_type": "stream",
     "text": [
      "Monitored metric val_loss did not improve in the last 5 records. Best score: 0.394. Signaling Trainer to stop.\n",
      "Epoch 16, global step 5134: 'val_dice' was not in top 1\n",
      "Trainer was signaled to stop but the required `min_epochs=24` or `min_steps=None` has not been met. Training will continue...\n"
     ]
    },
    {
     "data": {
      "application/vnd.jupyter.widget-view+json": {
       "model_id": "",
       "version_major": 2,
       "version_minor": 0
      },
      "text/plain": [
       "Validation: 0it [00:00, ?it/s]"
      ]
     },
     "metadata": {},
     "output_type": "display_data"
    },
    {
     "name": "stdout",
     "output_type": "stream",
     "text": [
      "\n",
      "Epoch: 17\n"
     ]
    },
    {
     "name": "stderr",
     "output_type": "stream",
     "text": [
      "Monitored metric val_loss did not improve in the last 6 records. Best score: 0.394. Signaling Trainer to stop.\n",
      "Epoch 17, global step 5436: 'val_dice' was not in top 1\n"
     ]
    },
    {
     "data": {
      "application/vnd.jupyter.widget-view+json": {
       "model_id": "",
       "version_major": 2,
       "version_minor": 0
      },
      "text/plain": [
       "Validation: 0it [00:00, ?it/s]"
      ]
     },
     "metadata": {},
     "output_type": "display_data"
    },
    {
     "name": "stdout",
     "output_type": "stream",
     "text": [
      "\n",
      "Epoch: 18\n"
     ]
    },
    {
     "name": "stderr",
     "output_type": "stream",
     "text": [
      "Monitored metric val_loss did not improve in the last 7 records. Best score: 0.394. Signaling Trainer to stop.\n",
      "Epoch 18, global step 5738: 'val_dice' was not in top 1\n"
     ]
    },
    {
     "data": {
      "application/vnd.jupyter.widget-view+json": {
       "model_id": "",
       "version_major": 2,
       "version_minor": 0
      },
      "text/plain": [
       "Validation: 0it [00:00, ?it/s]"
      ]
     },
     "metadata": {},
     "output_type": "display_data"
    },
    {
     "name": "stdout",
     "output_type": "stream",
     "text": [
      "\n",
      "Epoch: 19\n"
     ]
    },
    {
     "name": "stderr",
     "output_type": "stream",
     "text": [
      "Monitored metric val_loss did not improve in the last 8 records. Best score: 0.394. Signaling Trainer to stop.\n",
      "Epoch 19, global step 6040: 'val_dice' was not in top 1\n"
     ]
    },
    {
     "data": {
      "application/vnd.jupyter.widget-view+json": {
       "model_id": "",
       "version_major": 2,
       "version_minor": 0
      },
      "text/plain": [
       "Validation: 0it [00:00, ?it/s]"
      ]
     },
     "metadata": {},
     "output_type": "display_data"
    },
    {
     "name": "stdout",
     "output_type": "stream",
     "text": [
      "\n",
      "Epoch: 20\n"
     ]
    },
    {
     "name": "stderr",
     "output_type": "stream",
     "text": [
      "Monitored metric val_loss did not improve in the last 9 records. Best score: 0.394. Signaling Trainer to stop.\n",
      "Epoch 20, global step 6342: 'val_dice' was not in top 1\n"
     ]
    },
    {
     "data": {
      "application/vnd.jupyter.widget-view+json": {
       "model_id": "",
       "version_major": 2,
       "version_minor": 0
      },
      "text/plain": [
       "Validation: 0it [00:00, ?it/s]"
      ]
     },
     "metadata": {},
     "output_type": "display_data"
    },
    {
     "name": "stdout",
     "output_type": "stream",
     "text": [
      "\n",
      "Epoch: 21\n"
     ]
    },
    {
     "name": "stderr",
     "output_type": "stream",
     "text": [
      "Monitored metric val_loss did not improve in the last 10 records. Best score: 0.394. Signaling Trainer to stop.\n",
      "Epoch 21, global step 6644: 'val_dice' was not in top 1\n"
     ]
    }
   ],
   "source": [
    "sample_union_loss(0, resnest26d_ash_attention_sample_loss, LightningModuleTrLoss, alpha = 0.5,alpha_union = 0.5, weight_ground_truth = 1)"
   ]
  },
  {
   "cell_type": "markdown",
   "id": "13e089f2-5ed3-4fb7-ad0c-8affa5c97991",
   "metadata": {},
   "source": [
    "1. Bei nicht benutzung von k folds und den unterschiedlichen verteilungen der klassen in val/train ist tversky_loss mit a>b marginal besser als dice loss in val_dice\n",
    "2. Image size größer scheint val_dice zu verbessern bei verlängerter lr\n"
   ]
  }
 ],
 "metadata": {
  "kernelspec": {
   "display_name": "Python 3.11.3 (pytorch_gpu)",
   "language": "python",
   "name": "pytorch_gpu"
  },
  "language_info": {
   "codemirror_mode": {
    "name": "ipython",
    "version": 3
   },
   "file_extension": ".py",
   "mimetype": "text/x-python",
   "name": "python",
   "nbconvert_exporter": "python",
   "pygments_lexer": "ipython3",
   "version": "3.11.4"
  }
 },
 "nbformat": 4,
 "nbformat_minor": 5
}
