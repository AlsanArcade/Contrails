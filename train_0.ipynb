{
 "cells": [
  {
   "cell_type": "code",
   "execution_count": 2,
   "id": "6b353ec2-07e9-493c-8d29-76a25b1b46ce",
   "metadata": {
    "tags": []
   },
   "outputs": [],
   "source": [
    "import deepdish\n",
    "import glob\n",
    "# import h5py11\n",
    "import lightning as L\n",
    "from lightning.pytorch.loggers import CSVLogger, TensorBoardLogger\n",
    "from lightning.pytorch.callbacks import ModelCheckpoint, EarlyStopping, TQDMProgressBar\n",
    "import matplotlib.pyplot as plt\n",
    "import numpy as np\n",
    "import os\n",
    "import pandas as pd\n",
    "import segmentation_models_pytorch as smp\n",
    "import torchvision.transforms as T\n",
    "import torch\n",
    "import torch.nn as nn\n",
    "from torch.optim.lr_scheduler import CosineAnnealingLR, ReduceLROnPlateau\n",
    "from torch.optim import AdamW\n",
    "from torchmetrics.functional import dice\n",
    "from torch.utils.data import Dataset, DataLoader\n",
    "import warnings\n",
    "import yaml\n",
    "# from pprint import pprint\n",
    "\n",
    "warnings.filterwarnings(\"ignore\")"
   ]
  },
  {
   "cell_type": "code",
   "execution_count": 3,
   "id": "6d00d179-b2d3-4942-85d2-eaf6bcc022e3",
   "metadata": {
    "tags": []
   },
   "outputs": [
    {
     "data": {
      "text/plain": [
       "'/home/albert/ml/Contrails/notebooks/full_dataset/test_use_all_bands'"
      ]
     },
     "execution_count": 3,
     "metadata": {},
     "output_type": "execute_result"
    }
   ],
   "source": [
    "%pwd"
   ]
  },
  {
   "cell_type": "code",
   "execution_count": 4,
   "id": "0e08cd3f-a7d3-4143-94cb-e17d171b1aaf",
   "metadata": {},
   "outputs": [],
   "source": [
    "torch.set_float32_matmul_precision('medium')"
   ]
  },
  {
   "cell_type": "code",
   "execution_count": 5,
   "id": "8de38daf-40c2-47e1-90cd-56d535a695a1",
   "metadata": {
    "editable": true,
    "slideshow": {
     "slide_type": ""
    },
    "tags": []
   },
   "outputs": [],
   "source": [
    "data_path_mf_train = \"/home/albert/ml/Contrails/data/full_dataset/train/\"\n",
    "data_path_mf_valid = \"/home/albert/ml/Contrails/data/full_dataset/validation/\""
   ]
  },
  {
   "cell_type": "markdown",
   "id": "0192718b-b8fb-4525-adc9-16351e58080c",
   "metadata": {},
   "source": [
    "### Create and save config"
   ]
  },
  {
   "cell_type": "code",
   "execution_count": 6,
   "id": "f7ff48c7-e6d8-42f6-84c7-5c3524a1034d",
   "metadata": {
    "tags": []
   },
   "outputs": [
    {
     "name": "stdout",
     "output_type": "stream",
     "text": [
      "mkdir: cannot create directory ‘./resnest26d_ash_attention_sample_loss’: File exists\n"
     ]
    }
   ],
   "source": [
    "!mkdir \"./resnest26d_ash_attention_sample_loss\""
   ]
  },
  {
   "cell_type": "code",
   "execution_count": 7,
   "id": "b02b5b3b-d868-4ff8-a04c-3ddfce2807c3",
   "metadata": {
    "tags": []
   },
   "outputs": [
    {
     "name": "stdout",
     "output_type": "stream",
     "text": [
      "Overwriting resnest26d_ash_attention_sample_loss.yaml\n"
     ]
    }
   ],
   "source": [
    "%%writefile resnest26d_ash_attention_sample_loss.yaml\n",
    "\n",
    "output_dir: \"./resnest26d_ash_attention_sample_loss\"\n",
    "\n",
    "seed: 42\n",
    "\n",
    "train_bs: 68\n",
    "valid_bs: 128\n",
    "workers: 6\n",
    "\n",
    "progress_bar_refresh_rate: 1\n",
    "\n",
    "early_stop:\n",
    "    monitor: \"val_loss\"\n",
    "    mode: \"min\"\n",
    "    patience: 5\n",
    "    verbose: 1\n",
    "\n",
    "trainer:\n",
    "    max_epochs: 30\n",
    "    min_epochs: 24\n",
    "    enable_progress_bar: True\n",
    "    precision: \"16-mixed\"\n",
    "    devices: 1\n",
    "\n",
    "model:\n",
    "    alpha: -1.0\n",
    "    beta: -1.0\n",
    "    alpha_union: -1.0\n",
    "    beta_union: -1.0\n",
    "    weight_union: -1.0\n",
    "    weight_ground_truth: -1.0\n",
    "    seg_model: \"Unet\"\n",
    "    encoder_name: \"timm-resnest26d\"\n",
    "    encoder_depth: 5\n",
    "    loss_smooth: 1.0\n",
    "    decoder_attention_type: \"scse\"\n",
    "    image_size: 384\n",
    "    optimizer_params:\n",
    "        lr: 0.0005\n",
    "        weight_decay: 0.0\n",
    "        eps: 1.0e-6\n",
    "    scheduler:\n",
    "        name: \"CosineAnnealingLR\"\n",
    "        params:\n",
    "            CosineAnnealingLR:\n",
    "                T_max: 2\n",
    "                eta_min: 1.0e-6\n",
    "                last_epoch: -1\n",
    "            ReduceLROnPlateau:\n",
    "                mode: \"min\"\n",
    "                factor: 0.31622776601\n",
    "                patience: 4\n",
    "                verbose: True"
   ]
  },
  {
   "cell_type": "code",
   "execution_count": 8,
   "id": "87297f85-7dd2-4b4d-ad00-7234ccc462a2",
   "metadata": {
    "tags": []
   },
   "outputs": [],
   "source": [
    "with open(\"resnest26d_ash_attention_sample_loss.yaml\", \"r\") as file_obj:\n",
    "    resnest26d_ash_attention_sample_loss = yaml.safe_load(file_obj)"
   ]
  },
  {
   "cell_type": "code",
   "execution_count": 9,
   "id": "af11d159-5c51-47b4-8c75-77e2456101af",
   "metadata": {
    "tags": []
   },
   "outputs": [
    {
     "name": "stdout",
     "output_type": "stream",
     "text": [
      "mkdir: cannot create directory ‘./resnest26d_ash_attention_sample_loss_diff_sched’: File exists\n"
     ]
    }
   ],
   "source": [
    "!mkdir \"./resnest26d_ash_attention_sample_loss_diff_sched\""
   ]
  },
  {
   "cell_type": "code",
   "execution_count": 10,
   "id": "3c6b2d58-70e5-47bc-8e0f-cb4ab63760bd",
   "metadata": {
    "tags": []
   },
   "outputs": [
    {
     "name": "stdout",
     "output_type": "stream",
     "text": [
      "Overwriting resnest26d_ash_attention_sample_loss_diff_sched.yaml\n"
     ]
    }
   ],
   "source": [
    "%%writefile resnest26d_ash_attention_sample_loss_diff_sched.yaml\n",
    "\n",
    "output_dir: \"./resnest26d_ash_attention_sample_loss_diff_sched\"\n",
    "\n",
    "seed: 42\n",
    "\n",
    "train_bs: 68\n",
    "valid_bs: 128\n",
    "workers: 6\n",
    "\n",
    "progress_bar_refresh_rate: 1\n",
    "\n",
    "early_stop:\n",
    "    monitor: \"val_loss\"\n",
    "    mode: \"min\"\n",
    "    patience: 5\n",
    "    verbose: 1\n",
    "\n",
    "trainer:\n",
    "    max_epochs: 30\n",
    "    min_epochs: 24\n",
    "    enable_progress_bar: True\n",
    "    precision: \"16-mixed\"\n",
    "    devices: 1\n",
    "\n",
    "model:\n",
    "    alpha: -1.0\n",
    "    beta: -1.0\n",
    "    alpha_union: -1.0\n",
    "    beta_union: -1.0\n",
    "    weight_union: -1.0\n",
    "    weight_ground_truth: -1.0\n",
    "    seg_model: \"Unet\"\n",
    "    encoder_name: \"timm-resnest26d\"\n",
    "    encoder_depth: 5\n",
    "    loss_smooth: 1.0\n",
    "    decoder_attention_type: \"scse\"\n",
    "    image_size: 384\n",
    "    optimizer_params:\n",
    "        lr: 0.0005\n",
    "        weight_decay: 0.0\n",
    "        eps: 1.0e-6\n",
    "    scheduler:\n",
    "        name: \"cosine_with_hard_restarts_schedule_with_warmup\"\n",
    "        params:\n",
    "            cosine_with_hard_restarts_schedule_with_warmup:\n",
    "                num_warmup_steps: 350\n",
    "                num_training_steps: 3150\n",
    "                num_cycles: 1"
   ]
  },
  {
   "cell_type": "code",
   "execution_count": 11,
   "id": "c0f22c87-3de5-4760-aabf-52737227ff1b",
   "metadata": {
    "tags": []
   },
   "outputs": [],
   "source": [
    "with open(\"resnest26d_ash_attention_sample_loss_diff_sched.yaml\", \"r\") as file_obj:\n",
    "    resnest26d_ash_attention_sample_loss_diff_sched = yaml.safe_load(file_obj)"
   ]
  },
  {
   "cell_type": "markdown",
   "id": "096de2a9-414a-4619-8495-51fe55ebf911",
   "metadata": {},
   "source": [
    "#### 101 512"
   ]
  },
  {
   "cell_type": "code",
   "execution_count": null,
   "id": "193c6852-2ac0-4366-83b8-40b7ebf38040",
   "metadata": {},
   "outputs": [],
   "source": []
  },
  {
   "cell_type": "code",
   "execution_count": 12,
   "id": "ae491801-cee2-4e81-9157-6553a262d831",
   "metadata": {
    "tags": []
   },
   "outputs": [
    {
     "name": "stdout",
     "output_type": "stream",
     "text": [
      "Overwriting resnest101e_ash_attention_sample_loss_kfold_512.yaml.yaml\n"
     ]
    }
   ],
   "source": [
    "%%writefile resnest101e_ash_attention_sample_loss_kfold_512.yaml.yaml\n",
    "\n",
    "output_dir: \"./resnest101e_ash_attention_sample_loss_kfold_512\"\n",
    "\n",
    "folds:\n",
    "    n_splits: 4\n",
    "    random_state: 42\n",
    "train_folds: [0, 1, 2, 3]\n",
    "\n",
    "seed: 42\n",
    "\n",
    "train_bs: 18\n",
    "valid_bs: 18\n",
    "workers: 6\n",
    "\n",
    "progress_bar_refresh_rate: 1\n",
    "\n",
    "early_stop:\n",
    "    monitor: \"val_loss\"\n",
    "    mode: \"min\"\n",
    "    patience: 5\n",
    "    verbose: 1\n",
    "\n",
    "trainer:\n",
    "    max_epochs: 30\n",
    "    min_epochs: 24\n",
    "    enable_progress_bar: True\n",
    "    precision: \"16-mixed\"\n",
    "    devices: 1\n",
    "\n",
    "model:\n",
    "    alpha: -1.0\n",
    "    beta: -1.0\n",
    "    alpha_union: -1.0\n",
    "    beta_union: -1.0\n",
    "    weight_union: -1.0\n",
    "    weight_ground_truth: -1.0\n",
    "    seg_model: \"Unet\"\n",
    "    encoder_name: \"timm-resnest101e\"\n",
    "    encoder_depth: 5\n",
    "    loss_smooth: 1.0\n",
    "    decoder_attention_type: \"scse\"\n",
    "    image_size: 384\n",
    "    optimizer_params:\n",
    "        lr: 0.0005\n",
    "        weight_decay: 0.0\n",
    "        eps: 1.0e-6\n",
    "    scheduler:\n",
    "        name: \"CosineAnnealingLR\"\n",
    "        params:\n",
    "            CosineAnnealingLR:\n",
    "                T_max: 2\n",
    "                eta_min: 1.0e-6\n",
    "                last_epoch: -1\n",
    "            ReduceLROnPlateau:\n",
    "                mode: \"min\"\n",
    "                factor: 0.31622776601\n",
    "                patience: 4\n",
    "                verbose: True\n"
   ]
  },
  {
   "cell_type": "code",
   "execution_count": 13,
   "id": "2a4eff34-b99e-494d-a73e-818b6acb4fb7",
   "metadata": {
    "tags": []
   },
   "outputs": [],
   "source": [
    "with open(\"resnest101e_ash_attention_sample_loss_kfold_512.yaml\", \"r\") as file_obj:\n",
    "    resnest101e_ash_attention_sample_loss_kfold_512 = yaml.safe_load(file_obj)"
   ]
  },
  {
   "cell_type": "markdown",
   "id": "389217bc-a879-4094-b6fd-3243fc0145ef",
   "metadata": {
    "tags": []
   },
   "source": [
    "### Dataset for full dataset"
   ]
  },
  {
   "cell_type": "code",
   "execution_count": 14,
   "id": "b714e70f-9a7a-44f4-85d2-ad14a4b8797b",
   "metadata": {
    "tags": []
   },
   "outputs": [],
   "source": [
    "class ContrailsDatasetMixed(Dataset):\n",
    "    def __init__(self, split=\"train\", mode=\"single\", delta_t = 0):\n",
    "        self.delta_t = delta_t\n",
    "        self.split = split\n",
    "        self.mode = mode\n",
    "        self.path = (lambda x: data_path_mf_train if x == \"train\" else data_path_mf_valid)(self.split)\n",
    "        self.examples = os.listdir(self.path)\n",
    "        self.normalize_image = T.Normalize((0.485, 0.456, 0.406), (0.229, 0.224, 0.225))\n",
    "    \n",
    "    def read_record(self, directory):\n",
    "        record_data = {}\n",
    "        for x in [\n",
    "            \"band_11\", \n",
    "            \"band_14\", \n",
    "            \"band_15\"\n",
    "        ]:\n",
    "            record_data[x] = np.load(os.path.join(directory, x + \".npy\"))\n",
    "\n",
    "        return record_data\n",
    "\n",
    "    def normalize_range(self, data, bounds):\n",
    "        \"\"\"Maps data to the range [0, 1].\"\"\"\n",
    "        return (data - bounds[0]) / (bounds[1] - bounds[0])\n",
    "    \n",
    "    def get_false_color(self, record_data):\n",
    "        _T11_BOUNDS = (243, 303)\n",
    "        _CLOUD_TOP_TDIFF_BOUNDS = (-4, 5)\n",
    "        _TDIFF_BOUNDS = (-4, 2)\n",
    "        r = self.normalize_range(record_data[\"band_15\"] - record_data[\"band_14\"], _TDIFF_BOUNDS)\n",
    "        g = self.normalize_range(record_data[\"band_14\"] - record_data[\"band_11\"], _CLOUD_TOP_TDIFF_BOUNDS)\n",
    "        b = self.normalize_range(record_data[\"band_14\"], _T11_BOUNDS)\n",
    "        false_color = np.clip(np.stack([r, g, b], axis=2), 0, 1)\n",
    "        if self.mode == \"single\":\n",
    "            t_null = 4\n",
    "            return false_color[..., t_null+self.delta_t]\n",
    "        else:\n",
    "            return false_color\n",
    "    \n",
    "    def __getitem__(self, index):\n",
    "        path = f\"{self.path}{self.examples[index]}\"\n",
    "        data = self.read_record(path)    \n",
    "        img = self.get_false_color(data)\n",
    "        if self.split == \"validation\":\n",
    "            label = np.load(os.path.join(path, \"human_pixel_masks.npy\")).squeeze()\n",
    "            label = torch.Tensor(label).to(torch.int64)\n",
    "        if self.split == \"train\":\n",
    "            label = np.load(os.path.join(path, \"human_pixel_masks.npy\")).squeeze()\n",
    "            label = torch.Tensor(label).to(torch.int64)\n",
    "            label_indiv = np.load(os.path.join(path, \"human_individual_masks.npy\")).squeeze()\n",
    "            labelers = label_indiv[1,1,:].shape[0]\n",
    "            label_union = torch.zeros([256, 256])\n",
    "            for i in range(labelers):\n",
    "                label_i = label_indiv[:, :,i]\n",
    "                label_union[label_i[:, :] == 1] = 1   \n",
    "\n",
    "        if self.mode == \"single\":\n",
    "            img = torch.tensor(np.reshape(img, (256, 256, 3, -1))).to(torch.float32).permute(3, 2, 0, 1).squeeze()\n",
    "        else:\n",
    "            img = torch.tensor(np.reshape(img, (256, 256, 3, -1))).to(torch.float32).permute(3, 2, 0, 1)\n",
    "\n",
    "        img = self.normalize_image(img)\n",
    "\n",
    "        if self.split in [\"train\"]:\n",
    "            return img.float(), [label.float(),label_union.float()]\n",
    "        if self.split in [\"validation\"]:\n",
    "            return img.float(), label.float()\n",
    "\n",
    "        return img.float()\n",
    "    \n",
    "    def __len__(self):\n",
    "        return len(self.examples)"
   ]
  },
  {
   "cell_type": "markdown",
   "id": "d9b8cacf-b51a-494d-935a-184ad3c34c42",
   "metadata": {
    "tags": []
   },
   "source": [
    "### Testing new training labels"
   ]
  },
  {
   "cell_type": "code",
   "execution_count": 15,
   "id": "321dacec-0bc3-477e-97b0-8f9773e98156",
   "metadata": {
    "tags": []
   },
   "outputs": [],
   "source": [
    "# dataset_train = ContrailsDatasetMixed()\n",
    "# img, _ = dataset_train.__getitem__(5886)\n",
    "# img.shape"
   ]
  },
  {
   "cell_type": "code",
   "execution_count": 16,
   "id": "b17dfda3-b12a-4b70-8f5d-29f760dc9661",
   "metadata": {
    "tags": []
   },
   "outputs": [],
   "source": [
    "# path = \"/home/albert/ml/Contrails/data/full_dataset/train/8048905517782272978\"\n",
    "# label_indiv = np.load(os.path.join(path, \"human_individual_masks.npy\")).squeeze()\n",
    "# label_indiv.shape\n",
    "\n",
    "# import matplotlib.pyplot as plt\n",
    "# import numpy as np\n",
    "# fig, axs = plt.subplots(1, 8, figsize=(20, 4))\n",
    "# for i in range(7):\n",
    "#     axs[i].imshow(label_indiv[:,:,i], cmap='gray') \n",
    "# # axs[i].axis('off')\n",
    "\n",
    "# img, _ = dataset_train.__getitem__(5886)\n",
    "# axs[7].imshow(img.permute(1,2,0)) \n",
    "# plt.show()\n",
    "\n"
   ]
  },
  {
   "cell_type": "markdown",
   "id": "8d8c5c34-c62c-4ef2-a178-716155ff19ad",
   "metadata": {
    "tags": []
   },
   "source": [
    "### Lightning Module"
   ]
  },
  {
   "cell_type": "markdown",
   "id": "a72618b1-7fff-47f3-b3b5-549883484704",
   "metadata": {},
   "source": [
    "#### Tversky loss"
   ]
  },
  {
   "cell_type": "code",
   "execution_count": 17,
   "id": "497f0244-94be-4bf2-b72c-d9d8cc4a9255",
   "metadata": {
    "tags": []
   },
   "outputs": [],
   "source": [
    "from transformers import get_cosine_with_hard_restarts_schedule_with_warmup\n",
    "\n",
    "class LightningModuleTrLoss(L.LightningModule):\n",
    "    def __init__(self, config):\n",
    "        super().__init__()\n",
    "        self.config = config\n",
    "        # print(config[\"aux_params\"])\n",
    "        self.model = model = smp.Unet(\n",
    "            encoder_name=config[\"encoder_name\"],\n",
    "            encoder_depth=config[\"encoder_depth\"],\n",
    "            decoder_channels = (256, 128, 64, 32,16)[:config[\"encoder_depth\"]],\n",
    "            # aux_params = config[\"aux_params\"],\n",
    "            decoder_attention_type =config[\"decoder_attention_type\"],\n",
    "            encoder_weights=\"imagenet\",\n",
    "            in_channels=3,\n",
    "            classes=1,\n",
    "            activation=None,\n",
    "        )\n",
    "        self.loss_module = smp.losses.DiceLoss(mode=\"binary\", smooth=config[\"loss_smooth\"])\n",
    "        self.val_step_outputs = []\n",
    "        self.val_step_labels = []\n",
    "        self.alpha = config[\"alpha\"]\n",
    "        self.beta = config[\"beta\"]\n",
    "        self.alpha_union = config[\"alpha_union\"]\n",
    "        self.beta_union = config[\"beta_union\"]\n",
    "\n",
    "    def forward(self, batch):\n",
    "        imgs = batch\n",
    "        preds = self.model(imgs)\n",
    "        return preds\n",
    "\n",
    "    def configure_optimizers(self):\n",
    "        optimizer = AdamW(self.parameters(), **self.config[\"optimizer_params\"])\n",
    "\n",
    "        if self.config[\"scheduler\"][\"name\"] == \"CosineAnnealingLR\":\n",
    "            scheduler = CosineAnnealingLR(\n",
    "                optimizer,\n",
    "                **self.config[\"scheduler\"][\"params\"][\"CosineAnnealingLR\"],\n",
    "            )\n",
    "            lr_scheduler_dict = {\"scheduler\": scheduler, \"interval\": \"step\"}\n",
    "            return {\"optimizer\": optimizer, \"lr_scheduler\": lr_scheduler_dict}\n",
    "        elif self.config[\"scheduler\"][\"name\"] == \"ReduceLROnPlateau\":\n",
    "            scheduler = ReduceLROnPlateau(\n",
    "                optimizer,\n",
    "                **self.config[\"scheduler\"][\"params\"][\"ReduceLROnPlateau\"],\n",
    "            )\n",
    "            lr_scheduler = {\"scheduler\": scheduler, \"monitor\": \"val_loss\"}\n",
    "            return {\"optimizer\": optimizer, \"lr_scheduler\": lr_scheduler}\n",
    "        elif self.config[\"scheduler\"][\"name\"] == \"cosine_with_hard_restarts_schedule_with_warmup\":\n",
    "            scheduler = get_cosine_with_hard_restarts_schedule_with_warmup(\n",
    "                optimizer,\n",
    "                **self.config[\"scheduler\"][\"params\"][self.config[\"scheduler\"][\"name\"]],\n",
    "            )\n",
    "            lr_scheduler_dict = {\"scheduler\": scheduler, \"interval\": \"step\"}\n",
    "            return {\"optimizer\": optimizer, \"lr_scheduler\": lr_scheduler_dict}\n",
    "\n",
    "\n",
    "    def training_step(self, batch, batch_idx):\n",
    "        imgs, [label_gt,label_union] = batch\n",
    "        preds = self.model(imgs)\n",
    "        if self.config[\"image_size\"] != 256:\n",
    "            preds = torch.nn.functional.interpolate(preds, size=256, mode='bilinear')\n",
    "        loss_ground_truth = smp.losses.TverskyLoss(\"binary\", classes=None, log_loss=False, from_logits=True, smooth=0.0, ignore_index=None, eps=1e-06, alpha=self.alpha, beta=self.beta, gamma=1.0)(preds, label_gt)\n",
    "        loss_union = smp.losses.TverskyLoss(\"binary\", classes=None, log_loss=False, from_logits=True, smooth=0.0, ignore_index=None, eps=1e-06, alpha=self.alpha_union, beta=self.beta_union, gamma=1.0)(preds, label_union)\n",
    "        loss = torch.mul(loss_ground_truth,self.config[\"weight_ground_truth\"])+torch.mul(loss_union, self.config[\"weight_union\"])\n",
    "        self.log('loss_union', float(loss_union) , on_step=False, on_epoch=True, prog_bar=True) #, batch_size=16\n",
    "        self.log('loss_ground_truth', float(loss_ground_truth) , on_step=False, on_epoch=True, prog_bar=True)\n",
    "\n",
    "        for param_group in self.trainer.optimizers[0].param_groups:\n",
    "            lr = param_group[\"lr\"]\n",
    "        self.log(\"lr\", lr, on_step=True, on_epoch=False, prog_bar=True)\n",
    "\n",
    "        return {'loss': loss}\n",
    "\n",
    "    def validation_step(self, batch, batch_idx):\n",
    "        imgs, labels = batch\n",
    "        preds = self.model(imgs)\n",
    "        if self.config[\"image_size\"] != 256:\n",
    "            preds = torch.nn.functional.interpolate(preds, size=256, mode='bilinear')\n",
    "        loss = self.loss_module(preds, labels)\n",
    "        self.log(\"val_loss\", loss, on_step=False, on_epoch=True, prog_bar=True)\n",
    "        self.val_step_outputs.append(preds)\n",
    "        self.val_step_labels.append(labels)\n",
    "\n",
    "    def on_validation_epoch_end(self):\n",
    "        all_preds = torch.cat(self.val_step_outputs)\n",
    "        all_labels = torch.cat(self.val_step_labels)\n",
    "        all_preds = torch.sigmoid(all_preds)\n",
    "        self.val_step_outputs.clear()\n",
    "        self.val_step_labels.clear()\n",
    "        val_dice = dice(all_preds, all_labels.long())\n",
    "        self.log(\"val_dice\", val_dice, on_step=False, on_epoch=True, prog_bar=True)\n",
    "        if self.trainer.global_rank == 0:\n",
    "            print(f\"\\nEpoch: {self.current_epoch}\", flush=True)"
   ]
  },
  {
   "cell_type": "code",
   "execution_count": 18,
   "id": "3ff5bde3-5984-4786-bd9b-de46ce28e855",
   "metadata": {
    "tags": []
   },
   "outputs": [],
   "source": [
    "class LightningModuleTrLoss512(L.LightningModule):\n",
    "    def __init__(self, config):\n",
    "        super().__init__()\n",
    "        self.config = config\n",
    "        # print(config[\"aux_params\"])\n",
    "        self.model = model = smp.Unet(\n",
    "            encoder_name=config[\"encoder_name\"],\n",
    "            encoder_depth=config[\"encoder_depth\"],\n",
    "            decoder_channels = (256, 128, 64, 32,16)[:config[\"encoder_depth\"]],\n",
    "            # aux_params = config[\"aux_params\"],\n",
    "            decoder_attention_type =config[\"decoder_attention_type\"],\n",
    "            encoder_weights=\"imagenet\",\n",
    "            in_channels=3,\n",
    "            classes=1,\n",
    "            activation=None,\n",
    "        )\n",
    "        self.loss_module = smp.losses.DiceLoss(mode=\"binary\", smooth=config[\"loss_smooth\"])\n",
    "        self.val_step_outputs = []\n",
    "        self.val_step_labels = []\n",
    "        self.alpha = config[\"alpha\"]\n",
    "        self.beta = config[\"beta\"]\n",
    "        self.alpha_union = config[\"alpha_union\"]\n",
    "        self.beta_union = config[\"beta_union\"]\n",
    "\n",
    "    def forward(self, batch):\n",
    "        imgs = batch\n",
    "        preds = self.model(imgs)\n",
    "        return preds\n",
    "\n",
    "    def configure_optimizers(self):\n",
    "        optimizer = AdamW(self.parameters(), **self.config[\"optimizer_params\"])\n",
    "\n",
    "        if self.config[\"scheduler\"][\"name\"] == \"CosineAnnealingLR\":\n",
    "            scheduler = CosineAnnealingLR(\n",
    "                optimizer,\n",
    "                **self.config[\"scheduler\"][\"params\"][\"CosineAnnealingLR\"],\n",
    "            )\n",
    "            lr_scheduler_dict = {\"scheduler\": scheduler, \"interval\": \"step\"}\n",
    "            return {\"optimizer\": optimizer, \"lr_scheduler\": lr_scheduler_dict}\n",
    "        elif self.config[\"scheduler\"][\"name\"] == \"ReduceLROnPlateau\":\n",
    "            scheduler = ReduceLROnPlateau(\n",
    "                optimizer,\n",
    "                **self.config[\"scheduler\"][\"params\"][\"ReduceLROnPlateau\"],\n",
    "            )\n",
    "            lr_scheduler = {\"scheduler\": scheduler, \"monitor\": \"val_loss\"}\n",
    "            return {\"optimizer\": optimizer, \"lr_scheduler\": lr_scheduler}\n",
    "\n",
    "    def training_step(self, batch, batch_idx):\n",
    "        imgs, [label_gt,label_union] = batch\n",
    "        imgs = torch.nn.functional.interpolate(imgs, size=512, mode='bilinear')\n",
    "        preds = self.model(imgs)\n",
    "        if self.config[\"image_size\"] != 256:\n",
    "            preds = torch.nn.functional.interpolate(preds, size=256, mode='bilinear')\n",
    "        loss_ground_truth = smp.losses.TverskyLoss(\"binary\", classes=None, log_loss=False, from_logits=True, smooth=0.0, ignore_index=None, eps=1e-06, alpha=self.alpha, beta=self.beta, gamma=1.0)(preds, label_gt)\n",
    "        loss_union = smp.losses.TverskyLoss(\"binary\", classes=None, log_loss=False, from_logits=True, smooth=0.0, ignore_index=None, eps=1e-06, alpha=self.alpha_union, beta=self.beta_union, gamma=1.0)(preds, label_union)\n",
    "        loss = torch.mul(loss_ground_truth,self.config[\"weight_ground_truth\"])+torch.mul(loss_union, self.config[\"weight_union\"])\n",
    "        self.log('loss_union', float(loss_union) , on_step=False, on_epoch=True, prog_bar=True) #, batch_size=16\n",
    "        self.log('loss_ground_truth', float(loss_ground_truth) , on_step=False, on_epoch=True, prog_bar=True)\n",
    "\n",
    "        for param_group in self.trainer.optimizers[0].param_groups:\n",
    "            lr = param_group[\"lr\"]\n",
    "        self.log(\"lr\", lr, on_step=True, on_epoch=False, prog_bar=True)\n",
    "\n",
    "        return {'loss': loss}\n",
    "\n",
    "    def validation_step(self, batch, batch_idx):\n",
    "        imgs, labels = batch\n",
    "        imgs = torch.nn.functional.interpolate(imgs, size=512, mode='bilinear')\n",
    "        preds = self.model(imgs)\n",
    "        if self.config[\"image_size\"] != 256:\n",
    "            preds = torch.nn.functional.interpolate(preds, size=256, mode='bilinear')\n",
    "        loss = self.loss_module(preds, labels)\n",
    "        self.log(\"val_loss\", loss, on_step=False, on_epoch=True, prog_bar=True)\n",
    "        self.val_step_outputs.append(preds)\n",
    "        self.val_step_labels.append(labels)\n",
    "\n",
    "    def on_validation_epoch_end(self):\n",
    "        all_preds = torch.cat(self.val_step_outputs)\n",
    "        all_labels = torch.cat(self.val_step_labels)\n",
    "        all_preds = torch.sigmoid(all_preds)\n",
    "        self.val_step_outputs.clear()\n",
    "        self.val_step_labels.clear()\n",
    "        val_dice = dice(all_preds, all_labels.long())\n",
    "        self.log(\"val_dice\", val_dice, on_step=False, on_epoch=True, prog_bar=True)\n",
    "        if self.trainer.global_rank == 0:\n",
    "            print(f\"\\nEpoch: {self.current_epoch}\", flush=True)"
   ]
  },
  {
   "cell_type": "markdown",
   "id": "3d01a7fb-3c45-4802-a2e2-5d2351397ab6",
   "metadata": {
    "tags": []
   },
   "source": [
    "### Training functions"
   ]
  },
  {
   "cell_type": "code",
   "execution_count": 19,
   "id": "fd0300b8-dcb6-43a2-8451-146b0bd48fbd",
   "metadata": {},
   "outputs": [],
   "source": [
    "def sample_union_loss(delta, cfg, module,alpha, alpha_union, weight_ground_truth):\n",
    "    cfg['model'][\"alpha\"] = alpha\n",
    "    cfg['model'][\"beta\"] = 1-alpha\n",
    "    cfg['model'][\"alpha_union\"] = alpha_union\n",
    "    cfg['model'][\"beta_union\"] = 1-alpha_union\n",
    "    cfg['model'][\"weight_ground_truth\"] = weight_ground_truth\n",
    "    cfg['model'][\"weight_union\"] = 1-weight_ground_truth\n",
    "    identifier = \"resnest101e_alpha=\"+str(alpha)+\"_alpha_union=\"+str(alpha_union)+\"_weight_ground_truth=\"+str(weight_ground_truth)\n",
    "    dataset_train = ContrailsDatasetMixed(\"train\", \"single\",delta)\n",
    "    dataset_validation = ContrailsDatasetMixed(\"validation\",\"single\", delta)\n",
    "    \n",
    "    data_loader_train = DataLoader(\n",
    "    dataset_train,\n",
    "    batch_size=cfg[\"train_bs\"],\n",
    "    shuffle=True,\n",
    "    num_workers=cfg[\"workers\"],\n",
    "    )\n",
    "    \n",
    "    data_loader_validation = DataLoader(\n",
    "        dataset_validation,\n",
    "        batch_size=cfg[\"valid_bs\"],\n",
    "        shuffle=False,\n",
    "        num_workers=cfg[\"workers\"],\n",
    "    )\n",
    "    \n",
    "    checkpoint_callback = ModelCheckpoint(\n",
    "    save_weights_only=True,\n",
    "    monitor=\"val_dice\",\n",
    "    dirpath=cfg[\"output_dir\"],\n",
    "    mode=\"max\",\n",
    "    filename= identifier,\n",
    "    save_top_k=1,\n",
    "    verbose=1,\n",
    "    )\n",
    "    progress_bar_callback = TQDMProgressBar(\n",
    "    refresh_rate=cfg[\"progress_bar_refresh_rate\"]\n",
    "    )\n",
    "\n",
    "    early_stop_callback = EarlyStopping(**cfg[\"early_stop\"])\n",
    "    csv_logger = CSVLogger(cfg[\"output_dir\"], name=identifier)\n",
    "    trainer = L.Trainer(\n",
    "        callbacks=[checkpoint_callback, early_stop_callback, progress_bar_callback], logger = csv_logger,\n",
    "        **cfg[\"trainer\"],\n",
    "    )\n",
    "    \n",
    "    # cfg[\"model\"][\"scheduler\"][\"params\"][\"CosineAnnealingLR\"][\"T_max\"] *= len(data_loader_train)/cfg[\"trainer\"][\"devices\"]\n",
    "    model = module(cfg[\"model\"])\n",
    "    \n",
    "    trainer.fit(model, data_loader_train, data_loader_validation)\n",
    "    \n",
    "    "
   ]
  },
  {
   "cell_type": "markdown",
   "id": "170ae231-627f-47bf-864a-ac122f996951",
   "metadata": {},
   "source": [
    "### Training the timesteps"
   ]
  },
  {
   "cell_type": "code",
   "execution_count": null,
   "id": "7dfafc8a-766b-450c-b31d-55db35cc770e",
   "metadata": {
    "tags": []
   },
   "outputs": [
    {
     "name": "stderr",
     "output_type": "stream",
     "text": [
      "Using 16bit Automatic Mixed Precision (AMP)\n",
      "GPU available: True (cuda), used: True\n",
      "TPU available: False, using: 0 TPU cores\n",
      "IPU available: False, using: 0 IPUs\n",
      "HPU available: False, using: 0 HPUs\n",
      "LOCAL_RANK: 0 - CUDA_VISIBLE_DEVICES: [0]\n",
      "\n",
      "  | Name        | Type     | Params\n",
      "-----------------------------------------\n",
      "0 | model       | Unet     | 25.3 M\n",
      "1 | loss_module | DiceLoss | 0     \n",
      "-----------------------------------------\n",
      "25.3 M    Trainable params\n",
      "0         Non-trainable params\n",
      "25.3 M    Total params\n",
      "101.314   Total estimated model params size (MB)\n"
     ]
    },
    {
     "data": {
      "application/vnd.jupyter.widget-view+json": {
       "model_id": "",
       "version_major": 2,
       "version_minor": 0
      },
      "text/plain": [
       "Sanity Checking: 0it [00:00, ?it/s]"
      ]
     },
     "metadata": {},
     "output_type": "display_data"
    },
    {
     "name": "stdout",
     "output_type": "stream",
     "text": [
      "\n",
      "Epoch: 0\n"
     ]
    },
    {
     "data": {
      "application/vnd.jupyter.widget-view+json": {
       "model_id": "aa1cc641b0cc4a11be98669048d00940",
       "version_major": 2,
       "version_minor": 0
      },
      "text/plain": [
       "Training: 0it [00:00, ?it/s]"
      ]
     },
     "metadata": {},
     "output_type": "display_data"
    },
    {
     "data": {
      "application/vnd.jupyter.widget-view+json": {
       "model_id": "",
       "version_major": 2,
       "version_minor": 0
      },
      "text/plain": [
       "Validation: 0it [00:00, ?it/s]"
      ]
     },
     "metadata": {},
     "output_type": "display_data"
    },
    {
     "name": "stdout",
     "output_type": "stream",
     "text": [
      "\n",
      "Epoch: 0\n"
     ]
    },
    {
     "name": "stderr",
     "output_type": "stream",
     "text": [
      "Metric val_loss improved. New best score: 0.507\n",
      "Epoch 0, global step 302: 'val_dice' reached 0.51750 (best 0.51750), saving model to '/home/albert/ml/Contrails/notebooks/full_dataset/test_use_all_bands/resnest26d_ash_attention_sample_loss/resnest101e_alpha=0.35_alpha_union=0.4_weight_ground_truth=0.6.ckpt' as top 1\n"
     ]
    },
    {
     "data": {
      "application/vnd.jupyter.widget-view+json": {
       "model_id": "",
       "version_major": 2,
       "version_minor": 0
      },
      "text/plain": [
       "Validation: 0it [00:00, ?it/s]"
      ]
     },
     "metadata": {},
     "output_type": "display_data"
    },
    {
     "name": "stdout",
     "output_type": "stream",
     "text": [
      "\n",
      "Epoch: 1\n"
     ]
    },
    {
     "name": "stderr",
     "output_type": "stream",
     "text": [
      "Metric val_loss improved by 0.059 >= min_delta = 0.0. New best score: 0.448\n",
      "Epoch 1, global step 604: 'val_dice' reached 0.57224 (best 0.57224), saving model to '/home/albert/ml/Contrails/notebooks/full_dataset/test_use_all_bands/resnest26d_ash_attention_sample_loss/resnest101e_alpha=0.35_alpha_union=0.4_weight_ground_truth=0.6.ckpt' as top 1\n"
     ]
    }
   ],
   "source": [
    "for weight_ground_truth in [0.6,0.7,0.8]:\n",
    "    for alpha in [0.35,0.5,0.65]:\n",
    "        for alpha_union in [0.4,0.6,0.8]:\n",
    "            # sample_union_loss(0, resnest26d_ash_attention_sample_loss, LightningModuleTrLoss, alpha = alpha,alpha_union = alpha_union, weight_ground_truth = weight_ground_truth)"
   ]
  },
  {
   "cell_type": "markdown",
   "id": "2956db41-3bc1-409f-903c-ef7b981f042b",
   "metadata": {},
   "source": [
    "### Results"
   ]
  },
  {
   "cell_type": "code",
   "execution_count": null,
   "id": "e7a2027a-be2e-403c-8f67-c75fe955e6f6",
   "metadata": {
    "tags": []
   },
   "outputs": [],
   "source": [
    "import pandas as pd\n",
    "import matplotlib.pyplot as plt\n",
    "plt.figure(figsize=(15,20))\n",
    "for weight_ground_truth in [0.6]:\n",
    "    print(\"\")\n",
    "    for alpha in [0.35,0.5,0.65]:\n",
    "        for alpha_union in [0.4,0.6,0.8]:\n",
    "            path = f\"/home/albert/ml/Contrails/notebooks/full_dataset/test_use_all_bands/resnest26d_ash_attention_sample_loss/resnest101e_alpha={alpha}_alpha_union={alpha_union}_weight_ground_truth={weight_ground_truth}/version_0/metrics.csv\"\n",
    "            label = f\"alpha={alpha}_alpha_union={alpha_union}_weight_ground_truth={weight_ground_truth}\"\n",
    "            metrics = pd.read_csv(path)\n",
    "            metrics = metrics.dropna(subset = ['val_dice']).set_index(\"epoch\")\n",
    "            linestyle = {0.4:\"dotted\",0.6:\"--\",0.8:\"-\"}[alpha_union]\n",
    "            color = {0.35:(0.6,0,0),0.5:(0,0,0.5),0.65:(0, 0.6, 0)}[alpha]\n",
    "            plt.plot(metrics['val_dice'], label=label, linestyle = linestyle, color = color)\n",
    "            maximum = metrics.dropna(subset = ['val_dice']).max()[\"val_dice\"]#[[\"val_dice\",\"epoch\"]]\n",
    "            print(label + \" max: {:.3f}\".format(maximum))\n",
    "plt.legend()\n",
    "plt.show()"
   ]
  },
  {
   "cell_type": "code",
   "execution_count": 81,
   "id": "4a0ebe9d-d1d0-404d-a178-474103e13f54",
   "metadata": {
    "tags": []
   },
   "outputs": [
    {
     "name": "stdout",
     "output_type": "stream",
     "text": [
      "\n",
      "alpha=0.35_alpha_union=0.4_weight_ground_truth=0.7 max: 0.612\n",
      "alpha=0.35_alpha_union=0.6_weight_ground_truth=0.7 max: 0.613\n",
      "alpha=0.35_alpha_union=0.8_weight_ground_truth=0.7 max: 0.613\n"
     ]
    },
    {
     "data": {
      "image/png": "[encoded data removed]",
      "text/plain": [
       "<Figure size 1500x2000 with 1 Axes>"
      ]
     },
     "metadata": {},
     "output_type": "display_data"
    }
   ],
   "source": [
    "import pandas as pd\n",
    "import matplotlib.pyplot as plt\n",
    "plt.figure(figsize=(15,20))\n",
    "for weight_ground_truth in [0.7]:\n",
    "    print(\"\")\n",
    "    for alpha in [0.35]: #[0.35,0.5,0.65]\n",
    "        for alpha_union in [0.4,0.6,0.8]:\n",
    "            path = f\"/home/albert/ml/Contrails/notebooks/full_dataset/test_use_all_bands/resnest26d_ash_attention_sample_loss/resnest101e_alpha={alpha}_alpha_union={alpha_union}_weight_ground_truth={weight_ground_truth}/version_0/metrics.csv\"\n",
    "            label = f\"alpha={alpha}_alpha_union={alpha_union}_weight_ground_truth={weight_ground_truth}\"\n",
    "            metrics = pd.read_csv(path)\n",
    "            metrics = metrics.dropna(subset = ['val_dice']).set_index(\"epoch\")\n",
    "            linestyle = {0.4:\"dotted\",0.6:\"--\",0.8:\"-\"}[alpha_union]\n",
    "            color = {0.35:(0.6,0,0),0.5:(0,0,0.5),0.65:(0, 0.6, 0)}[alpha]\n",
    "            plt.plot(metrics['val_dice'], label=label, linestyle = linestyle, color = color)\n",
    "            maximum = metrics.dropna(subset = ['val_dice']).max()[\"val_dice\"]#[[\"val_dice\",\"epoch\"]]\n",
    "            print(label + \" max: {:.3f}\".format(maximum))\n",
    "plt.legend()\n",
    "plt.show()"
   ]
  },
  {
   "cell_type": "code",
   "execution_count": null,
   "id": "dc529cd7-b6e1-4e7d-96dc-b4a7d1b1ed36",
   "metadata": {},
   "outputs": [],
   "source": [
    "Continue to train alpha 0.5 alpha union 0.6 model -> seems to continue to improve"
   ]
  },
  {
   "cell_type": "code",
   "execution_count": 77,
   "id": "3e4de167-dcf0-4e68-b289-577efacf6d0a",
   "metadata": {
    "tags": []
   },
   "outputs": [
    {
     "name": "stdout",
     "output_type": "stream",
     "text": [
      " max: 0.612 alpha=0.35_alpha_union=0.4_weight_ground_truth=0.7\n",
      " max: 0.613 alpha=0.35_alpha_union=0.6_weight_ground_truth=0.7\n",
      " max: 0.613 alpha=0.35_alpha_union=0.8_weight_ground_truth=0.7\n",
      " max: 0.615 alpha=0.5_alpha_union=0.4_weight_ground_truth=0.7\n",
      " max: 0.619 alpha=0.5_alpha_union=0.6_weight_ground_truth=0.7\n",
      " max: 0.616 alpha=0.5_alpha_union=0.8_weight_ground_truth=0.7\n",
      " max: 0.610 alpha=0.65_alpha_union=0.4_weight_ground_truth=0.7\n",
      " max: 0.619 alpha=0.65_alpha_union=0.6_weight_ground_truth=0.7\n",
      " max: 0.615 alpha=0.65_alpha_union=0.8_weight_ground_truth=0.7\n"
     ]
    },
    {
     "data": {
      "image/png": "[encoded data removed]",
      "text/plain": [
       "<Figure size 640x480 with 1 Axes>"
      ]
     },
     "metadata": {},
     "output_type": "display_data"
    }
   ],
   "source": [
    "import pandas as pd\n",
    "import matplotlib.pyplot as plt\n",
    "from mpl_toolkits.mplot3d import Axes3D\n",
    "from scipy.interpolate import griddata\n",
    "import numpy as np\n",
    "\n",
    "data = []\n",
    "dice_list = []\n",
    "for weight_ground_truth in [0.7]:\n",
    "    for alpha in [0.35,0.5,0.65]:\n",
    "        for alpha_union in [0.4,0.6,0.8]:\n",
    "            path = f\"/home/albert/ml/Contrails/notebooks/full_dataset/test_use_all_bands/resnest26d_ash_attention_sample_loss/resnest101e_alpha={alpha}_alpha_union={alpha_union}_weight_ground_truth={weight_ground_truth}/version_0/metrics.csv\"\n",
    "            label = f\"alpha={alpha}_alpha_union={alpha_union}_weight_ground_truth={weight_ground_truth}\"\n",
    "            metrics = pd.read_csv(path)\n",
    "            metrics = metrics.dropna(subset = ['val_dice']).set_index(\"epoch\")\n",
    "            maximum = metrics.dropna(subset = ['val_dice']).max()[\"val_dice\"]#[[\"val_dice\",\"epoch\"]]\n",
    "            data.append([alpha, alpha_union, maximum])\n",
    "            dice_list.append(f\" max: {maximum:.3f} \"+label)\n",
    "\n",
    "dice_list.sort\n",
    "for element in dice_list: print(element)\n",
    "\n",
    "import matplotlib.pyplot as plt\n",
    "\n",
    "x = [i[0] for i in data]\n",
    "y = [i[1] for i in data]\n",
    "z = [i[2] for i in data]\n",
    "\n",
    "# plt.figure(figsize=(15,15))\n",
    "fig = plt.figure()\n",
    "ax = fig.add_subplot(111, projection='3d')\n",
    "\n",
    "# Create a mesh grid\n",
    "X,Y = np.meshgrid(x,y)\n",
    "\n",
    "# Interpolate the data\n",
    "from scipy.interpolate import griddata\n",
    "Z = griddata((x,y), z, (X,Y), method='cubic')\n",
    "\n",
    "# Plot the points with a color gradient\n",
    "ax.scatter(x,y,z,c=z,cmap='coolwarm', alpha=1)\n",
    "\n",
    "# Add a color bar which maps values to colors\n",
    "# fig.colorbar(surf)\n",
    "\n",
    "# Plot lines from points to surface\n",
    "for i in range(len(x)):\n",
    "    ax.plot([x[i], x[i]], [y[i], y[i]], [0.615, z[i]], color='black', alpha=0.5)\n",
    "\n",
    "# Plot the surface\n",
    "ax.set_xlabel('alpha')\n",
    "ax.set_ylabel('alpha_union')\n",
    "ax.set_zlabel('maximum')\n",
    "\n",
    "plt.show()"
   ]
  },
  {
   "cell_type": "code",
   "execution_count": 75,
   "id": "172006e2-a21f-49cd-8945-d3929d49a9ba",
   "metadata": {
    "tags": []
   },
   "outputs": [
    {
     "name": "stdout",
     "output_type": "stream",
     "text": [
      " max: 0.607 alpha=0.35_alpha_union=0.4_weight_ground_truth=0.6\n",
      " max: 0.612 alpha=0.35_alpha_union=0.6_weight_ground_truth=0.6\n",
      " max: 0.614 alpha=0.35_alpha_union=0.8_weight_ground_truth=0.6\n",
      " max: 0.616 alpha=0.5_alpha_union=0.4_weight_ground_truth=0.6\n",
      " max: 0.623 alpha=0.5_alpha_union=0.6_weight_ground_truth=0.6\n",
      " max: 0.625 alpha=0.5_alpha_union=0.8_weight_ground_truth=0.6\n",
      " max: 0.615 alpha=0.65_alpha_union=0.4_weight_ground_truth=0.6\n",
      " max: 0.619 alpha=0.65_alpha_union=0.6_weight_ground_truth=0.6\n",
      " max: 0.616 alpha=0.65_alpha_union=0.8_weight_ground_truth=0.6\n"
     ]
    },
    {
     "data": {
      "image/png": "[encoded data removed]",
      "text/plain": [
       "<Figure size 640x480 with 1 Axes>"
      ]
     },
     "metadata": {},
     "output_type": "display_data"
    }
   ],
   "source": [
    "import pandas as pd\n",
    "import matplotlib.pyplot as plt\n",
    "from mpl_toolkits.mplot3d import Axes3D\n",
    "from scipy.interpolate import griddata\n",
    "import numpy as np\n",
    "\n",
    "data = []\n",
    "dice_list = []\n",
    "\n",
    "for weight_ground_truth in [0.6]:\n",
    "    for alpha in [0.35,0.5,0.65]:\n",
    "        for alpha_union in [0.4,0.6,0.8]:\n",
    "            path = f\"/home/albert/ml/Contrails/notebooks/full_dataset/test_use_all_bands/resnest26d_ash_attention_sample_loss/resnest101e_alpha={alpha}_alpha_union={alpha_union}_weight_ground_truth={weight_ground_truth}/version_0/metrics.csv\"\n",
    "            label = f\"alpha={alpha}_alpha_union={alpha_union}_weight_ground_truth={weight_ground_truth}\"\n",
    "            metrics = pd.read_csv(path)\n",
    "            metrics = metrics.dropna(subset = ['val_dice']).set_index(\"epoch\")\n",
    "            maximum = metrics.dropna(subset = ['val_dice']).max()[\"val_dice\"]#[[\"val_dice\",\"epoch\"]]\n",
    "            data.append([alpha, alpha_union, maximum])\n",
    "            dice_list.append(f\" max: {maximum:.3f} \"+label)\n",
    "\n",
    "dice_list.sort\n",
    "for element in dice_list: print(element)\n",
    "\n",
    "\n",
    "\n",
    "import matplotlib.pyplot as plt\n",
    "\n",
    "x = [i[0] for i in data]\n",
    "y = [i[1] for i in data]\n",
    "z = [i[2] for i in data]\n",
    "\n",
    "# plt.figure(figsize=(15,15))\n",
    "fig = plt.figure()\n",
    "ax = fig.add_subplot(111, projection='3d')\n",
    "\n",
    "# Create a mesh grid\n",
    "X,Y = np.meshgrid(x,y)\n",
    "\n",
    "# Interpolate the data\n",
    "from scipy.interpolate import griddata\n",
    "Z = griddata((x,y), z, (X,Y), method='cubic')\n",
    "\n",
    "# Plot the points with a color gradient\n",
    "ax.scatter(x,y,z,c=z,cmap='coolwarm', alpha=1)\n",
    "\n",
    "# Add a color bar which maps values to colors\n",
    "# fig.colorbar(surf)\n",
    "\n",
    "# Plot lines from points to surface\n",
    "for i in range(len(x)):\n",
    "    ax.plot([x[i], x[i]], [y[i], y[i]], [0.615, z[i]], color='black', alpha=0.5)\n",
    "\n",
    "# Plot the surface\n",
    "ax.set_xlabel('alpha')\n",
    "ax.set_ylabel('alpha_union')\n",
    "ax.set_zlabel('maximum')\n",
    "\n",
    "plt.show()"
   ]
  },
  {
   "cell_type": "markdown",
   "id": "210bd09e-c8ec-480b-b489-c5b4f6352117",
   "metadata": {},
   "source": [
    "## Iterate and explore further"
   ]
  },
  {
   "cell_type": "code",
   "execution_count": null,
   "id": "e667d35d-9192-4b50-8ff5-e1fd9823028a",
   "metadata": {
    "tags": []
   },
   "outputs": [
    {
     "name": "stderr",
     "output_type": "stream",
     "text": [
      "Using 16bit Automatic Mixed Precision (AMP)\n",
      "GPU available: True (cuda), used: True\n",
      "TPU available: False, using: 0 TPU cores\n",
      "IPU available: False, using: 0 IPUs\n",
      "HPU available: False, using: 0 HPUs\n",
      "LOCAL_RANK: 0 - CUDA_VISIBLE_DEVICES: [0]\n",
      "\n",
      "  | Name        | Type     | Params\n",
      "-----------------------------------------\n",
      "0 | model       | Unet     | 25.3 M\n",
      "1 | loss_module | DiceLoss | 0     \n",
      "-----------------------------------------\n",
      "25.3 M    Trainable params\n",
      "0         Non-trainable params\n",
      "25.3 M    Total params\n",
      "101.314   Total estimated model params size (MB)\n"
     ]
    },
    {
     "data": {
      "application/vnd.jupyter.widget-view+json": {
       "model_id": "",
       "version_major": 2,
       "version_minor": 0
      },
      "text/plain": [
       "Sanity Checking: 0it [00:00, ?it/s]"
      ]
     },
     "metadata": {},
     "output_type": "display_data"
    },
    {
     "name": "stdout",
     "output_type": "stream",
     "text": [
      "\n",
      "Epoch: 0\n"
     ]
    },
    {
     "data": {
      "application/vnd.jupyter.widget-view+json": {
       "model_id": "a238ba5e89fe4bc2af3617b7e6a50621",
       "version_major": 2,
       "version_minor": 0
      },
      "text/plain": [
       "Training: 0it [00:00, ?it/s]"
      ]
     },
     "metadata": {},
     "output_type": "display_data"
    },
    {
     "data": {
      "application/vnd.jupyter.widget-view+json": {
       "model_id": "",
       "version_major": 2,
       "version_minor": 0
      },
      "text/plain": [
       "Validation: 0it [00:00, ?it/s]"
      ]
     },
     "metadata": {},
     "output_type": "display_data"
    },
    {
     "name": "stdout",
     "output_type": "stream",
     "text": [
      "\n",
      "Epoch: 0\n"
     ]
    },
    {
     "name": "stderr",
     "output_type": "stream",
     "text": [
      "Metric val_loss improved. New best score: 0.450\n",
      "Epoch 0, global step 302: 'val_dice' reached 0.56546 (best 0.56546), saving model to '/home/albert/ml/Contrails/notebooks/full_dataset/test_use_all_bands/resnest26d_ash_attention_sample_loss/resnest101e_alpha=0.45_alpha_union=0.75_weight_ground_truth=0.55.ckpt' as top 1\n"
     ]
    },
    {
     "data": {
      "application/vnd.jupyter.widget-view+json": {
       "model_id": "",
       "version_major": 2,
       "version_minor": 0
      },
      "text/plain": [
       "Validation: 0it [00:00, ?it/s]"
      ]
     },
     "metadata": {},
     "output_type": "display_data"
    },
    {
     "name": "stdout",
     "output_type": "stream",
     "text": [
      "\n",
      "Epoch: 1\n"
     ]
    },
    {
     "name": "stderr",
     "output_type": "stream",
     "text": [
      "Epoch 1, global step 604: 'val_dice' was not in top 1\n"
     ]
    },
    {
     "data": {
      "application/vnd.jupyter.widget-view+json": {
       "model_id": "",
       "version_major": 2,
       "version_minor": 0
      },
      "text/plain": [
       "Validation: 0it [00:00, ?it/s]"
      ]
     },
     "metadata": {},
     "output_type": "display_data"
    },
    {
     "name": "stdout",
     "output_type": "stream",
     "text": [
      "\n",
      "Epoch: 2\n"
     ]
    },
    {
     "name": "stderr",
     "output_type": "stream",
     "text": [
      "Metric val_loss improved by 0.021 >= min_delta = 0.0. New best score: 0.429\n",
      "Epoch 2, global step 906: 'val_dice' reached 0.57816 (best 0.57816), saving model to '/home/albert/ml/Contrails/notebooks/full_dataset/test_use_all_bands/resnest26d_ash_attention_sample_loss/resnest101e_alpha=0.45_alpha_union=0.75_weight_ground_truth=0.55.ckpt' as top 1\n"
     ]
    },
    {
     "data": {
      "application/vnd.jupyter.widget-view+json": {
       "model_id": "",
       "version_major": 2,
       "version_minor": 0
      },
      "text/plain": [
       "Validation: 0it [00:00, ?it/s]"
      ]
     },
     "metadata": {},
     "output_type": "display_data"
    },
    {
     "name": "stdout",
     "output_type": "stream",
     "text": [
      "\n",
      "Epoch: 3\n"
     ]
    },
    {
     "name": "stderr",
     "output_type": "stream",
     "text": [
      "Metric val_loss improved by 0.005 >= min_delta = 0.0. New best score: 0.424\n",
      "Epoch 3, global step 1208: 'val_dice' reached 0.58336 (best 0.58336), saving model to '/home/albert/ml/Contrails/notebooks/full_dataset/test_use_all_bands/resnest26d_ash_attention_sample_loss/resnest101e_alpha=0.45_alpha_union=0.75_weight_ground_truth=0.55.ckpt' as top 1\n"
     ]
    }
   ],
   "source": [
    "for weight_ground_truth in [0.55,0.45]:\n",
    "    for alpha in [0.45,0.5]:\n",
    "        for alpha_union in [0.75,0.85]:\n",
    "            sample_union_loss(0, resnest26d_ash_attention_sample_loss, LightningModuleTrLoss, alpha = alpha,alpha_union = alpha_union, weight_ground_truth = weight_ground_truth)"
   ]
  },
  {
   "cell_type": "code",
   "execution_count": 17,
   "id": "349d6e81-f0b6-45a6-aed0-691db2fe5da9",
   "metadata": {
    "collapsed": true,
    "jupyter": {
     "outputs_hidden": true
    },
    "tags": []
   },
   "outputs": [
    {
     "name": "stderr",
     "output_type": "stream",
     "text": [
      "Using 16bit Automatic Mixed Precision (AMP)\n",
      "GPU available: True (cuda), used: True\n",
      "TPU available: False, using: 0 TPU cores\n",
      "IPU available: False, using: 0 IPUs\n",
      "HPU available: False, using: 0 HPUs\n",
      "LOCAL_RANK: 0 - CUDA_VISIBLE_DEVICES: [0]\n",
      "\n",
      "  | Name        | Type     | Params\n",
      "-----------------------------------------\n",
      "0 | model       | Unet     | 25.3 M\n",
      "1 | loss_module | DiceLoss | 0     \n",
      "-----------------------------------------\n",
      "25.3 M    Trainable params\n",
      "0         Non-trainable params\n",
      "25.3 M    Total params\n",
      "101.314   Total estimated model params size (MB)\n"
     ]
    },
    {
     "data": {
      "application/vnd.jupyter.widget-view+json": {
       "model_id": "",
       "version_major": 2,
       "version_minor": 0
      },
      "text/plain": [
       "Sanity Checking: 0it [00:00, ?it/s]"
      ]
     },
     "metadata": {},
     "output_type": "display_data"
    },
    {
     "name": "stdout",
     "output_type": "stream",
     "text": [
      "\n",
      "Epoch: 0\n"
     ]
    },
    {
     "data": {
      "application/vnd.jupyter.widget-view+json": {
       "model_id": "edde3f7e709e4b83b4f68ce03aad34e1",
       "version_major": 2,
       "version_minor": 0
      },
      "text/plain": [
       "Training: 0it [00:00, ?it/s]"
      ]
     },
     "metadata": {},
     "output_type": "display_data"
    },
    {
     "data": {
      "application/vnd.jupyter.widget-view+json": {
       "model_id": "",
       "version_major": 2,
       "version_minor": 0
      },
      "text/plain": [
       "Validation: 0it [00:00, ?it/s]"
      ]
     },
     "metadata": {},
     "output_type": "display_data"
    },
    {
     "name": "stdout",
     "output_type": "stream",
     "text": [
      "\n",
      "Epoch: 0\n"
     ]
    },
    {
     "name": "stderr",
     "output_type": "stream",
     "text": [
      "Metric val_loss improved. New best score: 0.476\n",
      "Epoch 0, global step 302: 'val_dice' reached 0.53847 (best 0.53847), saving model to '/home/albert/ml/Contrails/notebooks/full_dataset/test_use_all_bands/resnest26d_ash_attention_sample_loss/resnest101e_alpha=0.5_alpha_union=0.9_weight_ground_truth=0.45.ckpt' as top 1\n"
     ]
    },
    {
     "data": {
      "application/vnd.jupyter.widget-view+json": {
       "model_id": "",
       "version_major": 2,
       "version_minor": 0
      },
      "text/plain": [
       "Validation: 0it [00:00, ?it/s]"
      ]
     },
     "metadata": {},
     "output_type": "display_data"
    },
    {
     "name": "stdout",
     "output_type": "stream",
     "text": [
      "\n",
      "Epoch: 1\n"
     ]
    },
    {
     "name": "stderr",
     "output_type": "stream",
     "text": [
      "Metric val_loss improved by 0.031 >= min_delta = 0.0. New best score: 0.444\n",
      "Epoch 1, global step 604: 'val_dice' reached 0.56334 (best 0.56334), saving model to '/home/albert/ml/Contrails/notebooks/full_dataset/test_use_all_bands/resnest26d_ash_attention_sample_loss/resnest101e_alpha=0.5_alpha_union=0.9_weight_ground_truth=0.45.ckpt' as top 1\n"
     ]
    },
    {
     "data": {
      "application/vnd.jupyter.widget-view+json": {
       "model_id": "",
       "version_major": 2,
       "version_minor": 0
      },
      "text/plain": [
       "Validation: 0it [00:00, ?it/s]"
      ]
     },
     "metadata": {},
     "output_type": "display_data"
    },
    {
     "name": "stdout",
     "output_type": "stream",
     "text": [
      "\n",
      "Epoch: 2\n"
     ]
    },
    {
     "name": "stderr",
     "output_type": "stream",
     "text": [
      "Epoch 2, global step 906: 'val_dice' was not in top 1\n"
     ]
    },
    {
     "data": {
      "application/vnd.jupyter.widget-view+json": {
       "model_id": "",
       "version_major": 2,
       "version_minor": 0
      },
      "text/plain": [
       "Validation: 0it [00:00, ?it/s]"
      ]
     },
     "metadata": {},
     "output_type": "display_data"
    },
    {
     "name": "stdout",
     "output_type": "stream",
     "text": [
      "\n",
      "Epoch: 3\n"
     ]
    },
    {
     "name": "stderr",
     "output_type": "stream",
     "text": [
      "Metric val_loss improved by 0.029 >= min_delta = 0.0. New best score: 0.415\n",
      "Epoch 3, global step 1208: 'val_dice' reached 0.59199 (best 0.59199), saving model to '/home/albert/ml/Contrails/notebooks/full_dataset/test_use_all_bands/resnest26d_ash_attention_sample_loss/resnest101e_alpha=0.5_alpha_union=0.9_weight_ground_truth=0.45.ckpt' as top 1\n"
     ]
    },
    {
     "data": {
      "application/vnd.jupyter.widget-view+json": {
       "model_id": "",
       "version_major": 2,
       "version_minor": 0
      },
      "text/plain": [
       "Validation: 0it [00:00, ?it/s]"
      ]
     },
     "metadata": {},
     "output_type": "display_data"
    },
    {
     "name": "stdout",
     "output_type": "stream",
     "text": [
      "\n",
      "Epoch: 4\n"
     ]
    },
    {
     "name": "stderr",
     "output_type": "stream",
     "text": [
      "Epoch 4, global step 1510: 'val_dice' was not in top 1\n"
     ]
    },
    {
     "data": {
      "application/vnd.jupyter.widget-view+json": {
       "model_id": "",
       "version_major": 2,
       "version_minor": 0
      },
      "text/plain": [
       "Validation: 0it [00:00, ?it/s]"
      ]
     },
     "metadata": {},
     "output_type": "display_data"
    },
    {
     "name": "stdout",
     "output_type": "stream",
     "text": [
      "\n",
      "Epoch: 5\n"
     ]
    },
    {
     "name": "stderr",
     "output_type": "stream",
     "text": [
      "Metric val_loss improved by 0.002 >= min_delta = 0.0. New best score: 0.413\n",
      "Epoch 5, global step 1812: 'val_dice' reached 0.59552 (best 0.59552), saving model to '/home/albert/ml/Contrails/notebooks/full_dataset/test_use_all_bands/resnest26d_ash_attention_sample_loss/resnest101e_alpha=0.5_alpha_union=0.9_weight_ground_truth=0.45.ckpt' as top 1\n"
     ]
    },
    {
     "data": {
      "application/vnd.jupyter.widget-view+json": {
       "model_id": "",
       "version_major": 2,
       "version_minor": 0
      },
      "text/plain": [
       "Validation: 0it [00:00, ?it/s]"
      ]
     },
     "metadata": {},
     "output_type": "display_data"
    },
    {
     "name": "stdout",
     "output_type": "stream",
     "text": [
      "\n",
      "Epoch: 6\n"
     ]
    },
    {
     "name": "stderr",
     "output_type": "stream",
     "text": [
      "Metric val_loss improved by 0.013 >= min_delta = 0.0. New best score: 0.400\n",
      "Epoch 6, global step 2114: 'val_dice' reached 0.60671 (best 0.60671), saving model to '/home/albert/ml/Contrails/notebooks/full_dataset/test_use_all_bands/resnest26d_ash_attention_sample_loss/resnest101e_alpha=0.5_alpha_union=0.9_weight_ground_truth=0.45.ckpt' as top 1\n"
     ]
    },
    {
     "data": {
      "application/vnd.jupyter.widget-view+json": {
       "model_id": "",
       "version_major": 2,
       "version_minor": 0
      },
      "text/plain": [
       "Validation: 0it [00:00, ?it/s]"
      ]
     },
     "metadata": {},
     "output_type": "display_data"
    },
    {
     "name": "stdout",
     "output_type": "stream",
     "text": [
      "\n",
      "Epoch: 7\n"
     ]
    },
    {
     "name": "stderr",
     "output_type": "stream",
     "text": [
      "Epoch 7, global step 2416: 'val_dice' was not in top 1\n"
     ]
    },
    {
     "data": {
      "application/vnd.jupyter.widget-view+json": {
       "model_id": "",
       "version_major": 2,
       "version_minor": 0
      },
      "text/plain": [
       "Validation: 0it [00:00, ?it/s]"
      ]
     },
     "metadata": {},
     "output_type": "display_data"
    },
    {
     "name": "stdout",
     "output_type": "stream",
     "text": [
      "\n",
      "Epoch: 8\n"
     ]
    },
    {
     "name": "stderr",
     "output_type": "stream",
     "text": [
      "Epoch 8, global step 2718: 'val_dice' was not in top 1\n"
     ]
    },
    {
     "data": {
      "application/vnd.jupyter.widget-view+json": {
       "model_id": "",
       "version_major": 2,
       "version_minor": 0
      },
      "text/plain": [
       "Validation: 0it [00:00, ?it/s]"
      ]
     },
     "metadata": {},
     "output_type": "display_data"
    },
    {
     "name": "stdout",
     "output_type": "stream",
     "text": [
      "\n",
      "Epoch: 9\n"
     ]
    },
    {
     "name": "stderr",
     "output_type": "stream",
     "text": [
      "Metric val_loss improved by 0.000 >= min_delta = 0.0. New best score: 0.399\n",
      "Epoch 9, global step 3020: 'val_dice' reached 0.60743 (best 0.60743), saving model to '/home/albert/ml/Contrails/notebooks/full_dataset/test_use_all_bands/resnest26d_ash_attention_sample_loss/resnest101e_alpha=0.5_alpha_union=0.9_weight_ground_truth=0.45.ckpt' as top 1\n"
     ]
    },
    {
     "data": {
      "application/vnd.jupyter.widget-view+json": {
       "model_id": "",
       "version_major": 2,
       "version_minor": 0
      },
      "text/plain": [
       "Validation: 0it [00:00, ?it/s]"
      ]
     },
     "metadata": {},
     "output_type": "display_data"
    },
    {
     "name": "stdout",
     "output_type": "stream",
     "text": [
      "\n",
      "Epoch: 10\n"
     ]
    },
    {
     "name": "stderr",
     "output_type": "stream",
     "text": [
      "Metric val_loss improved by 0.005 >= min_delta = 0.0. New best score: 0.394\n",
      "Epoch 10, global step 3322: 'val_dice' reached 0.61212 (best 0.61212), saving model to '/home/albert/ml/Contrails/notebooks/full_dataset/test_use_all_bands/resnest26d_ash_attention_sample_loss/resnest101e_alpha=0.5_alpha_union=0.9_weight_ground_truth=0.45.ckpt' as top 1\n"
     ]
    },
    {
     "data": {
      "application/vnd.jupyter.widget-view+json": {
       "model_id": "",
       "version_major": 2,
       "version_minor": 0
      },
      "text/plain": [
       "Validation: 0it [00:00, ?it/s]"
      ]
     },
     "metadata": {},
     "output_type": "display_data"
    },
    {
     "name": "stdout",
     "output_type": "stream",
     "text": [
      "\n",
      "Epoch: 11\n"
     ]
    },
    {
     "name": "stderr",
     "output_type": "stream",
     "text": [
      "Epoch 11, global step 3624: 'val_dice' was not in top 1\n"
     ]
    },
    {
     "data": {
      "application/vnd.jupyter.widget-view+json": {
       "model_id": "",
       "version_major": 2,
       "version_minor": 0
      },
      "text/plain": [
       "Validation: 0it [00:00, ?it/s]"
      ]
     },
     "metadata": {},
     "output_type": "display_data"
    },
    {
     "name": "stdout",
     "output_type": "stream",
     "text": [
      "\n",
      "Epoch: 12\n"
     ]
    },
    {
     "name": "stderr",
     "output_type": "stream",
     "text": [
      "Epoch 12, global step 3926: 'val_dice' was not in top 1\n"
     ]
    },
    {
     "data": {
      "application/vnd.jupyter.widget-view+json": {
       "model_id": "",
       "version_major": 2,
       "version_minor": 0
      },
      "text/plain": [
       "Validation: 0it [00:00, ?it/s]"
      ]
     },
     "metadata": {},
     "output_type": "display_data"
    },
    {
     "name": "stdout",
     "output_type": "stream",
     "text": [
      "\n",
      "Epoch: 13\n"
     ]
    },
    {
     "name": "stderr",
     "output_type": "stream",
     "text": [
      "Epoch 13, global step 4228: 'val_dice' was not in top 1\n"
     ]
    },
    {
     "data": {
      "application/vnd.jupyter.widget-view+json": {
       "model_id": "",
       "version_major": 2,
       "version_minor": 0
      },
      "text/plain": [
       "Validation: 0it [00:00, ?it/s]"
      ]
     },
     "metadata": {},
     "output_type": "display_data"
    },
    {
     "name": "stdout",
     "output_type": "stream",
     "text": [
      "\n",
      "Epoch: 14\n"
     ]
    },
    {
     "name": "stderr",
     "output_type": "stream",
     "text": [
      "Metric val_loss improved by 0.002 >= min_delta = 0.0. New best score: 0.392\n",
      "Epoch 14, global step 4530: 'val_dice' reached 0.61270 (best 0.61270), saving model to '/home/albert/ml/Contrails/notebooks/full_dataset/test_use_all_bands/resnest26d_ash_attention_sample_loss/resnest101e_alpha=0.5_alpha_union=0.9_weight_ground_truth=0.45.ckpt' as top 1\n"
     ]
    },
    {
     "data": {
      "application/vnd.jupyter.widget-view+json": {
       "model_id": "",
       "version_major": 2,
       "version_minor": 0
      },
      "text/plain": [
       "Validation: 0it [00:00, ?it/s]"
      ]
     },
     "metadata": {},
     "output_type": "display_data"
    },
    {
     "name": "stdout",
     "output_type": "stream",
     "text": [
      "\n",
      "Epoch: 15\n"
     ]
    },
    {
     "name": "stderr",
     "output_type": "stream",
     "text": [
      "Epoch 15, global step 4832: 'val_dice' was not in top 1\n"
     ]
    },
    {
     "data": {
      "application/vnd.jupyter.widget-view+json": {
       "model_id": "",
       "version_major": 2,
       "version_minor": 0
      },
      "text/plain": [
       "Validation: 0it [00:00, ?it/s]"
      ]
     },
     "metadata": {},
     "output_type": "display_data"
    },
    {
     "name": "stdout",
     "output_type": "stream",
     "text": [
      "\n",
      "Epoch: 16\n"
     ]
    },
    {
     "name": "stderr",
     "output_type": "stream",
     "text": [
      "Epoch 16, global step 5134: 'val_dice' was not in top 1\n"
     ]
    },
    {
     "data": {
      "application/vnd.jupyter.widget-view+json": {
       "model_id": "",
       "version_major": 2,
       "version_minor": 0
      },
      "text/plain": [
       "Validation: 0it [00:00, ?it/s]"
      ]
     },
     "metadata": {},
     "output_type": "display_data"
    },
    {
     "name": "stdout",
     "output_type": "stream",
     "text": [
      "\n",
      "Epoch: 17\n"
     ]
    },
    {
     "name": "stderr",
     "output_type": "stream",
     "text": [
      "Metric val_loss improved by 0.002 >= min_delta = 0.0. New best score: 0.389\n",
      "Epoch 17, global step 5436: 'val_dice' reached 0.61668 (best 0.61668), saving model to '/home/albert/ml/Contrails/notebooks/full_dataset/test_use_all_bands/resnest26d_ash_attention_sample_loss/resnest101e_alpha=0.5_alpha_union=0.9_weight_ground_truth=0.45.ckpt' as top 1\n"
     ]
    },
    {
     "data": {
      "application/vnd.jupyter.widget-view+json": {
       "model_id": "",
       "version_major": 2,
       "version_minor": 0
      },
      "text/plain": [
       "Validation: 0it [00:00, ?it/s]"
      ]
     },
     "metadata": {},
     "output_type": "display_data"
    },
    {
     "name": "stdout",
     "output_type": "stream",
     "text": [
      "\n",
      "Epoch: 18\n"
     ]
    },
    {
     "name": "stderr",
     "output_type": "stream",
     "text": [
      "Epoch 18, global step 5738: 'val_dice' was not in top 1\n"
     ]
    },
    {
     "data": {
      "application/vnd.jupyter.widget-view+json": {
       "model_id": "",
       "version_major": 2,
       "version_minor": 0
      },
      "text/plain": [
       "Validation: 0it [00:00, ?it/s]"
      ]
     },
     "metadata": {},
     "output_type": "display_data"
    },
    {
     "name": "stdout",
     "output_type": "stream",
     "text": [
      "\n",
      "Epoch: 19\n"
     ]
    },
    {
     "name": "stderr",
     "output_type": "stream",
     "text": [
      "Epoch 19, global step 6040: 'val_dice' was not in top 1\n"
     ]
    },
    {
     "data": {
      "application/vnd.jupyter.widget-view+json": {
       "model_id": "",
       "version_major": 2,
       "version_minor": 0
      },
      "text/plain": [
       "Validation: 0it [00:00, ?it/s]"
      ]
     },
     "metadata": {},
     "output_type": "display_data"
    },
    {
     "name": "stdout",
     "output_type": "stream",
     "text": [
      "\n",
      "Epoch: 20\n"
     ]
    },
    {
     "name": "stderr",
     "output_type": "stream",
     "text": [
      "Epoch 20, global step 6342: 'val_dice' was not in top 1\n"
     ]
    },
    {
     "data": {
      "application/vnd.jupyter.widget-view+json": {
       "model_id": "",
       "version_major": 2,
       "version_minor": 0
      },
      "text/plain": [
       "Validation: 0it [00:00, ?it/s]"
      ]
     },
     "metadata": {},
     "output_type": "display_data"
    },
    {
     "name": "stdout",
     "output_type": "stream",
     "text": [
      "\n",
      "Epoch: 21\n"
     ]
    },
    {
     "name": "stderr",
     "output_type": "stream",
     "text": [
      "Epoch 21, global step 6644: 'val_dice' was not in top 1\n"
     ]
    },
    {
     "data": {
      "application/vnd.jupyter.widget-view+json": {
       "model_id": "",
       "version_major": 2,
       "version_minor": 0
      },
      "text/plain": [
       "Validation: 0it [00:00, ?it/s]"
      ]
     },
     "metadata": {},
     "output_type": "display_data"
    },
    {
     "name": "stdout",
     "output_type": "stream",
     "text": [
      "\n",
      "Epoch: 22\n"
     ]
    },
    {
     "name": "stderr",
     "output_type": "stream",
     "text": [
      "Metric val_loss improved by 0.004 >= min_delta = 0.0. New best score: 0.385\n",
      "Epoch 22, global step 6946: 'val_dice' reached 0.62001 (best 0.62001), saving model to '/home/albert/ml/Contrails/notebooks/full_dataset/test_use_all_bands/resnest26d_ash_attention_sample_loss/resnest101e_alpha=0.5_alpha_union=0.9_weight_ground_truth=0.45.ckpt' as top 1\n"
     ]
    }
   ],
   "source": [
    "alpha = 0.5\n",
    "alpha_union = 0.90\n",
    "weight_ground_truth = 0.45\n",
    "sample_union_loss(0, resnest26d_ash_attention_sample_loss, LightningModuleTrLoss, alpha = alpha,alpha_union = alpha_union, weight_ground_truth = weight_ground_truth)"
   ]
  },
  {
   "cell_type": "code",
   "execution_count": 29,
   "id": "eaec3d02-9ec2-4b19-bcc7-103e97561396",
   "metadata": {
    "collapsed": true,
    "jupyter": {
     "outputs_hidden": true
    },
    "tags": []
   },
   "outputs": [
    {
     "name": "stderr",
     "output_type": "stream",
     "text": [
      "Using 16bit Automatic Mixed Precision (AMP)\n",
      "GPU available: True (cuda), used: True\n",
      "TPU available: False, using: 0 TPU cores\n",
      "IPU available: False, using: 0 IPUs\n",
      "HPU available: False, using: 0 HPUs\n",
      "LOCAL_RANK: 0 - CUDA_VISIBLE_DEVICES: [0]\n",
      "\n",
      "  | Name        | Type     | Params\n",
      "-----------------------------------------\n",
      "0 | model       | Unet     | 25.3 M\n",
      "1 | loss_module | DiceLoss | 0     \n",
      "-----------------------------------------\n",
      "25.3 M    Trainable params\n",
      "0         Non-trainable params\n",
      "25.3 M    Total params\n",
      "101.314   Total estimated model params size (MB)\n"
     ]
    },
    {
     "data": {
      "application/vnd.jupyter.widget-view+json": {
       "model_id": "",
       "version_major": 2,
       "version_minor": 0
      },
      "text/plain": [
       "Sanity Checking: 0it [00:00, ?it/s]"
      ]
     },
     "metadata": {},
     "output_type": "display_data"
    },
    {
     "name": "stdout",
     "output_type": "stream",
     "text": [
      "\n",
      "Epoch: 0\n"
     ]
    },
    {
     "data": {
      "application/vnd.jupyter.widget-view+json": {
       "model_id": "55ee705129ef4c2883f86954b68fdbe5",
       "version_major": 2,
       "version_minor": 0
      },
      "text/plain": [
       "Training: 0it [00:00, ?it/s]"
      ]
     },
     "metadata": {},
     "output_type": "display_data"
    },
    {
     "data": {
      "application/vnd.jupyter.widget-view+json": {
       "model_id": "",
       "version_major": 2,
       "version_minor": 0
      },
      "text/plain": [
       "Validation: 0it [00:00, ?it/s]"
      ]
     },
     "metadata": {},
     "output_type": "display_data"
    },
    {
     "name": "stdout",
     "output_type": "stream",
     "text": [
      "\n",
      "Epoch: 0\n"
     ]
    },
    {
     "name": "stderr",
     "output_type": "stream",
     "text": [
      "Metric val_loss improved. New best score: 0.512\n",
      "Epoch 0, global step 302: 'val_dice' reached 0.52243 (best 0.52243), saving model to '/home/albert/ml/Contrails/notebooks/full_dataset/test_use_all_bands/resnest26d_ash_attention_sample_loss_diff_sched/resnest101e_alpha=0.5_alpha_union=0.85_weight_ground_truth=0.45.ckpt' as top 1\n"
     ]
    },
    {
     "data": {
      "application/vnd.jupyter.widget-view+json": {
       "model_id": "",
       "version_major": 2,
       "version_minor": 0
      },
      "text/plain": [
       "Validation: 0it [00:00, ?it/s]"
      ]
     },
     "metadata": {},
     "output_type": "display_data"
    },
    {
     "name": "stdout",
     "output_type": "stream",
     "text": [
      "\n",
      "Epoch: 1\n"
     ]
    },
    {
     "name": "stderr",
     "output_type": "stream",
     "text": [
      "Metric val_loss improved by 0.044 >= min_delta = 0.0. New best score: 0.468\n",
      "Epoch 1, global step 604: 'val_dice' reached 0.54213 (best 0.54213), saving model to '/home/albert/ml/Contrails/notebooks/full_dataset/test_use_all_bands/resnest26d_ash_attention_sample_loss_diff_sched/resnest101e_alpha=0.5_alpha_union=0.85_weight_ground_truth=0.45.ckpt' as top 1\n"
     ]
    },
    {
     "data": {
      "application/vnd.jupyter.widget-view+json": {
       "model_id": "",
       "version_major": 2,
       "version_minor": 0
      },
      "text/plain": [
       "Validation: 0it [00:00, ?it/s]"
      ]
     },
     "metadata": {},
     "output_type": "display_data"
    },
    {
     "name": "stdout",
     "output_type": "stream",
     "text": [
      "\n",
      "Epoch: 2\n"
     ]
    },
    {
     "name": "stderr",
     "output_type": "stream",
     "text": [
      "Metric val_loss improved by 0.043 >= min_delta = 0.0. New best score: 0.425\n",
      "Epoch 2, global step 906: 'val_dice' reached 0.58344 (best 0.58344), saving model to '/home/albert/ml/Contrails/notebooks/full_dataset/test_use_all_bands/resnest26d_ash_attention_sample_loss_diff_sched/resnest101e_alpha=0.5_alpha_union=0.85_weight_ground_truth=0.45.ckpt' as top 1\n"
     ]
    },
    {
     "data": {
      "application/vnd.jupyter.widget-view+json": {
       "model_id": "",
       "version_major": 2,
       "version_minor": 0
      },
      "text/plain": [
       "Validation: 0it [00:00, ?it/s]"
      ]
     },
     "metadata": {},
     "output_type": "display_data"
    },
    {
     "name": "stdout",
     "output_type": "stream",
     "text": [
      "\n",
      "Epoch: 3\n"
     ]
    },
    {
     "name": "stderr",
     "output_type": "stream",
     "text": [
      "Metric val_loss improved by 0.007 >= min_delta = 0.0. New best score: 0.418\n",
      "Epoch 3, global step 1208: 'val_dice' reached 0.58935 (best 0.58935), saving model to '/home/albert/ml/Contrails/notebooks/full_dataset/test_use_all_bands/resnest26d_ash_attention_sample_loss_diff_sched/resnest101e_alpha=0.5_alpha_union=0.85_weight_ground_truth=0.45.ckpt' as top 1\n"
     ]
    },
    {
     "data": {
      "application/vnd.jupyter.widget-view+json": {
       "model_id": "",
       "version_major": 2,
       "version_minor": 0
      },
      "text/plain": [
       "Validation: 0it [00:00, ?it/s]"
      ]
     },
     "metadata": {},
     "output_type": "display_data"
    },
    {
     "name": "stdout",
     "output_type": "stream",
     "text": [
      "\n",
      "Epoch: 4\n"
     ]
    },
    {
     "name": "stderr",
     "output_type": "stream",
     "text": [
      "Epoch 4, global step 1510: 'val_dice' was not in top 1\n"
     ]
    },
    {
     "data": {
      "application/vnd.jupyter.widget-view+json": {
       "model_id": "",
       "version_major": 2,
       "version_minor": 0
      },
      "text/plain": [
       "Validation: 0it [00:00, ?it/s]"
      ]
     },
     "metadata": {},
     "output_type": "display_data"
    },
    {
     "name": "stdout",
     "output_type": "stream",
     "text": [
      "\n",
      "Epoch: 5\n"
     ]
    },
    {
     "name": "stderr",
     "output_type": "stream",
     "text": [
      "Metric val_loss improved by 0.023 >= min_delta = 0.0. New best score: 0.395\n",
      "Epoch 5, global step 1812: 'val_dice' reached 0.61148 (best 0.61148), saving model to '/home/albert/ml/Contrails/notebooks/full_dataset/test_use_all_bands/resnest26d_ash_attention_sample_loss_diff_sched/resnest101e_alpha=0.5_alpha_union=0.85_weight_ground_truth=0.45.ckpt' as top 1\n"
     ]
    },
    {
     "data": {
      "application/vnd.jupyter.widget-view+json": {
       "model_id": "",
       "version_major": 2,
       "version_minor": 0
      },
      "text/plain": [
       "Validation: 0it [00:00, ?it/s]"
      ]
     },
     "metadata": {},
     "output_type": "display_data"
    },
    {
     "name": "stdout",
     "output_type": "stream",
     "text": [
      "\n",
      "Epoch: 6\n"
     ]
    },
    {
     "name": "stderr",
     "output_type": "stream",
     "text": [
      "Metric val_loss improved by 0.006 >= min_delta = 0.0. New best score: 0.390\n",
      "Epoch 6, global step 2114: 'val_dice' reached 0.61738 (best 0.61738), saving model to '/home/albert/ml/Contrails/notebooks/full_dataset/test_use_all_bands/resnest26d_ash_attention_sample_loss_diff_sched/resnest101e_alpha=0.5_alpha_union=0.85_weight_ground_truth=0.45.ckpt' as top 1\n"
     ]
    },
    {
     "data": {
      "application/vnd.jupyter.widget-view+json": {
       "model_id": "",
       "version_major": 2,
       "version_minor": 0
      },
      "text/plain": [
       "Validation: 0it [00:00, ?it/s]"
      ]
     },
     "metadata": {},
     "output_type": "display_data"
    },
    {
     "name": "stdout",
     "output_type": "stream",
     "text": [
      "\n",
      "Epoch: 7\n"
     ]
    },
    {
     "name": "stderr",
     "output_type": "stream",
     "text": [
      "Epoch 7, global step 2416: 'val_dice' was not in top 1\n"
     ]
    },
    {
     "data": {
      "application/vnd.jupyter.widget-view+json": {
       "model_id": "",
       "version_major": 2,
       "version_minor": 0
      },
      "text/plain": [
       "Validation: 0it [00:00, ?it/s]"
      ]
     },
     "metadata": {},
     "output_type": "display_data"
    },
    {
     "name": "stdout",
     "output_type": "stream",
     "text": [
      "\n",
      "Epoch: 8\n"
     ]
    },
    {
     "name": "stderr",
     "output_type": "stream",
     "text": [
      "Metric val_loss improved by 0.002 >= min_delta = 0.0. New best score: 0.387\n",
      "Epoch 8, global step 2718: 'val_dice' reached 0.61922 (best 0.61922), saving model to '/home/albert/ml/Contrails/notebooks/full_dataset/test_use_all_bands/resnest26d_ash_attention_sample_loss_diff_sched/resnest101e_alpha=0.5_alpha_union=0.85_weight_ground_truth=0.45.ckpt' as top 1\n"
     ]
    },
    {
     "data": {
      "application/vnd.jupyter.widget-view+json": {
       "model_id": "",
       "version_major": 2,
       "version_minor": 0
      },
      "text/plain": [
       "Validation: 0it [00:00, ?it/s]"
      ]
     },
     "metadata": {},
     "output_type": "display_data"
    },
    {
     "name": "stdout",
     "output_type": "stream",
     "text": [
      "\n",
      "Epoch: 9\n"
     ]
    },
    {
     "name": "stderr",
     "output_type": "stream",
     "text": [
      "Epoch 9, global step 3020: 'val_dice' was not in top 1\n"
     ]
    },
    {
     "data": {
      "application/vnd.jupyter.widget-view+json": {
       "model_id": "",
       "version_major": 2,
       "version_minor": 0
      },
      "text/plain": [
       "Validation: 0it [00:00, ?it/s]"
      ]
     },
     "metadata": {},
     "output_type": "display_data"
    },
    {
     "name": "stdout",
     "output_type": "stream",
     "text": [
      "\n",
      "Epoch: 10\n"
     ]
    },
    {
     "name": "stderr",
     "output_type": "stream",
     "text": [
      "Metric val_loss improved by 0.001 >= min_delta = 0.0. New best score: 0.386\n",
      "Epoch 10, global step 3322: 'val_dice' reached 0.62033 (best 0.62033), saving model to '/home/albert/ml/Contrails/notebooks/full_dataset/test_use_all_bands/resnest26d_ash_attention_sample_loss_diff_sched/resnest101e_alpha=0.5_alpha_union=0.85_weight_ground_truth=0.45.ckpt' as top 1\n"
     ]
    },
    {
     "data": {
      "application/vnd.jupyter.widget-view+json": {
       "model_id": "",
       "version_major": 2,
       "version_minor": 0
      },
      "text/plain": [
       "Validation: 0it [00:00, ?it/s]"
      ]
     },
     "metadata": {},
     "output_type": "display_data"
    },
    {
     "name": "stdout",
     "output_type": "stream",
     "text": [
      "\n",
      "Epoch: 11\n"
     ]
    },
    {
     "name": "stderr",
     "output_type": "stream",
     "text": [
      "Epoch 11, global step 3624: 'val_dice' was not in top 1\n"
     ]
    },
    {
     "data": {
      "application/vnd.jupyter.widget-view+json": {
       "model_id": "",
       "version_major": 2,
       "version_minor": 0
      },
      "text/plain": [
       "Validation: 0it [00:00, ?it/s]"
      ]
     },
     "metadata": {},
     "output_type": "display_data"
    },
    {
     "name": "stdout",
     "output_type": "stream",
     "text": [
      "\n",
      "Epoch: 12\n"
     ]
    },
    {
     "name": "stderr",
     "output_type": "stream",
     "text": [
      "Epoch 12, global step 3926: 'val_dice' was not in top 1\n"
     ]
    },
    {
     "data": {
      "application/vnd.jupyter.widget-view+json": {
       "model_id": "",
       "version_major": 2,
       "version_minor": 0
      },
      "text/plain": [
       "Validation: 0it [00:00, ?it/s]"
      ]
     },
     "metadata": {},
     "output_type": "display_data"
    },
    {
     "name": "stdout",
     "output_type": "stream",
     "text": [
      "\n",
      "Epoch: 13\n"
     ]
    },
    {
     "name": "stderr",
     "output_type": "stream",
     "text": [
      "Epoch 13, global step 4228: 'val_dice' was not in top 1\n"
     ]
    },
    {
     "data": {
      "application/vnd.jupyter.widget-view+json": {
       "model_id": "",
       "version_major": 2,
       "version_minor": 0
      },
      "text/plain": [
       "Validation: 0it [00:00, ?it/s]"
      ]
     },
     "metadata": {},
     "output_type": "display_data"
    },
    {
     "name": "stdout",
     "output_type": "stream",
     "text": [
      "\n",
      "Epoch: 14\n"
     ]
    },
    {
     "name": "stderr",
     "output_type": "stream",
     "text": [
      "Epoch 14, global step 4530: 'val_dice' was not in top 1\n"
     ]
    },
    {
     "data": {
      "application/vnd.jupyter.widget-view+json": {
       "model_id": "",
       "version_major": 2,
       "version_minor": 0
      },
      "text/plain": [
       "Validation: 0it [00:00, ?it/s]"
      ]
     },
     "metadata": {},
     "output_type": "display_data"
    },
    {
     "name": "stdout",
     "output_type": "stream",
     "text": [
      "\n",
      "Epoch: 15\n"
     ]
    },
    {
     "name": "stderr",
     "output_type": "stream",
     "text": [
      "Monitored metric val_loss did not improve in the last 5 records. Best score: 0.386. Signaling Trainer to stop.\n",
      "Epoch 15, global step 4832: 'val_dice' was not in top 1\n",
      "Trainer was signaled to stop but the required `min_epochs=24` or `min_steps=None` has not been met. Training will continue...\n"
     ]
    },
    {
     "data": {
      "application/vnd.jupyter.widget-view+json": {
       "model_id": "2845e27355074cccbda16b6086f3a2b0",
       "version_major": 2,
       "version_minor": 0
      },
      "text/plain": [
       "Validation: 0it [00:00, ?it/s]"
      ]
     },
     "metadata": {},
     "output_type": "display_data"
    },
    {
     "name": "stdout",
     "output_type": "stream",
     "text": [
      "\n",
      "Epoch: 16\n"
     ]
    },
    {
     "name": "stderr",
     "output_type": "stream",
     "text": [
      "Monitored metric val_loss did not improve in the last 6 records. Best score: 0.386. Signaling Trainer to stop.\n",
      "Epoch 16, global step 5134: 'val_dice' was not in top 1\n",
      "[rank: 0] Received SIGTERM: 15\n",
      "[rank: 0] Received SIGTERM: 15\n",
      "[rank: 0] Received SIGTERM: 15\n"
     ]
    }
   ],
   "source": [
    "alpha = 0.5\n",
    "alpha_union = 0.85\n",
    "weight_ground_truth = 0.45\n",
    "sample_union_loss(0, resnest26d_ash_attention_sample_loss_diff_sched, LightningModuleTrLoss, alpha = alpha,alpha_union = alpha_union, weight_ground_truth = weight_ground_truth)"
   ]
  },
  {
   "cell_type": "code",
   "execution_count": null,
   "id": "265f0dfd-dcd5-439c-bfd3-bd3049e0de65",
   "metadata": {},
   "outputs": [],
   "source": [
    "alpha = 0.5\n",
    "alpha_union = 0.85\n",
    "weight_ground_truth = 1\n",
    "sample_union_loss(0, resnest26d_ash_attention_sample_loss_diff_sched, LightningModuleTrLoss, alpha = alpha,alpha_union = alpha_union, weight_ground_truth = weight_ground_truth)"
   ]
  },
  {
   "cell_type": "code",
   "execution_count": 111,
   "id": "41a5ad19-93bb-4cd8-9987-fac698af4891",
   "metadata": {},
   "outputs": [
    {
     "name": "stdout",
     "output_type": "stream",
     "text": [
      "Decoder_Attention max: 0.625\n",
      "Decoder_Attention_Tversky_a6b4 max: 0.628\n",
      "Decoder_Attention_Tversky_a4b6 max: 0.621\n",
      "Decoder_Attention_512 max: 0.628\n"
     ]
    },
    {
     "data": {
      "image/png": "[encoded data removed]",
      "text/plain": [
       "<Figure size 640x480 with 1 Axes>"
      ]
     },
     "metadata": {},
     "output_type": "display_data"
    }
   ],
   "source": [
    "import pandas as pd\n",
    "import matplotlib.pyplot as plt\n",
    "\n",
    "def plotDice(metrics_per_model):\n",
    "    for model_label in metrics_per_model.keys():\n",
    "        metrics = pd.read_csv(metrics_per_model[model_label])\n",
    "        metrics = metrics.dropna(subset = ['val_dice']).set_index(\"epoch\")\n",
    "        plt.plot(metrics['val_dice'], label=model_label)\n",
    "\n",
    "        maximum = metrics.dropna(subset = ['val_dice']).max()[\"val_dice\"]#[[\"val_dice\",\"epoch\"]]\n",
    "        print(model_label + \" max: {:.3f}\".format(maximum))\n",
    "\n",
    "    plt.legend()\n",
    "    plt.show()\n",
    "plotDice(metrics_per_model)"
   ]
  },
  {
   "cell_type": "markdown",
   "id": "9fc1808c-f973-437f-91c6-f59e80fdbeae",
   "metadata": {},
   "source": [
    "## Trying 512+long training on best model\n"
   ]
  },
  {
   "cell_type": "code",
   "execution_count": 20,
   "id": "8b0fe31f-b425-47ce-a098-6b6b5b37d74d",
   "metadata": {
    "tags": []
   },
   "outputs": [
    {
     "name": "stderr",
     "output_type": "stream",
     "text": [
      "Using 16bit Automatic Mixed Precision (AMP)\n",
      "GPU available: True (cuda), used: True\n",
      "TPU available: False, using: 0 TPU cores\n",
      "IPU available: False, using: 0 IPUs\n",
      "HPU available: False, using: 0 HPUs\n",
      "LOCAL_RANK: 0 - CUDA_VISIBLE_DEVICES: [0]\n",
      "\n",
      "  | Name        | Type     | Params\n",
      "-----------------------------------------\n",
      "0 | model       | Unet     | 56.6 M\n",
      "1 | loss_module | DiceLoss | 0     \n",
      "-----------------------------------------\n",
      "56.6 M    Trainable params\n",
      "0         Non-trainable params\n",
      "56.6 M    Total params\n",
      "226.221   Total estimated model params size (MB)\n"
     ]
    },
    {
     "data": {
      "application/vnd.jupyter.widget-view+json": {
       "model_id": "",
       "version_major": 2,
       "version_minor": 0
      },
      "text/plain": [
       "Sanity Checking: 0it [00:00, ?it/s]"
      ]
     },
     "metadata": {},
     "output_type": "display_data"
    },
    {
     "name": "stdout",
     "output_type": "stream",
     "text": [
      "\n",
      "Epoch: 0\n"
     ]
    },
    {
     "data": {
      "application/vnd.jupyter.widget-view+json": {
       "model_id": "ebd03168a9f4426f9167931163b4e6d4",
       "version_major": 2,
       "version_minor": 0
      },
      "text/plain": [
       "Training: 0it [00:00, ?it/s]"
      ]
     },
     "metadata": {},
     "output_type": "display_data"
    },
    {
     "data": {
      "application/vnd.jupyter.widget-view+json": {
       "model_id": "",
       "version_major": 2,
       "version_minor": 0
      },
      "text/plain": [
       "Validation: 0it [00:00, ?it/s]"
      ]
     },
     "metadata": {},
     "output_type": "display_data"
    },
    {
     "name": "stdout",
     "output_type": "stream",
     "text": [
      "\n",
      "Epoch: 0\n"
     ]
    },
    {
     "name": "stderr",
     "output_type": "stream",
     "text": [
      "Metric val_loss improved. New best score: 0.448\n",
      "Epoch 0, global step 1027: 'val_dice' reached 0.57075 (best 0.57075), saving model to '/home/albert/ml/Contrails/notebooks/full_dataset/test_use_all_bands/resnest101e_ash_attention_sample_loss_kfold_512/resnest101e_alpha=0.5_alpha_union=0.81_weight_ground_truth=0.5-v1.ckpt' as top 1\n"
     ]
    },
    {
     "data": {
      "application/vnd.jupyter.widget-view+json": {
       "model_id": "",
       "version_major": 2,
       "version_minor": 0
      },
      "text/plain": [
       "Validation: 0it [00:00, ?it/s]"
      ]
     },
     "metadata": {},
     "output_type": "display_data"
    },
    {
     "name": "stdout",
     "output_type": "stream",
     "text": [
      "\n",
      "Epoch: 1\n"
     ]
    },
    {
     "name": "stderr",
     "output_type": "stream",
     "text": [
      "Metric val_loss improved by 0.017 >= min_delta = 0.0. New best score: 0.431\n",
      "Epoch 1, global step 2054: 'val_dice' reached 0.57997 (best 0.57997), saving model to '/home/albert/ml/Contrails/notebooks/full_dataset/test_use_all_bands/resnest101e_ash_attention_sample_loss_kfold_512/resnest101e_alpha=0.5_alpha_union=0.81_weight_ground_truth=0.5-v1.ckpt' as top 1\n"
     ]
    },
    {
     "data": {
      "application/vnd.jupyter.widget-view+json": {
       "model_id": "",
       "version_major": 2,
       "version_minor": 0
      },
      "text/plain": [
       "Validation: 0it [00:00, ?it/s]"
      ]
     },
     "metadata": {},
     "output_type": "display_data"
    },
    {
     "name": "stdout",
     "output_type": "stream",
     "text": [
      "\n",
      "Epoch: 2\n"
     ]
    },
    {
     "name": "stderr",
     "output_type": "stream",
     "text": [
      "Metric val_loss improved by 0.001 >= min_delta = 0.0. New best score: 0.430\n",
      "Epoch 2, global step 3081: 'val_dice' reached 0.58243 (best 0.58243), saving model to '/home/albert/ml/Contrails/notebooks/full_dataset/test_use_all_bands/resnest101e_ash_attention_sample_loss_kfold_512/resnest101e_alpha=0.5_alpha_union=0.81_weight_ground_truth=0.5-v1.ckpt' as top 1\n"
     ]
    },
    {
     "data": {
      "application/vnd.jupyter.widget-view+json": {
       "model_id": "",
       "version_major": 2,
       "version_minor": 0
      },
      "text/plain": [
       "Validation: 0it [00:00, ?it/s]"
      ]
     },
     "metadata": {},
     "output_type": "display_data"
    },
    {
     "name": "stdout",
     "output_type": "stream",
     "text": [
      "\n",
      "Epoch: 3\n"
     ]
    },
    {
     "name": "stderr",
     "output_type": "stream",
     "text": [
      "Metric val_loss improved by 0.026 >= min_delta = 0.0. New best score: 0.404\n",
      "Epoch 3, global step 4108: 'val_dice' reached 0.60587 (best 0.60587), saving model to '/home/albert/ml/Contrails/notebooks/full_dataset/test_use_all_bands/resnest101e_ash_attention_sample_loss_kfold_512/resnest101e_alpha=0.5_alpha_union=0.81_weight_ground_truth=0.5-v1.ckpt' as top 1\n"
     ]
    },
    {
     "data": {
      "application/vnd.jupyter.widget-view+json": {
       "model_id": "",
       "version_major": 2,
       "version_minor": 0
      },
      "text/plain": [
       "Validation: 0it [00:00, ?it/s]"
      ]
     },
     "metadata": {},
     "output_type": "display_data"
    },
    {
     "name": "stdout",
     "output_type": "stream",
     "text": [
      "\n",
      "Epoch: 4\n"
     ]
    },
    {
     "name": "stderr",
     "output_type": "stream",
     "text": [
      "Epoch 4, global step 5135: 'val_dice' was not in top 1\n"
     ]
    },
    {
     "data": {
      "application/vnd.jupyter.widget-view+json": {
       "model_id": "",
       "version_major": 2,
       "version_minor": 0
      },
      "text/plain": [
       "Validation: 0it [00:00, ?it/s]"
      ]
     },
     "metadata": {},
     "output_type": "display_data"
    },
    {
     "name": "stdout",
     "output_type": "stream",
     "text": [
      "\n",
      "Epoch: 5\n"
     ]
    },
    {
     "name": "stderr",
     "output_type": "stream",
     "text": [
      "Epoch 5, global step 6162: 'val_dice' was not in top 1\n"
     ]
    },
    {
     "data": {
      "application/vnd.jupyter.widget-view+json": {
       "model_id": "",
       "version_major": 2,
       "version_minor": 0
      },
      "text/plain": [
       "Validation: 0it [00:00, ?it/s]"
      ]
     },
     "metadata": {},
     "output_type": "display_data"
    },
    {
     "name": "stdout",
     "output_type": "stream",
     "text": [
      "\n",
      "Epoch: 6\n"
     ]
    },
    {
     "name": "stderr",
     "output_type": "stream",
     "text": [
      "Metric val_loss improved by 0.004 >= min_delta = 0.0. New best score: 0.400\n",
      "Epoch 6, global step 7189: 'val_dice' reached 0.60955 (best 0.60955), saving model to '/home/albert/ml/Contrails/notebooks/full_dataset/test_use_all_bands/resnest101e_ash_attention_sample_loss_kfold_512/resnest101e_alpha=0.5_alpha_union=0.81_weight_ground_truth=0.5-v1.ckpt' as top 1\n"
     ]
    },
    {
     "data": {
      "application/vnd.jupyter.widget-view+json": {
       "model_id": "",
       "version_major": 2,
       "version_minor": 0
      },
      "text/plain": [
       "Validation: 0it [00:00, ?it/s]"
      ]
     },
     "metadata": {},
     "output_type": "display_data"
    },
    {
     "name": "stdout",
     "output_type": "stream",
     "text": [
      "\n",
      "Epoch: 7\n"
     ]
    },
    {
     "name": "stderr",
     "output_type": "stream",
     "text": [
      "Epoch 7, global step 8216: 'val_dice' was not in top 1\n"
     ]
    },
    {
     "data": {
      "application/vnd.jupyter.widget-view+json": {
       "model_id": "",
       "version_major": 2,
       "version_minor": 0
      },
      "text/plain": [
       "Validation: 0it [00:00, ?it/s]"
      ]
     },
     "metadata": {},
     "output_type": "display_data"
    },
    {
     "name": "stdout",
     "output_type": "stream",
     "text": [
      "\n",
      "Epoch: 8\n"
     ]
    },
    {
     "name": "stderr",
     "output_type": "stream",
     "text": [
      "Epoch 8, global step 9243: 'val_dice' was not in top 1\n"
     ]
    },
    {
     "data": {
      "application/vnd.jupyter.widget-view+json": {
       "model_id": "",
       "version_major": 2,
       "version_minor": 0
      },
      "text/plain": [
       "Validation: 0it [00:00, ?it/s]"
      ]
     },
     "metadata": {},
     "output_type": "display_data"
    },
    {
     "name": "stdout",
     "output_type": "stream",
     "text": [
      "\n",
      "Epoch: 9\n"
     ]
    },
    {
     "name": "stderr",
     "output_type": "stream",
     "text": [
      "Metric val_loss improved by 0.013 >= min_delta = 0.0. New best score: 0.387\n",
      "Epoch 9, global step 10270: 'val_dice' reached 0.61897 (best 0.61897), saving model to '/home/albert/ml/Contrails/notebooks/full_dataset/test_use_all_bands/resnest101e_ash_attention_sample_loss_kfold_512/resnest101e_alpha=0.5_alpha_union=0.81_weight_ground_truth=0.5-v1.ckpt' as top 1\n"
     ]
    },
    {
     "data": {
      "application/vnd.jupyter.widget-view+json": {
       "model_id": "",
       "version_major": 2,
       "version_minor": 0
      },
      "text/plain": [
       "Validation: 0it [00:00, ?it/s]"
      ]
     },
     "metadata": {},
     "output_type": "display_data"
    },
    {
     "name": "stdout",
     "output_type": "stream",
     "text": [
      "\n",
      "Epoch: 10\n"
     ]
    },
    {
     "name": "stderr",
     "output_type": "stream",
     "text": [
      "Metric val_loss improved by 0.010 >= min_delta = 0.0. New best score: 0.378\n",
      "Epoch 10, global step 11297: 'val_dice' reached 0.62831 (best 0.62831), saving model to '/home/albert/ml/Contrails/notebooks/full_dataset/test_use_all_bands/resnest101e_ash_attention_sample_loss_kfold_512/resnest101e_alpha=0.5_alpha_union=0.81_weight_ground_truth=0.5-v1.ckpt' as top 1\n"
     ]
    },
    {
     "data": {
      "application/vnd.jupyter.widget-view+json": {
       "model_id": "",
       "version_major": 2,
       "version_minor": 0
      },
      "text/plain": [
       "Validation: 0it [00:00, ?it/s]"
      ]
     },
     "metadata": {},
     "output_type": "display_data"
    },
    {
     "name": "stdout",
     "output_type": "stream",
     "text": [
      "\n",
      "Epoch: 11\n"
     ]
    },
    {
     "name": "stderr",
     "output_type": "stream",
     "text": [
      "Epoch 11, global step 12324: 'val_dice' was not in top 1\n"
     ]
    },
    {
     "data": {
      "application/vnd.jupyter.widget-view+json": {
       "model_id": "",
       "version_major": 2,
       "version_minor": 0
      },
      "text/plain": [
       "Validation: 0it [00:00, ?it/s]"
      ]
     },
     "metadata": {},
     "output_type": "display_data"
    },
    {
     "name": "stdout",
     "output_type": "stream",
     "text": [
      "\n",
      "Epoch: 12\n"
     ]
    },
    {
     "name": "stderr",
     "output_type": "stream",
     "text": [
      "Epoch 12, global step 13351: 'val_dice' was not in top 1\n"
     ]
    },
    {
     "data": {
      "application/vnd.jupyter.widget-view+json": {
       "model_id": "",
       "version_major": 2,
       "version_minor": 0
      },
      "text/plain": [
       "Validation: 0it [00:00, ?it/s]"
      ]
     },
     "metadata": {},
     "output_type": "display_data"
    },
    {
     "name": "stdout",
     "output_type": "stream",
     "text": [
      "\n",
      "Epoch: 13\n"
     ]
    },
    {
     "name": "stderr",
     "output_type": "stream",
     "text": [
      "Epoch 13, global step 14378: 'val_dice' was not in top 1\n"
     ]
    },
    {
     "data": {
      "application/vnd.jupyter.widget-view+json": {
       "model_id": "",
       "version_major": 2,
       "version_minor": 0
      },
      "text/plain": [
       "Validation: 0it [00:00, ?it/s]"
      ]
     },
     "metadata": {},
     "output_type": "display_data"
    },
    {
     "name": "stdout",
     "output_type": "stream",
     "text": [
      "\n",
      "Epoch: 14\n"
     ]
    },
    {
     "name": "stderr",
     "output_type": "stream",
     "text": [
      "Epoch 14, global step 15405: 'val_dice' was not in top 1\n"
     ]
    },
    {
     "data": {
      "application/vnd.jupyter.widget-view+json": {
       "model_id": "",
       "version_major": 2,
       "version_minor": 0
      },
      "text/plain": [
       "Validation: 0it [00:00, ?it/s]"
      ]
     },
     "metadata": {},
     "output_type": "display_data"
    },
    {
     "name": "stdout",
     "output_type": "stream",
     "text": [
      "\n",
      "Epoch: 15\n"
     ]
    },
    {
     "name": "stderr",
     "output_type": "stream",
     "text": [
      "Monitored metric val_loss did not improve in the last 5 records. Best score: 0.378. Signaling Trainer to stop.\n",
      "Epoch 15, global step 16432: 'val_dice' was not in top 1\n",
      "Trainer was signaled to stop but the required `min_epochs=24` or `min_steps=None` has not been met. Training will continue...\n"
     ]
    },
    {
     "data": {
      "application/vnd.jupyter.widget-view+json": {
       "model_id": "24344895f59d4c9caf354ded4967a378",
       "version_major": 2,
       "version_minor": 0
      },
      "text/plain": [
       "Validation: 0it [00:00, ?it/s]"
      ]
     },
     "metadata": {},
     "output_type": "display_data"
    },
    {
     "name": "stdout",
     "output_type": "stream",
     "text": [
      "\n",
      "Epoch: 16\n"
     ]
    },
    {
     "name": "stderr",
     "output_type": "stream",
     "text": [
      "Monitored metric val_loss did not improve in the last 6 records. Best score: 0.378. Signaling Trainer to stop.\n",
      "Epoch 16, global step 17459: 'val_dice' was not in top 1\n"
     ]
    },
    {
     "data": {
      "application/vnd.jupyter.widget-view+json": {
       "model_id": "b969ab8dd7b34210a5e828b1b02ee1d4",
       "version_major": 2,
       "version_minor": 0
      },
      "text/plain": [
       "Validation: 0it [00:00, ?it/s]"
      ]
     },
     "metadata": {},
     "output_type": "display_data"
    },
    {
     "name": "stdout",
     "output_type": "stream",
     "text": [
      "\n",
      "Epoch: 17\n"
     ]
    },
    {
     "name": "stderr",
     "output_type": "stream",
     "text": [
      "Metric val_loss improved by 0.003 >= min_delta = 0.0. New best score: 0.374\n",
      "Epoch 17, global step 18486: 'val_dice' reached 0.63226 (best 0.63226), saving model to '/home/albert/ml/Contrails/notebooks/full_dataset/test_use_all_bands/resnest101e_ash_attention_sample_loss_kfold_512/resnest101e_alpha=0.5_alpha_union=0.81_weight_ground_truth=0.5-v1.ckpt' as top 1\n"
     ]
    },
    {
     "data": {
      "application/vnd.jupyter.widget-view+json": {
       "model_id": "1add5283812a47788cada5916e7a281d",
       "version_major": 2,
       "version_minor": 0
      },
      "text/plain": [
       "Validation: 0it [00:00, ?it/s]"
      ]
     },
     "metadata": {},
     "output_type": "display_data"
    },
    {
     "name": "stdout",
     "output_type": "stream",
     "text": [
      "\n",
      "Epoch: 18\n"
     ]
    },
    {
     "name": "stderr",
     "output_type": "stream",
     "text": [
      "Epoch 18, global step 19513: 'val_dice' was not in top 1\n"
     ]
    },
    {
     "data": {
      "application/vnd.jupyter.widget-view+json": {
       "model_id": "a3325a14a3f14c1da759838467a7139f",
       "version_major": 2,
       "version_minor": 0
      },
      "text/plain": [
       "Validation: 0it [00:00, ?it/s]"
      ]
     },
     "metadata": {},
     "output_type": "display_data"
    },
    {
     "name": "stdout",
     "output_type": "stream",
     "text": [
      "\n",
      "Epoch: 19\n"
     ]
    },
    {
     "name": "stderr",
     "output_type": "stream",
     "text": [
      "Epoch 19, global step 20540: 'val_dice' was not in top 1\n"
     ]
    },
    {
     "data": {
      "application/vnd.jupyter.widget-view+json": {
       "model_id": "",
       "version_major": 2,
       "version_minor": 0
      },
      "text/plain": [
       "Validation: 0it [00:00, ?it/s]"
      ]
     },
     "metadata": {},
     "output_type": "display_data"
    },
    {
     "name": "stdout",
     "output_type": "stream",
     "text": [
      "\n",
      "Epoch: 20\n"
     ]
    },
    {
     "name": "stderr",
     "output_type": "stream",
     "text": [
      "Epoch 20, global step 21567: 'val_dice' was not in top 1\n"
     ]
    },
    {
     "data": {
      "application/vnd.jupyter.widget-view+json": {
       "model_id": "",
       "version_major": 2,
       "version_minor": 0
      },
      "text/plain": [
       "Validation: 0it [00:00, ?it/s]"
      ]
     },
     "metadata": {},
     "output_type": "display_data"
    },
    {
     "name": "stdout",
     "output_type": "stream",
     "text": [
      "\n",
      "Epoch: 21\n"
     ]
    },
    {
     "name": "stderr",
     "output_type": "stream",
     "text": [
      "Epoch 21, global step 22594: 'val_dice' was not in top 1\n"
     ]
    },
    {
     "data": {
      "application/vnd.jupyter.widget-view+json": {
       "model_id": "",
       "version_major": 2,
       "version_minor": 0
      },
      "text/plain": [
       "Validation: 0it [00:00, ?it/s]"
      ]
     },
     "metadata": {},
     "output_type": "display_data"
    },
    {
     "name": "stdout",
     "output_type": "stream",
     "text": [
      "\n",
      "Epoch: 22\n"
     ]
    },
    {
     "name": "stderr",
     "output_type": "stream",
     "text": [
      "Metric val_loss improved by 0.001 >= min_delta = 0.0. New best score: 0.374\n",
      "Epoch 22, global step 23621: 'val_dice' was not in top 1\n"
     ]
    },
    {
     "data": {
      "application/vnd.jupyter.widget-view+json": {
       "model_id": "",
       "version_major": 2,
       "version_minor": 0
      },
      "text/plain": [
       "Validation: 0it [00:00, ?it/s]"
      ]
     },
     "metadata": {},
     "output_type": "display_data"
    },
    {
     "name": "stdout",
     "output_type": "stream",
     "text": [
      "\n",
      "Epoch: 23\n"
     ]
    },
    {
     "name": "stderr",
     "output_type": "stream",
     "text": [
      "Epoch 23, global step 24648: 'val_dice' was not in top 1\n"
     ]
    }
   ],
   "source": [
    "sample_union_loss(0, resnest101e_ash_attention_sample_loss_kfold_512, LightningModuleTrLoss512, alpha = 0.5,alpha_union = 0.81, weight_ground_truth = 0.5)"
   ]
  },
  {
   "cell_type": "markdown",
   "id": "3c59f755-5948-4598-b158-b9c8b88019f0",
   "metadata": {},
   "source": [
    "## Baseline"
   ]
  },
  {
   "cell_type": "code",
   "execution_count": 135,
   "id": "e985dd21-8e3a-4798-8712-0bc6ba9657ba",
   "metadata": {
    "tags": []
   },
   "outputs": [
    {
     "name": "stderr",
     "output_type": "stream",
     "text": [
      "Using 16bit Automatic Mixed Precision (AMP)\n",
      "GPU available: True (cuda), used: True\n",
      "TPU available: False, using: 0 TPU cores\n",
      "IPU available: False, using: 0 IPUs\n",
      "HPU available: False, using: 0 HPUs\n",
      "LOCAL_RANK: 0 - CUDA_VISIBLE_DEVICES: [0]\n",
      "\n",
      "  | Name        | Type     | Params\n",
      "-----------------------------------------\n",
      "0 | model       | Unet     | 25.3 M\n",
      "1 | loss_module | DiceLoss | 0     \n",
      "-----------------------------------------\n",
      "25.3 M    Trainable params\n",
      "0         Non-trainable params\n",
      "25.3 M    Total params\n",
      "101.314   Total estimated model params size (MB)\n"
     ]
    },
    {
     "data": {
      "application/vnd.jupyter.widget-view+json": {
       "model_id": "",
       "version_major": 2,
       "version_minor": 0
      },
      "text/plain": [
       "Sanity Checking: 0it [00:00, ?it/s]"
      ]
     },
     "metadata": {},
     "output_type": "display_data"
    },
    {
     "name": "stdout",
     "output_type": "stream",
     "text": [
      "\n",
      "Epoch: 0\n"
     ]
    },
    {
     "data": {
      "application/vnd.jupyter.widget-view+json": {
       "model_id": "a30ed16096fd430a9869294d46b9880b",
       "version_major": 2,
       "version_minor": 0
      },
      "text/plain": [
       "Training: 0it [00:00, ?it/s]"
      ]
     },
     "metadata": {},
     "output_type": "display_data"
    },
    {
     "data": {
      "application/vnd.jupyter.widget-view+json": {
       "model_id": "",
       "version_major": 2,
       "version_minor": 0
      },
      "text/plain": [
       "Validation: 0it [00:00, ?it/s]"
      ]
     },
     "metadata": {},
     "output_type": "display_data"
    },
    {
     "name": "stdout",
     "output_type": "stream",
     "text": [
      "\n",
      "Epoch: 0\n"
     ]
    },
    {
     "name": "stderr",
     "output_type": "stream",
     "text": [
      "Metric val_loss improved. New best score: 0.498\n",
      "Epoch 0, global step 302: 'val_dice' reached 0.52061 (best 0.52061), saving model to '/home/albert/ml/Contrails/notebooks/full_dataset/test_use_all_bands/resnest26d_ash_attention_sample_loss/resnest101e_alpha=0.5_alpha_union=0.5_weight_ground_truth=1.ckpt' as top 1\n"
     ]
    },
    {
     "data": {
      "application/vnd.jupyter.widget-view+json": {
       "model_id": "",
       "version_major": 2,
       "version_minor": 0
      },
      "text/plain": [
       "Validation: 0it [00:00, ?it/s]"
      ]
     },
     "metadata": {},
     "output_type": "display_data"
    },
    {
     "name": "stdout",
     "output_type": "stream",
     "text": [
      "\n",
      "Epoch: 1\n"
     ]
    },
    {
     "name": "stderr",
     "output_type": "stream",
     "text": [
      "Metric val_loss improved by 0.040 >= min_delta = 0.0. New best score: 0.457\n",
      "Epoch 1, global step 604: 'val_dice' reached 0.55547 (best 0.55547), saving model to '/home/albert/ml/Contrails/notebooks/full_dataset/test_use_all_bands/resnest26d_ash_attention_sample_loss/resnest101e_alpha=0.5_alpha_union=0.5_weight_ground_truth=1.ckpt' as top 1\n"
     ]
    },
    {
     "data": {
      "application/vnd.jupyter.widget-view+json": {
       "model_id": "",
       "version_major": 2,
       "version_minor": 0
      },
      "text/plain": [
       "Validation: 0it [00:00, ?it/s]"
      ]
     },
     "metadata": {},
     "output_type": "display_data"
    },
    {
     "name": "stdout",
     "output_type": "stream",
     "text": [
      "\n",
      "Epoch: 2\n"
     ]
    },
    {
     "name": "stderr",
     "output_type": "stream",
     "text": [
      "Metric val_loss improved by 0.002 >= min_delta = 0.0. New best score: 0.455\n",
      "Epoch 2, global step 906: 'val_dice' was not in top 1\n"
     ]
    },
    {
     "data": {
      "application/vnd.jupyter.widget-view+json": {
       "model_id": "",
       "version_major": 2,
       "version_minor": 0
      },
      "text/plain": [
       "Validation: 0it [00:00, ?it/s]"
      ]
     },
     "metadata": {},
     "output_type": "display_data"
    },
    {
     "name": "stdout",
     "output_type": "stream",
     "text": [
      "\n",
      "Epoch: 3\n"
     ]
    },
    {
     "name": "stderr",
     "output_type": "stream",
     "text": [
      "Metric val_loss improved by 0.029 >= min_delta = 0.0. New best score: 0.426\n",
      "Epoch 3, global step 1208: 'val_dice' reached 0.58091 (best 0.58091), saving model to '/home/albert/ml/Contrails/notebooks/full_dataset/test_use_all_bands/resnest26d_ash_attention_sample_loss/resnest101e_alpha=0.5_alpha_union=0.5_weight_ground_truth=1.ckpt' as top 1\n"
     ]
    },
    {
     "data": {
      "application/vnd.jupyter.widget-view+json": {
       "model_id": "",
       "version_major": 2,
       "version_minor": 0
      },
      "text/plain": [
       "Validation: 0it [00:00, ?it/s]"
      ]
     },
     "metadata": {},
     "output_type": "display_data"
    },
    {
     "name": "stdout",
     "output_type": "stream",
     "text": [
      "\n",
      "Epoch: 4\n"
     ]
    },
    {
     "name": "stderr",
     "output_type": "stream",
     "text": [
      "Epoch 4, global step 1510: 'val_dice' was not in top 1\n"
     ]
    },
    {
     "data": {
      "application/vnd.jupyter.widget-view+json": {
       "model_id": "",
       "version_major": 2,
       "version_minor": 0
      },
      "text/plain": [
       "Validation: 0it [00:00, ?it/s]"
      ]
     },
     "metadata": {},
     "output_type": "display_data"
    },
    {
     "name": "stdout",
     "output_type": "stream",
     "text": [
      "\n",
      "Epoch: 5\n"
     ]
    },
    {
     "name": "stderr",
     "output_type": "stream",
     "text": [
      "Metric val_loss improved by 0.015 >= min_delta = 0.0. New best score: 0.411\n",
      "Epoch 5, global step 1812: 'val_dice' reached 0.59485 (best 0.59485), saving model to '/home/albert/ml/Contrails/notebooks/full_dataset/test_use_all_bands/resnest26d_ash_attention_sample_loss/resnest101e_alpha=0.5_alpha_union=0.5_weight_ground_truth=1.ckpt' as top 1\n"
     ]
    },
    {
     "data": {
      "application/vnd.jupyter.widget-view+json": {
       "model_id": "",
       "version_major": 2,
       "version_minor": 0
      },
      "text/plain": [
       "Validation: 0it [00:00, ?it/s]"
      ]
     },
     "metadata": {},
     "output_type": "display_data"
    },
    {
     "name": "stdout",
     "output_type": "stream",
     "text": [
      "\n",
      "Epoch: 6\n"
     ]
    },
    {
     "name": "stderr",
     "output_type": "stream",
     "text": [
      "Epoch 6, global step 2114: 'val_dice' was not in top 1\n"
     ]
    },
    {
     "data": {
      "application/vnd.jupyter.widget-view+json": {
       "model_id": "",
       "version_major": 2,
       "version_minor": 0
      },
      "text/plain": [
       "Validation: 0it [00:00, ?it/s]"
      ]
     },
     "metadata": {},
     "output_type": "display_data"
    },
    {
     "name": "stdout",
     "output_type": "stream",
     "text": [
      "\n",
      "Epoch: 7\n"
     ]
    },
    {
     "name": "stderr",
     "output_type": "stream",
     "text": [
      "Metric val_loss improved by 0.005 >= min_delta = 0.0. New best score: 0.406\n",
      "Epoch 7, global step 2416: 'val_dice' reached 0.60106 (best 0.60106), saving model to '/home/albert/ml/Contrails/notebooks/full_dataset/test_use_all_bands/resnest26d_ash_attention_sample_loss/resnest101e_alpha=0.5_alpha_union=0.5_weight_ground_truth=1.ckpt' as top 1\n"
     ]
    },
    {
     "data": {
      "application/vnd.jupyter.widget-view+json": {
       "model_id": "",
       "version_major": 2,
       "version_minor": 0
      },
      "text/plain": [
       "Validation: 0it [00:00, ?it/s]"
      ]
     },
     "metadata": {},
     "output_type": "display_data"
    },
    {
     "name": "stdout",
     "output_type": "stream",
     "text": [
      "\n",
      "Epoch: 8\n"
     ]
    },
    {
     "name": "stderr",
     "output_type": "stream",
     "text": [
      "Epoch 8, global step 2718: 'val_dice' was not in top 1\n"
     ]
    },
    {
     "data": {
      "application/vnd.jupyter.widget-view+json": {
       "model_id": "",
       "version_major": 2,
       "version_minor": 0
      },
      "text/plain": [
       "Validation: 0it [00:00, ?it/s]"
      ]
     },
     "metadata": {},
     "output_type": "display_data"
    },
    {
     "name": "stdout",
     "output_type": "stream",
     "text": [
      "\n",
      "Epoch: 9\n"
     ]
    },
    {
     "name": "stderr",
     "output_type": "stream",
     "text": [
      "Epoch 9, global step 3020: 'val_dice' was not in top 1\n"
     ]
    },
    {
     "data": {
      "application/vnd.jupyter.widget-view+json": {
       "model_id": "",
       "version_major": 2,
       "version_minor": 0
      },
      "text/plain": [
       "Validation: 0it [00:00, ?it/s]"
      ]
     },
     "metadata": {},
     "output_type": "display_data"
    },
    {
     "name": "stdout",
     "output_type": "stream",
     "text": [
      "\n",
      "Epoch: 10\n"
     ]
    },
    {
     "name": "stderr",
     "output_type": "stream",
     "text": [
      "Metric val_loss improved by 0.003 >= min_delta = 0.0. New best score: 0.404\n",
      "Epoch 10, global step 3322: 'val_dice' reached 0.60125 (best 0.60125), saving model to '/home/albert/ml/Contrails/notebooks/full_dataset/test_use_all_bands/resnest26d_ash_attention_sample_loss/resnest101e_alpha=0.5_alpha_union=0.5_weight_ground_truth=1.ckpt' as top 1\n"
     ]
    },
    {
     "data": {
      "application/vnd.jupyter.widget-view+json": {
       "model_id": "",
       "version_major": 2,
       "version_minor": 0
      },
      "text/plain": [
       "Validation: 0it [00:00, ?it/s]"
      ]
     },
     "metadata": {},
     "output_type": "display_data"
    },
    {
     "name": "stdout",
     "output_type": "stream",
     "text": [
      "\n",
      "Epoch: 11\n"
     ]
    },
    {
     "name": "stderr",
     "output_type": "stream",
     "text": [
      "Metric val_loss improved by 0.010 >= min_delta = 0.0. New best score: 0.394\n",
      "Epoch 11, global step 3624: 'val_dice' reached 0.61328 (best 0.61328), saving model to '/home/albert/ml/Contrails/notebooks/full_dataset/test_use_all_bands/resnest26d_ash_attention_sample_loss/resnest101e_alpha=0.5_alpha_union=0.5_weight_ground_truth=1.ckpt' as top 1\n"
     ]
    },
    {
     "data": {
      "application/vnd.jupyter.widget-view+json": {
       "model_id": "",
       "version_major": 2,
       "version_minor": 0
      },
      "text/plain": [
       "Validation: 0it [00:00, ?it/s]"
      ]
     },
     "metadata": {},
     "output_type": "display_data"
    },
    {
     "name": "stdout",
     "output_type": "stream",
     "text": [
      "\n",
      "Epoch: 12\n"
     ]
    },
    {
     "name": "stderr",
     "output_type": "stream",
     "text": [
      "Epoch 12, global step 3926: 'val_dice' was not in top 1\n"
     ]
    },
    {
     "data": {
      "application/vnd.jupyter.widget-view+json": {
       "model_id": "",
       "version_major": 2,
       "version_minor": 0
      },
      "text/plain": [
       "Validation: 0it [00:00, ?it/s]"
      ]
     },
     "metadata": {},
     "output_type": "display_data"
    },
    {
     "name": "stdout",
     "output_type": "stream",
     "text": [
      "\n",
      "Epoch: 13\n"
     ]
    },
    {
     "name": "stderr",
     "output_type": "stream",
     "text": [
      "Epoch 13, global step 4228: 'val_dice' was not in top 1\n"
     ]
    },
    {
     "data": {
      "application/vnd.jupyter.widget-view+json": {
       "model_id": "",
       "version_major": 2,
       "version_minor": 0
      },
      "text/plain": [
       "Validation: 0it [00:00, ?it/s]"
      ]
     },
     "metadata": {},
     "output_type": "display_data"
    },
    {
     "name": "stdout",
     "output_type": "stream",
     "text": [
      "\n",
      "Epoch: 14\n"
     ]
    },
    {
     "name": "stderr",
     "output_type": "stream",
     "text": [
      "Epoch 14, global step 4530: 'val_dice' was not in top 1\n"
     ]
    },
    {
     "data": {
      "application/vnd.jupyter.widget-view+json": {
       "model_id": "",
       "version_major": 2,
       "version_minor": 0
      },
      "text/plain": [
       "Validation: 0it [00:00, ?it/s]"
      ]
     },
     "metadata": {},
     "output_type": "display_data"
    },
    {
     "name": "stdout",
     "output_type": "stream",
     "text": [
      "\n",
      "Epoch: 15\n"
     ]
    },
    {
     "name": "stderr",
     "output_type": "stream",
     "text": [
      "Epoch 15, global step 4832: 'val_dice' was not in top 1\n"
     ]
    },
    {
     "data": {
      "application/vnd.jupyter.widget-view+json": {
       "model_id": "",
       "version_major": 2,
       "version_minor": 0
      },
      "text/plain": [
       "Validation: 0it [00:00, ?it/s]"
      ]
     },
     "metadata": {},
     "output_type": "display_data"
    },
    {
     "name": "stdout",
     "output_type": "stream",
     "text": [
      "\n",
      "Epoch: 16\n"
     ]
    },
    {
     "name": "stderr",
     "output_type": "stream",
     "text": [
      "Monitored metric val_loss did not improve in the last 5 records. Best score: 0.394. Signaling Trainer to stop.\n",
      "Epoch 16, global step 5134: 'val_dice' was not in top 1\n",
      "Trainer was signaled to stop but the required `min_epochs=24` or `min_steps=None` has not been met. Training will continue...\n"
     ]
    },
    {
     "data": {
      "application/vnd.jupyter.widget-view+json": {
       "model_id": "",
       "version_major": 2,
       "version_minor": 0
      },
      "text/plain": [
       "Validation: 0it [00:00, ?it/s]"
      ]
     },
     "metadata": {},
     "output_type": "display_data"
    },
    {
     "name": "stdout",
     "output_type": "stream",
     "text": [
      "\n",
      "Epoch: 17\n"
     ]
    },
    {
     "name": "stderr",
     "output_type": "stream",
     "text": [
      "Monitored metric val_loss did not improve in the last 6 records. Best score: 0.394. Signaling Trainer to stop.\n",
      "Epoch 17, global step 5436: 'val_dice' was not in top 1\n"
     ]
    },
    {
     "data": {
      "application/vnd.jupyter.widget-view+json": {
       "model_id": "",
       "version_major": 2,
       "version_minor": 0
      },
      "text/plain": [
       "Validation: 0it [00:00, ?it/s]"
      ]
     },
     "metadata": {},
     "output_type": "display_data"
    },
    {
     "name": "stdout",
     "output_type": "stream",
     "text": [
      "\n",
      "Epoch: 18\n"
     ]
    },
    {
     "name": "stderr",
     "output_type": "stream",
     "text": [
      "Monitored metric val_loss did not improve in the last 7 records. Best score: 0.394. Signaling Trainer to stop.\n",
      "Epoch 18, global step 5738: 'val_dice' was not in top 1\n"
     ]
    },
    {
     "data": {
      "application/vnd.jupyter.widget-view+json": {
       "model_id": "",
       "version_major": 2,
       "version_minor": 0
      },
      "text/plain": [
       "Validation: 0it [00:00, ?it/s]"
      ]
     },
     "metadata": {},
     "output_type": "display_data"
    },
    {
     "name": "stdout",
     "output_type": "stream",
     "text": [
      "\n",
      "Epoch: 19\n"
     ]
    },
    {
     "name": "stderr",
     "output_type": "stream",
     "text": [
      "Monitored metric val_loss did not improve in the last 8 records. Best score: 0.394. Signaling Trainer to stop.\n",
      "Epoch 19, global step 6040: 'val_dice' was not in top 1\n"
     ]
    },
    {
     "data": {
      "application/vnd.jupyter.widget-view+json": {
       "model_id": "",
       "version_major": 2,
       "version_minor": 0
      },
      "text/plain": [
       "Validation: 0it [00:00, ?it/s]"
      ]
     },
     "metadata": {},
     "output_type": "display_data"
    },
    {
     "name": "stdout",
     "output_type": "stream",
     "text": [
      "\n",
      "Epoch: 20\n"
     ]
    },
    {
     "name": "stderr",
     "output_type": "stream",
     "text": [
      "Monitored metric val_loss did not improve in the last 9 records. Best score: 0.394. Signaling Trainer to stop.\n",
      "Epoch 20, global step 6342: 'val_dice' was not in top 1\n"
     ]
    },
    {
     "data": {
      "application/vnd.jupyter.widget-view+json": {
       "model_id": "",
       "version_major": 2,
       "version_minor": 0
      },
      "text/plain": [
       "Validation: 0it [00:00, ?it/s]"
      ]
     },
     "metadata": {},
     "output_type": "display_data"
    },
    {
     "name": "stdout",
     "output_type": "stream",
     "text": [
      "\n",
      "Epoch: 21\n"
     ]
    },
    {
     "name": "stderr",
     "output_type": "stream",
     "text": [
      "Monitored metric val_loss did not improve in the last 10 records. Best score: 0.394. Signaling Trainer to stop.\n",
      "Epoch 21, global step 6644: 'val_dice' was not in top 1\n"
     ]
    }
   ],
   "source": [
    "sample_union_loss(0, resnest26d_ash_attention_sample_loss, LightningModuleTrLoss, alpha = 0.5,alpha_union = 0.5, weight_ground_truth = 1)"
   ]
  },
  {
   "cell_type": "code",
   "execution_count": null,
   "id": "b8cf78d9-9154-4859-989f-449cefbf37a0",
   "metadata": {
    "tags": []
   },
   "outputs": [
    {
     "name": "stderr",
     "output_type": "stream",
     "text": [
      "Using 16bit Automatic Mixed Precision (AMP)\n",
      "GPU available: True (cuda), used: True\n",
      "TPU available: False, using: 0 TPU cores\n",
      "IPU available: False, using: 0 IPUs\n",
      "HPU available: False, using: 0 HPUs\n",
      "LOCAL_RANK: 0 - CUDA_VISIBLE_DEVICES: [0]\n",
      "\n",
      "  | Name        | Type     | Params\n",
      "-----------------------------------------\n",
      "0 | model       | Unet     | 56.6 M\n",
      "1 | loss_module | DiceLoss | 0     \n",
      "-----------------------------------------\n",
      "56.6 M    Trainable params\n",
      "0         Non-trainable params\n",
      "56.6 M    Total params\n",
      "226.221   Total estimated model params size (MB)\n"
     ]
    },
    {
     "data": {
      "application/vnd.jupyter.widget-view+json": {
       "model_id": "",
       "version_major": 2,
       "version_minor": 0
      },
      "text/plain": [
       "Sanity Checking: 0it [00:00, ?it/s]"
      ]
     },
     "metadata": {},
     "output_type": "display_data"
    },
    {
     "name": "stdout",
     "output_type": "stream",
     "text": [
      "\n",
      "Epoch: 0\n"
     ]
    },
    {
     "data": {
      "application/vnd.jupyter.widget-view+json": {
       "model_id": "9f830098914348d48470d8861e50b109",
       "version_major": 2,
       "version_minor": 0
      },
      "text/plain": [
       "Training: 0it [00:00, ?it/s]"
      ]
     },
     "metadata": {},
     "output_type": "display_data"
    },
    {
     "data": {
      "application/vnd.jupyter.widget-view+json": {
       "model_id": "",
       "version_major": 2,
       "version_minor": 0
      },
      "text/plain": [
       "Validation: 0it [00:00, ?it/s]"
      ]
     },
     "metadata": {},
     "output_type": "display_data"
    },
    {
     "name": "stdout",
     "output_type": "stream",
     "text": [
      "\n",
      "Epoch: 0\n"
     ]
    },
    {
     "name": "stderr",
     "output_type": "stream",
     "text": [
      "Metric val_loss improved. New best score: 0.455\n",
      "Epoch 0, global step 1027: 'val_dice' reached 0.56197 (best 0.56197), saving model to '/home/albert/ml/Contrails/notebooks/full_dataset/test_use_all_bands/resnest101e_ash_attention_sample_loss_kfold_512/resnest101e_alpha=0.5_alpha_union=0.5_weight_ground_truth=1.ckpt' as top 1\n"
     ]
    },
    {
     "data": {
      "application/vnd.jupyter.widget-view+json": {
       "model_id": "",
       "version_major": 2,
       "version_minor": 0
      },
      "text/plain": [
       "Validation: 0it [00:00, ?it/s]"
      ]
     },
     "metadata": {},
     "output_type": "display_data"
    },
    {
     "name": "stdout",
     "output_type": "stream",
     "text": [
      "\n",
      "Epoch: 1\n"
     ]
    },
    {
     "name": "stderr",
     "output_type": "stream",
     "text": [
      "Metric val_loss improved by 0.028 >= min_delta = 0.0. New best score: 0.428\n",
      "Epoch 1, global step 2054: 'val_dice' reached 0.58437 (best 0.58437), saving model to '/home/albert/ml/Contrails/notebooks/full_dataset/test_use_all_bands/resnest101e_ash_attention_sample_loss_kfold_512/resnest101e_alpha=0.5_alpha_union=0.5_weight_ground_truth=1.ckpt' as top 1\n"
     ]
    },
    {
     "data": {
      "application/vnd.jupyter.widget-view+json": {
       "model_id": "",
       "version_major": 2,
       "version_minor": 0
      },
      "text/plain": [
       "Validation: 0it [00:00, ?it/s]"
      ]
     },
     "metadata": {},
     "output_type": "display_data"
    },
    {
     "name": "stdout",
     "output_type": "stream",
     "text": [
      "\n",
      "Epoch: 2\n"
     ]
    },
    {
     "name": "stderr",
     "output_type": "stream",
     "text": [
      "Epoch 2, global step 3081: 'val_dice' was not in top 1\n"
     ]
    },
    {
     "data": {
      "application/vnd.jupyter.widget-view+json": {
       "model_id": "",
       "version_major": 2,
       "version_minor": 0
      },
      "text/plain": [
       "Validation: 0it [00:00, ?it/s]"
      ]
     },
     "metadata": {},
     "output_type": "display_data"
    },
    {
     "name": "stdout",
     "output_type": "stream",
     "text": [
      "\n",
      "Epoch: 3\n"
     ]
    },
    {
     "name": "stderr",
     "output_type": "stream",
     "text": [
      "Metric val_loss improved by 0.017 >= min_delta = 0.0. New best score: 0.411\n",
      "Epoch 3, global step 4108: 'val_dice' reached 0.59703 (best 0.59703), saving model to '/home/albert/ml/Contrails/notebooks/full_dataset/test_use_all_bands/resnest101e_ash_attention_sample_loss_kfold_512/resnest101e_alpha=0.5_alpha_union=0.5_weight_ground_truth=1.ckpt' as top 1\n"
     ]
    },
    {
     "data": {
      "application/vnd.jupyter.widget-view+json": {
       "model_id": "",
       "version_major": 2,
       "version_minor": 0
      },
      "text/plain": [
       "Validation: 0it [00:00, ?it/s]"
      ]
     },
     "metadata": {},
     "output_type": "display_data"
    },
    {
     "name": "stdout",
     "output_type": "stream",
     "text": [
      "\n",
      "Epoch: 4\n"
     ]
    },
    {
     "name": "stderr",
     "output_type": "stream",
     "text": [
      "Metric val_loss improved by 0.018 >= min_delta = 0.0. New best score: 0.393\n",
      "Epoch 4, global step 5135: 'val_dice' reached 0.61635 (best 0.61635), saving model to '/home/albert/ml/Contrails/notebooks/full_dataset/test_use_all_bands/resnest101e_ash_attention_sample_loss_kfold_512/resnest101e_alpha=0.5_alpha_union=0.5_weight_ground_truth=1.ckpt' as top 1\n"
     ]
    },
    {
     "data": {
      "application/vnd.jupyter.widget-view+json": {
       "model_id": "",
       "version_major": 2,
       "version_minor": 0
      },
      "text/plain": [
       "Validation: 0it [00:00, ?it/s]"
      ]
     },
     "metadata": {},
     "output_type": "display_data"
    },
    {
     "name": "stdout",
     "output_type": "stream",
     "text": [
      "\n",
      "Epoch: 5\n"
     ]
    },
    {
     "name": "stderr",
     "output_type": "stream",
     "text": [
      "Epoch 5, global step 6162: 'val_dice' was not in top 1\n"
     ]
    },
    {
     "data": {
      "application/vnd.jupyter.widget-view+json": {
       "model_id": "",
       "version_major": 2,
       "version_minor": 0
      },
      "text/plain": [
       "Validation: 0it [00:00, ?it/s]"
      ]
     },
     "metadata": {},
     "output_type": "display_data"
    },
    {
     "name": "stdout",
     "output_type": "stream",
     "text": [
      "\n",
      "Epoch: 6\n"
     ]
    },
    {
     "name": "stderr",
     "output_type": "stream",
     "text": [
      "Epoch 6, global step 7189: 'val_dice' was not in top 1\n"
     ]
    },
    {
     "data": {
      "application/vnd.jupyter.widget-view+json": {
       "model_id": "",
       "version_major": 2,
       "version_minor": 0
      },
      "text/plain": [
       "Validation: 0it [00:00, ?it/s]"
      ]
     },
     "metadata": {},
     "output_type": "display_data"
    },
    {
     "name": "stdout",
     "output_type": "stream",
     "text": [
      "\n",
      "Epoch: 7\n"
     ]
    },
    {
     "name": "stderr",
     "output_type": "stream",
     "text": [
      "Metric val_loss improved by 0.001 >= min_delta = 0.0. New best score: 0.392\n",
      "Epoch 7, global step 8216: 'val_dice' reached 0.61875 (best 0.61875), saving model to '/home/albert/ml/Contrails/notebooks/full_dataset/test_use_all_bands/resnest101e_ash_attention_sample_loss_kfold_512/resnest101e_alpha=0.5_alpha_union=0.5_weight_ground_truth=1.ckpt' as top 1\n"
     ]
    },
    {
     "data": {
      "application/vnd.jupyter.widget-view+json": {
       "model_id": "",
       "version_major": 2,
       "version_minor": 0
      },
      "text/plain": [
       "Validation: 0it [00:00, ?it/s]"
      ]
     },
     "metadata": {},
     "output_type": "display_data"
    },
    {
     "name": "stdout",
     "output_type": "stream",
     "text": [
      "\n",
      "Epoch: 8\n"
     ]
    },
    {
     "name": "stderr",
     "output_type": "stream",
     "text": [
      "Metric val_loss improved by 0.008 >= min_delta = 0.0. New best score: 0.384\n",
      "Epoch 8, global step 9243: 'val_dice' reached 0.62507 (best 0.62507), saving model to '/home/albert/ml/Contrails/notebooks/full_dataset/test_use_all_bands/resnest101e_ash_attention_sample_loss_kfold_512/resnest101e_alpha=0.5_alpha_union=0.5_weight_ground_truth=1.ckpt' as top 1\n"
     ]
    },
    {
     "data": {
      "application/vnd.jupyter.widget-view+json": {
       "model_id": "",
       "version_major": 2,
       "version_minor": 0
      },
      "text/plain": [
       "Validation: 0it [00:00, ?it/s]"
      ]
     },
     "metadata": {},
     "output_type": "display_data"
    },
    {
     "name": "stdout",
     "output_type": "stream",
     "text": [
      "\n",
      "Epoch: 9\n"
     ]
    },
    {
     "name": "stderr",
     "output_type": "stream",
     "text": [
      "Epoch 9, global step 10270: 'val_dice' was not in top 1\n"
     ]
    },
    {
     "data": {
      "application/vnd.jupyter.widget-view+json": {
       "model_id": "",
       "version_major": 2,
       "version_minor": 0
      },
      "text/plain": [
       "Validation: 0it [00:00, ?it/s]"
      ]
     },
     "metadata": {},
     "output_type": "display_data"
    },
    {
     "name": "stdout",
     "output_type": "stream",
     "text": [
      "\n",
      "Epoch: 10\n"
     ]
    },
    {
     "name": "stderr",
     "output_type": "stream",
     "text": [
      "Epoch 10, global step 11297: 'val_dice' was not in top 1\n"
     ]
    },
    {
     "data": {
      "application/vnd.jupyter.widget-view+json": {
       "model_id": "",
       "version_major": 2,
       "version_minor": 0
      },
      "text/plain": [
       "Validation: 0it [00:00, ?it/s]"
      ]
     },
     "metadata": {},
     "output_type": "display_data"
    },
    {
     "name": "stdout",
     "output_type": "stream",
     "text": [
      "\n",
      "Epoch: 11\n"
     ]
    },
    {
     "name": "stderr",
     "output_type": "stream",
     "text": [
      "Epoch 11, global step 12324: 'val_dice' was not in top 1\n"
     ]
    },
    {
     "data": {
      "application/vnd.jupyter.widget-view+json": {
       "model_id": "",
       "version_major": 2,
       "version_minor": 0
      },
      "text/plain": [
       "Validation: 0it [00:00, ?it/s]"
      ]
     },
     "metadata": {},
     "output_type": "display_data"
    },
    {
     "name": "stdout",
     "output_type": "stream",
     "text": [
      "\n",
      "Epoch: 12\n"
     ]
    },
    {
     "name": "stderr",
     "output_type": "stream",
     "text": [
      "Epoch 12, global step 13351: 'val_dice' was not in top 1\n"
     ]
    }
   ],
   "source": [
    "sample_union_loss(0, resnest101e_ash_attention_sample_loss_kfold_512, LightningModuleTrLoss512, alpha = 0.5,alpha_union = 0.5, weight_ground_truth = 1)"
   ]
  },
  {
   "cell_type": "markdown",
   "id": "13e089f2-5ed3-4fb7-ad0c-8affa5c97991",
   "metadata": {},
   "source": [
    "1. Bei nicht benutzung von k folds und den unterschiedlichen verteilungen der klassen in val/train ist tversky_loss mit a>b marginal besser als dice loss in val_dice\n",
    "2. Image size größer scheint val_dice zu verbessern bei verlängerter lr\n"
   ]
  }
 ],
 "metadata": {
  "kernelspec": {
   "display_name": "Python 3.11.3 (pytorch_gpu)",
   "language": "python",
   "name": "pytorch_gpu"
  },
  "language_info": {
   "codemirror_mode": {
    "name": "ipython",
    "version": 3
   },
   "file_extension": ".py",
   "mimetype": "text/x-python",
   "name": "python",
   "nbconvert_exporter": "python",
   "pygments_lexer": "ipython3",
   "version": "3.11.4"
  }
 },
 "nbformat": 4,
 "nbformat_minor": 5
}
